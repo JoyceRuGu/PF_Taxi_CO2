{
 "cells": [
  {
   "cell_type": "code",
   "execution_count": 1,
   "metadata": {},
   "outputs": [],
   "source": [
    "# Importar librerias\n",
    "import pandas as pd\n",
    "import glob"
   ]
  },
  {
   "cell_type": "markdown",
   "metadata": {},
   "source": [
    "### 3. Union de los archivos del año 2023."
   ]
  },
  {
   "cell_type": "code",
   "execution_count": 2,
   "metadata": {},
   "outputs": [],
   "source": [
    "# Se obtiene lista de los archivos parquet del año 2023\n",
    "archivos_parquet_2023 = glob.glob(\"C:/Users/User/Desktop/PF_NYC_CO2/WebScraping/Taxi_2023/*.parquet\")\n",
    "# Se lee cada archivo parquet en un DataFrame de pandas\n",
    "dfs2023 = [pd.read_parquet(f) for f in archivos_parquet_2023]\n",
    "# Se unen los dataframes en uno\n",
    "df_2023 = pd.concat(dfs2023)"
   ]
  },
  {
   "cell_type": "code",
   "execution_count": 4,
   "metadata": {},
   "outputs": [],
   "source": [
    "# Se guarda el DataFrame resultante en un archivo Parquet\n",
    "df_2023.to_parquet('Taxi_2023.parquet', index=False)"
   ]
  }
 ],
 "metadata": {
  "kernelspec": {
   "display_name": "Python 3",
   "language": "python",
   "name": "python3"
  },
  "language_info": {
   "codemirror_mode": {
    "name": "ipython",
    "version": 3
   },
   "file_extension": ".py",
   "mimetype": "text/x-python",
   "name": "python",
   "nbconvert_exporter": "python",
   "pygments_lexer": "ipython3",
   "version": "3.11.4"
  }
 },
 "nbformat": 4,
 "nbformat_minor": 2
}
