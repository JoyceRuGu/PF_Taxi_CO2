{
 "cells": [
  {
   "cell_type": "markdown",
   "metadata": {},
   "source": [
    "# Dicccionario "
   ]
  },
  {
   "cell_type": "markdown",
   "metadata": {},
   "source": [
    "### Data warehouse"
   ]
  },
  {
   "cell_type": "markdown",
   "metadata": {},
   "source": [
    "    | Columna            | Descripción                                                             |\n",
    "    |--------------------|-------------------------------------------------------------------------|\n",
    "    | PULocationID       | Id único de la zona en la que se activó el taxímetro                    |\n",
    "    | Zone       \t\t  | Zona                                                \t\t\t\t   |\n",
    "    | Viaje_Id           | Id del viaje                                                            |\n",
    "    | Hour          \t  | Hora del viaje                           \t\t\t\t\t\t       |\n",
    "    | Dayofweek          | Día de la semana                                                        |\n",
    "    | Demanda            | Demanda de servicios en la zona                                         |\n",
    "    | Car_Id             |                                                                         |\n",
    "    | Brand              | Potencia máxima de carga admitida por el vehículo. Se mide en  kilovatios (kW)|\n",
    "    | Model              | Modelo del vehículo                                                     |\n",
    "    | FastCharge_miH     | Velocidad de carga rápida del vehículo en millas por hora (mi/H)        |\n",
    "    | Efficiency_Whmi    | Clasificación de eficiencia energética del vehículo en vatios-hora por milla (Wh/mi)|\n",
    "    | RapidCharge:       | Indica si el vehículo es carga rápida.                                  |\n",
    "    | Range_Miles        | Rango de millas                                                         |\n",
    "    | PriceDollar        | Precio del vehículo en dólar.                                           |\n",
    "    | Borough            | Nombre del distrito                                                     |\n",
    "    | ContaminacionID    |                                                                         |\n",
    "    | Latitude           | Latitud de la ubicación de la estación de servicio.                     |\n",
    "    | Longitude          | Longitud de la ubicación de la estación de servicio.                    |\n",
    "    | Year               | El año en el que se registró el sonido                                  |\n",
    "    | Day                | El día del año en el que se registró el sonido                          |\n",
    "    | Hour               | La hora del día en la que se registró el sonido.                        |\n",
    "    | Engine_Sound       |                                                                         |\n",
    "    | TaxiID             |                                                                         |\n",
    "    | BoroughID          | Id único del distrito                                                   |\n",
    "    | Service_Zone       | Zona de servicio                                                        |\n",
    "    | Passenger_Count    | El número de pasajeros en el vehículo                                   |\n",
    "    | Trip_Distance      | La distancia de viaje transcurrida en millas informada por el taxímetro |\n",
    "    | DOLocationID       | Zona de taxis de TLC en la que se desactivó el taxímetro                |\n",
    "    | RatecodeID         | El código de tarifa final vigente al final del viaje                    |\n",
    "    | Store_and_fwd_flag | Esta marca indica si el registro de viaje se mantuvo en la memoria del \n",
    "                           vehículo antes de enviarlo al proveedor, también conocido como \"almacenar \n",
    "                           y reenviar\", porque el vehículo no tenía conexión con el servidor       |\n",
    "    | Total_Amount       | El importe total cobrado a los pasajeros. No incluye propinas en efectivo|\n",
    "    | Date_pickup        | Fecha de recogida del viaje                                             |\n",
    "    | Time_pickup        | Hora de recogida del viaje                                              |\n",
    "    | Date_dropoff       | Fecha de finalización del viaje                                         |\n",
    "    | Time_dropoff       | Hora de finalización del viaje                                          |"
   ]
  }
 ],
 "metadata": {
  "kernelspec": {
   "display_name": "Python 3",
   "language": "python",
   "name": "python3"
  },
  "language_info": {
   "codemirror_mode": {
    "name": "ipython",
    "version": 3
   },
   "file_extension": ".py",
   "mimetype": "text/x-python",
   "name": "python",
   "nbconvert_exporter": "python",
   "pygments_lexer": "ipython3",
   "version": "3.11.4"
  }
 },
 "nbformat": 4,
 "nbformat_minor": 2
}
