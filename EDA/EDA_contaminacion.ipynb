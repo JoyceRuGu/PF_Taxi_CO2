{
 "cells": [
  {
   "cell_type": "markdown",
   "metadata": {},
   "source": [
    "## Análisis Exploratorio de Datos (EDA)"
   ]
  },
  {
   "cell_type": "markdown",
   "metadata": {},
   "source": [
    "### Importación de las bibliotecas necesarias"
   ]
  },
  {
   "cell_type": "code",
   "execution_count": 1,
   "metadata": {},
   "outputs": [
    {
     "name": "stdout",
     "output_type": "stream",
     "text": [
      "Imported v0.1.804. After importing autoviz, you must run '%matplotlib inline' to display charts inline.\n",
      "    AV = AutoViz_Class()\n",
      "    dfte = AV.AutoViz(filename, sep=',', depVar='', dfte=None, header=0, verbose=1, lowess=False,\n",
      "               chart_format='svg',max_rows_analyzed=150000,max_cols_analyzed=30, save_plot_dir=None)\n"
     ]
    }
   ],
   "source": [
    "import pandas as pd\n",
    "import numpy as np\n",
    "import seaborn as sns\n",
    "import matplotlib.pyplot as plt\n",
    "import plotly.express as px\n",
    "from autoviz.AutoViz_Class import AutoViz_Class"
   ]
  },
  {
   "cell_type": "markdown",
   "metadata": {},
   "source": [
    "### Importación de archivos"
   ]
  },
  {
   "cell_type": "code",
   "execution_count": 2,
   "metadata": {},
   "outputs": [],
   "source": [
    "df_aire = pd.read_csv(\"aire_cleaned.csv\")\n",
    "df_sonidos = pd.read_csv(\"sonidos_cleaned.csv\")"
   ]
  },
  {
   "cell_type": "code",
   "execution_count": 3,
   "metadata": {},
   "outputs": [
    {
     "name": "stdout",
     "output_type": "stream",
     "text": [
      "<class 'pandas.core.frame.DataFrame'>\n",
      "RangeIndex: 8586 entries, 0 to 8585\n",
      "Data columns (total 7 columns):\n",
      " #   Column        Non-Null Count  Dtype  \n",
      "---  ------        --------------  -----  \n",
      " 0   Borough       8586 non-null   int64  \n",
      " 1   Latitude      8586 non-null   float64\n",
      " 2   Longitude     8586 non-null   float64\n",
      " 3   Year          8586 non-null   int64  \n",
      " 4   Day           8586 non-null   int64  \n",
      " 5   Hour          8586 non-null   int64  \n",
      " 6   Engine Sound  8586 non-null   object \n",
      "dtypes: float64(2), int64(4), object(1)\n",
      "memory usage: 469.7+ KB\n"
     ]
    }
   ],
   "source": [
    "df_sonidos.info()"
   ]
  },
  {
   "attachments": {},
   "cell_type": "markdown",
   "metadata": {},
   "source": [
    "## ANALISIS DE LOS DATOS (NULOS, DUPLICADOS, ETC)"
   ]
  },
  {
   "cell_type": "code",
   "execution_count": 4,
   "metadata": {},
   "outputs": [
    {
     "name": "stdout",
     "output_type": "stream",
     "text": [
      "    Since nrows is smaller than dataset, loading random sample of 8500 rows into pandas...\n",
      "Shape of your Data Set loaded: (8500, 7)\n",
      "#######################################################################################\n",
      "######################## C L A S S I F Y I N G  V A R I A B L E S  ####################\n",
      "#######################################################################################\n",
      "Classifying variables in data set...\n",
      "  Printing upto 30 columns (max) in each category:\n",
      "    Numeric Columns : ['Latitude', 'Longitude']\n",
      "    Integer-Categorical Columns: ['Borough', 'Day', 'Hour']\n",
      "    String-Categorical Columns: ['Engine Sound']\n",
      "    Factor-Categorical Columns: []\n",
      "    String-Boolean Columns: []\n",
      "    Numeric-Boolean Columns: ['Year']\n",
      "    Discrete String Columns: []\n",
      "    NLP text Columns: []\n",
      "    Date Time Columns: []\n",
      "    ID Columns: []\n",
      "    Columns that will not be considered in modeling: []\n",
      "    7 Predictors classified...\n",
      "        No variables removed since no ID or low-information variables found in data set\n",
      "Since Number of Rows in data 8500 exceeds maximum, randomly sampling 8500 rows for EDA...\n",
      "   Columns to delete:\n",
      "'   []'\n",
      "   Boolean variables %s \n",
      "\"   ['Year']\"\n",
      "   Categorical variables %s \n",
      "\"   ['Engine Sound', 'Borough', 'Day', 'Hour', 'Year']\"\n",
      "   Continuous variables %s \n",
      "\"   ['Latitude', 'Longitude']\"\n",
      "   Discrete string variables %s \n",
      "'   []'\n",
      "   Date and time variables %s \n",
      "'   []'\n",
      "   ID variables %s \n",
      "'   []'\n",
      "   Target variable %s \n",
      "'   '\n",
      "To fix these data quality issues in the dataset, import FixDQ from autoviz...\n",
      "    All variables classified into correct types.\n"
     ]
    },
    {
     "data": {
      "text/html": [
       "<style type=\"text/css\">\n",
       "#T_9bba1_row0_col0, #T_9bba1_row0_col2, #T_9bba1_row0_col3, #T_9bba1_row0_col4, #T_9bba1_row0_col5, #T_9bba1_row1_col0, #T_9bba1_row1_col2, #T_9bba1_row1_col3, #T_9bba1_row1_col4, #T_9bba1_row1_col5, #T_9bba1_row2_col0, #T_9bba1_row2_col2, #T_9bba1_row2_col3, #T_9bba1_row2_col4, #T_9bba1_row2_col5, #T_9bba1_row3_col0, #T_9bba1_row3_col2, #T_9bba1_row3_col3, #T_9bba1_row3_col4, #T_9bba1_row3_col5, #T_9bba1_row4_col0, #T_9bba1_row4_col2, #T_9bba1_row4_col3, #T_9bba1_row4_col4, #T_9bba1_row4_col5, #T_9bba1_row5_col0, #T_9bba1_row5_col2, #T_9bba1_row5_col3, #T_9bba1_row5_col4, #T_9bba1_row5_col5, #T_9bba1_row6_col0, #T_9bba1_row6_col2, #T_9bba1_row6_col3, #T_9bba1_row6_col4, #T_9bba1_row6_col5 {\n",
       "  font-family: Segoe UI;\n",
       "}\n",
       "#T_9bba1_row0_col1, #T_9bba1_row1_col1, #T_9bba1_row2_col1, #T_9bba1_row3_col1, #T_9bba1_row4_col1, #T_9bba1_row5_col1, #T_9bba1_row6_col1 {\n",
       "  background-color: #fff5f0;\n",
       "  color: #000000;\n",
       "  font-family: Segoe UI;\n",
       "}\n",
       "</style>\n",
       "<table id=\"T_9bba1\">\n",
       "  <thead>\n",
       "    <tr>\n",
       "      <th class=\"blank level0\" >&nbsp;</th>\n",
       "      <th id=\"T_9bba1_level0_col0\" class=\"col_heading level0 col0\" >Data Type</th>\n",
       "      <th id=\"T_9bba1_level0_col1\" class=\"col_heading level0 col1\" >Missing Values%</th>\n",
       "      <th id=\"T_9bba1_level0_col2\" class=\"col_heading level0 col2\" >Unique Values%</th>\n",
       "      <th id=\"T_9bba1_level0_col3\" class=\"col_heading level0 col3\" >Minimum Value</th>\n",
       "      <th id=\"T_9bba1_level0_col4\" class=\"col_heading level0 col4\" >Maximum Value</th>\n",
       "      <th id=\"T_9bba1_level0_col5\" class=\"col_heading level0 col5\" >DQ Issue</th>\n",
       "    </tr>\n",
       "  </thead>\n",
       "  <tbody>\n",
       "    <tr>\n",
       "      <th id=\"T_9bba1_level0_row0\" class=\"row_heading level0 row0\" >Borough</th>\n",
       "      <td id=\"T_9bba1_row0_col0\" class=\"data row0 col0\" >int64</td>\n",
       "      <td id=\"T_9bba1_row0_col1\" class=\"data row0 col1\" >0.000000</td>\n",
       "      <td id=\"T_9bba1_row0_col2\" class=\"data row0 col2\" >0</td>\n",
       "      <td id=\"T_9bba1_row0_col3\" class=\"data row0 col3\" >1.000000</td>\n",
       "      <td id=\"T_9bba1_row0_col4\" class=\"data row0 col4\" >4.000000</td>\n",
       "      <td id=\"T_9bba1_row0_col5\" class=\"data row0 col5\" >Column has 698 outliers greater than upper bound (1.00) or lower than lower bound(1.00). Cap them or remove them.</td>\n",
       "    </tr>\n",
       "    <tr>\n",
       "      <th id=\"T_9bba1_level0_row1\" class=\"row_heading level0 row1\" >Latitude</th>\n",
       "      <td id=\"T_9bba1_row1_col0\" class=\"data row1 col0\" >float64</td>\n",
       "      <td id=\"T_9bba1_row1_col1\" class=\"data row1 col1\" >0.000000</td>\n",
       "      <td id=\"T_9bba1_row1_col2\" class=\"data row1 col2\" >NA</td>\n",
       "      <td id=\"T_9bba1_row1_col3\" class=\"data row1 col3\" >40.675170</td>\n",
       "      <td id=\"T_9bba1_row1_col4\" class=\"data row1 col4\" >40.779910</td>\n",
       "      <td id=\"T_9bba1_row1_col5\" class=\"data row1 col5\" >Column has 1718 outliers greater than upper bound (40.74) or lower than lower bound(40.72). Cap them or remove them.</td>\n",
       "    </tr>\n",
       "    <tr>\n",
       "      <th id=\"T_9bba1_level0_row2\" class=\"row_heading level0 row2\" >Longitude</th>\n",
       "      <td id=\"T_9bba1_row2_col0\" class=\"data row2 col0\" >float64</td>\n",
       "      <td id=\"T_9bba1_row2_col1\" class=\"data row2 col1\" >0.000000</td>\n",
       "      <td id=\"T_9bba1_row2_col2\" class=\"data row2 col2\" >NA</td>\n",
       "      <td id=\"T_9bba1_row2_col3\" class=\"data row2 col3\" >-74.015760</td>\n",
       "      <td id=\"T_9bba1_row2_col4\" class=\"data row2 col4\" >-73.851840</td>\n",
       "      <td id=\"T_9bba1_row2_col5\" class=\"data row2 col5\" >Column has 1052 outliers greater than upper bound (-73.98) or lower than lower bound(-74.00). Cap them or remove them.</td>\n",
       "    </tr>\n",
       "    <tr>\n",
       "      <th id=\"T_9bba1_level0_row3\" class=\"row_heading level0 row3\" >Year</th>\n",
       "      <td id=\"T_9bba1_row3_col0\" class=\"data row3 col0\" >int64</td>\n",
       "      <td id=\"T_9bba1_row3_col1\" class=\"data row3 col1\" >0.000000</td>\n",
       "      <td id=\"T_9bba1_row3_col2\" class=\"data row3 col2\" >0</td>\n",
       "      <td id=\"T_9bba1_row3_col3\" class=\"data row3 col3\" >2018.000000</td>\n",
       "      <td id=\"T_9bba1_row3_col4\" class=\"data row3 col4\" >2019.000000</td>\n",
       "      <td id=\"T_9bba1_row3_col5\" class=\"data row3 col5\" >No issue</td>\n",
       "    </tr>\n",
       "    <tr>\n",
       "      <th id=\"T_9bba1_level0_row4\" class=\"row_heading level0 row4\" >Day</th>\n",
       "      <td id=\"T_9bba1_row4_col0\" class=\"data row4 col0\" >int64</td>\n",
       "      <td id=\"T_9bba1_row4_col1\" class=\"data row4 col1\" >0.000000</td>\n",
       "      <td id=\"T_9bba1_row4_col2\" class=\"data row4 col2\" >0</td>\n",
       "      <td id=\"T_9bba1_row4_col3\" class=\"data row4 col3\" >0.000000</td>\n",
       "      <td id=\"T_9bba1_row4_col4\" class=\"data row4 col4\" >6.000000</td>\n",
       "      <td id=\"T_9bba1_row4_col5\" class=\"data row4 col5\" >No issue</td>\n",
       "    </tr>\n",
       "    <tr>\n",
       "      <th id=\"T_9bba1_level0_row5\" class=\"row_heading level0 row5\" >Hour</th>\n",
       "      <td id=\"T_9bba1_row5_col0\" class=\"data row5 col0\" >int64</td>\n",
       "      <td id=\"T_9bba1_row5_col1\" class=\"data row5 col1\" >0.000000</td>\n",
       "      <td id=\"T_9bba1_row5_col2\" class=\"data row5 col2\" >0</td>\n",
       "      <td id=\"T_9bba1_row5_col3\" class=\"data row5 col3\" >0.000000</td>\n",
       "      <td id=\"T_9bba1_row5_col4\" class=\"data row5 col4\" >23.000000</td>\n",
       "      <td id=\"T_9bba1_row5_col5\" class=\"data row5 col5\" >No issue</td>\n",
       "    </tr>\n",
       "    <tr>\n",
       "      <th id=\"T_9bba1_level0_row6\" class=\"row_heading level0 row6\" >Engine Sound</th>\n",
       "      <td id=\"T_9bba1_row6_col0\" class=\"data row6 col0\" >object</td>\n",
       "      <td id=\"T_9bba1_row6_col1\" class=\"data row6 col1\" >0.000000</td>\n",
       "      <td id=\"T_9bba1_row6_col2\" class=\"data row6 col2\" >0</td>\n",
       "      <td id=\"T_9bba1_row6_col3\" class=\"data row6 col3\" ></td>\n",
       "      <td id=\"T_9bba1_row6_col4\" class=\"data row6 col4\" ></td>\n",
       "      <td id=\"T_9bba1_row6_col5\" class=\"data row6 col5\" >No issue</td>\n",
       "    </tr>\n",
       "  </tbody>\n",
       "</table>\n"
      ],
      "text/plain": [
       "<pandas.io.formats.style.Styler at 0x28c4eeaef20>"
      ]
     },
     "metadata": {},
     "output_type": "display_data"
    },
    {
     "name": "stdout",
     "output_type": "stream",
     "text": [
      "Number of All Scatter Plots = 3\n",
      "All Plots are saved in .\\AutoViz_Plots\\AutoViz\n",
      "Time to run AutoViz = 5 seconds \n"
     ]
    },
    {
     "data": {
      "text/html": [
       "<div>\n",
       "<style scoped>\n",
       "    .dataframe tbody tr th:only-of-type {\n",
       "        vertical-align: middle;\n",
       "    }\n",
       "\n",
       "    .dataframe tbody tr th {\n",
       "        vertical-align: top;\n",
       "    }\n",
       "\n",
       "    .dataframe thead th {\n",
       "        text-align: right;\n",
       "    }\n",
       "</style>\n",
       "<table border=\"1\" class=\"dataframe\">\n",
       "  <thead>\n",
       "    <tr style=\"text-align: center;\">\n",
       "      <th></th>\n",
       "      <th>Borough</th>\n",
       "      <th>Latitude</th>\n",
       "      <th>Longitude</th>\n",
       "      <th>Year</th>\n",
       "      <th>Day</th>\n",
       "      <th>Hour</th>\n",
       "      <th>Engine Sound</th>\n",
       "    </tr>\n",
       "  </thead>\n",
       "  <tbody>\n",
       "    <tr>\n",
       "      <th>1635</th>\n",
       "      <td>1</td>\n",
       "      <td>40.73033</td>\n",
       "      <td>-73.99870</td>\n",
       "      <td>2018</td>\n",
       "      <td>2</td>\n",
       "      <td>17</td>\n",
       "      <td>Medium</td>\n",
       "    </tr>\n",
       "    <tr>\n",
       "      <th>3483</th>\n",
       "      <td>1</td>\n",
       "      <td>40.75164</td>\n",
       "      <td>-73.97537</td>\n",
       "      <td>2018</td>\n",
       "      <td>3</td>\n",
       "      <td>17</td>\n",
       "      <td>Medium</td>\n",
       "    </tr>\n",
       "    <tr>\n",
       "      <th>2313</th>\n",
       "      <td>1</td>\n",
       "      <td>40.72977</td>\n",
       "      <td>-73.98812</td>\n",
       "      <td>2018</td>\n",
       "      <td>3</td>\n",
       "      <td>17</td>\n",
       "      <td>Medium</td>\n",
       "    </tr>\n",
       "    <tr>\n",
       "      <th>3792</th>\n",
       "      <td>1</td>\n",
       "      <td>40.73206</td>\n",
       "      <td>-73.99763</td>\n",
       "      <td>2018</td>\n",
       "      <td>4</td>\n",
       "      <td>0</td>\n",
       "      <td>High</td>\n",
       "    </tr>\n",
       "    <tr>\n",
       "      <th>8376</th>\n",
       "      <td>1</td>\n",
       "      <td>40.72105</td>\n",
       "      <td>-73.99728</td>\n",
       "      <td>2018</td>\n",
       "      <td>2</td>\n",
       "      <td>16</td>\n",
       "      <td>High</td>\n",
       "    </tr>\n",
       "    <tr>\n",
       "      <th>...</th>\n",
       "      <td>...</td>\n",
       "      <td>...</td>\n",
       "      <td>...</td>\n",
       "      <td>...</td>\n",
       "      <td>...</td>\n",
       "      <td>...</td>\n",
       "      <td>...</td>\n",
       "    </tr>\n",
       "    <tr>\n",
       "      <th>1166</th>\n",
       "      <td>4</td>\n",
       "      <td>40.73802</td>\n",
       "      <td>-73.85184</td>\n",
       "      <td>2019</td>\n",
       "      <td>3</td>\n",
       "      <td>11</td>\n",
       "      <td>High</td>\n",
       "    </tr>\n",
       "    <tr>\n",
       "      <th>795</th>\n",
       "      <td>1</td>\n",
       "      <td>40.73033</td>\n",
       "      <td>-73.99560</td>\n",
       "      <td>2019</td>\n",
       "      <td>2</td>\n",
       "      <td>16</td>\n",
       "      <td>Low</td>\n",
       "    </tr>\n",
       "    <tr>\n",
       "      <th>1089</th>\n",
       "      <td>1</td>\n",
       "      <td>40.72609</td>\n",
       "      <td>-73.99682</td>\n",
       "      <td>2019</td>\n",
       "      <td>6</td>\n",
       "      <td>8</td>\n",
       "      <td>High</td>\n",
       "    </tr>\n",
       "    <tr>\n",
       "      <th>6846</th>\n",
       "      <td>1</td>\n",
       "      <td>40.72750</td>\n",
       "      <td>-73.99286</td>\n",
       "      <td>2018</td>\n",
       "      <td>2</td>\n",
       "      <td>18</td>\n",
       "      <td>Medium</td>\n",
       "    </tr>\n",
       "    <tr>\n",
       "      <th>173</th>\n",
       "      <td>1</td>\n",
       "      <td>40.72898</td>\n",
       "      <td>-73.99629</td>\n",
       "      <td>2019</td>\n",
       "      <td>1</td>\n",
       "      <td>10</td>\n",
       "      <td>Medium</td>\n",
       "    </tr>\n",
       "  </tbody>\n",
       "</table>\n",
       "<p>8500 rows × 7 columns</p>\n",
       "</div>"
      ],
      "text/plain": [
       "      Borough  Latitude  Longitude  Year  Day  Hour Engine Sound\n",
       "1635     1     40.73033 -73.99870   2018   2    17     Medium   \n",
       "3483     1     40.75164 -73.97537   2018   3    17     Medium   \n",
       "2313     1     40.72977 -73.98812   2018   3    17     Medium   \n",
       "3792     1     40.73206 -73.99763   2018   4     0       High   \n",
       "8376     1     40.72105 -73.99728   2018   2    16       High   \n",
       "...       ...       ...        ...   ...  ...   ...          ...\n",
       "1166     4     40.73802 -73.85184   2019   3    11       High   \n",
       "795      1     40.73033 -73.99560   2019   2    16        Low   \n",
       "1089     1     40.72609 -73.99682   2019   6     8       High   \n",
       "6846     1     40.72750 -73.99286   2018   2    18     Medium   \n",
       "173      1     40.72898 -73.99629   2019   1    10     Medium   \n",
       "\n",
       "[8500 rows x 7 columns]"
      ]
     },
     "execution_count": 4,
     "metadata": {},
     "output_type": "execute_result"
    }
   ],
   "source": [
    "AV = AutoViz_Class()\n",
    "AV.AutoViz(filename='', sep=',', depVar='', dfte=df_sonidos, header=0, verbose=2,\n",
    "          lowess=False, chart_format='png', max_rows_analyzed=8500,\n",
    "          max_cols_analyzed=10)"
   ]
  },
  {
   "cell_type": "code",
   "execution_count": 5,
   "metadata": {},
   "outputs": [
    {
     "data": {
      "text/plain": [
       "0"
      ]
     },
     "execution_count": 5,
     "metadata": {},
     "output_type": "execute_result"
    }
   ],
   "source": [
    "# Información sobre duplicados\n",
    "duplicados = df_sonidos.duplicated().sum()\n",
    "duplicados"
   ]
  },
  {
   "cell_type": "code",
   "execution_count": 6,
   "metadata": {},
   "outputs": [
    {
     "name": "stdout",
     "output_type": "stream",
     "text": [
      "<class 'pandas.core.frame.DataFrame'>\n",
      "RangeIndex: 228 entries, 0 to 227\n",
      "Data columns (total 5 columns):\n",
      " #   Column          Non-Null Count  Dtype  \n",
      "---  ------          --------------  -----  \n",
      " 0   Pollutant       228 non-null    object \n",
      " 1   Measure Info    228 non-null    object \n",
      " 2   Geo Place Name  228 non-null    object \n",
      " 3   Year            228 non-null    int64  \n",
      " 4   Data Value      228 non-null    float64\n",
      "dtypes: float64(1), int64(1), object(3)\n",
      "memory usage: 9.0+ KB\n"
     ]
    }
   ],
   "source": [
    "df_aire.info()"
   ]
  },
  {
   "cell_type": "code",
   "execution_count": 7,
   "metadata": {},
   "outputs": [
    {
     "name": "stdout",
     "output_type": "stream",
     "text": [
      "Shape of your Data Set loaded: (228, 5)\n",
      "#######################################################################################\n",
      "######################## C L A S S I F Y I N G  V A R I A B L E S  ####################\n",
      "#######################################################################################\n",
      "Classifying variables in data set...\n",
      "  Printing upto 30 columns (max) in each category:\n",
      "    Numeric Columns : ['Data Value']\n",
      "    Integer-Categorical Columns: []\n",
      "    String-Categorical Columns: []\n",
      "    Factor-Categorical Columns: []\n",
      "    String-Boolean Columns: ['Pollutant', 'Measure Info']\n",
      "    Numeric-Boolean Columns: []\n",
      "    Discrete String Columns: ['Geo Place Name']\n",
      "    NLP text Columns: []\n",
      "    Date Time Columns: []\n",
      "    ID Columns: []\n",
      "    Columns that will not be considered in modeling: ['Year']\n",
      "    5 Predictors classified...\n",
      "        1 variable(s) removed since they were ID or low-information variables\n",
      "        List of variables removed: ['Year']\n",
      "   Columns to delete:\n",
      "\"   ['Year']\"\n",
      "   Boolean variables %s \n",
      "\"   ['Pollutant', 'Measure Info']\"\n",
      "   Categorical variables %s \n",
      "\"   ['Pollutant', 'Measure Info']\"\n",
      "   Continuous variables %s \n",
      "\"   ['Data Value']\"\n",
      "   Discrete string variables %s \n",
      "\"   ['Geo Place Name']\"\n",
      "   Date and time variables %s \n",
      "'   []'\n",
      "   ID variables %s \n",
      "'   []'\n",
      "   Target variable %s \n",
      "'   '\n",
      "To fix these data quality issues in the dataset, import FixDQ from autoviz...\n",
      "    All variables classified into correct types.\n"
     ]
    },
    {
     "data": {
      "text/html": [
       "<style type=\"text/css\">\n",
       "#T_e523a_row0_col0, #T_e523a_row0_col2, #T_e523a_row0_col3, #T_e523a_row0_col4, #T_e523a_row0_col5, #T_e523a_row1_col0, #T_e523a_row1_col2, #T_e523a_row1_col3, #T_e523a_row1_col4, #T_e523a_row1_col5, #T_e523a_row2_col0, #T_e523a_row2_col2, #T_e523a_row2_col3, #T_e523a_row2_col4, #T_e523a_row2_col5, #T_e523a_row3_col0, #T_e523a_row3_col2, #T_e523a_row3_col3, #T_e523a_row3_col4, #T_e523a_row3_col5, #T_e523a_row4_col0, #T_e523a_row4_col2, #T_e523a_row4_col3, #T_e523a_row4_col4, #T_e523a_row4_col5 {\n",
       "  font-family: Segoe UI;\n",
       "}\n",
       "#T_e523a_row0_col1, #T_e523a_row1_col1, #T_e523a_row2_col1, #T_e523a_row3_col1, #T_e523a_row4_col1 {\n",
       "  background-color: #fff5f0;\n",
       "  color: #000000;\n",
       "  font-family: Segoe UI;\n",
       "}\n",
       "</style>\n",
       "<table id=\"T_e523a\">\n",
       "  <thead>\n",
       "    <tr>\n",
       "      <th class=\"blank level0\" >&nbsp;</th>\n",
       "      <th id=\"T_e523a_level0_col0\" class=\"col_heading level0 col0\" >Data Type</th>\n",
       "      <th id=\"T_e523a_level0_col1\" class=\"col_heading level0 col1\" >Missing Values%</th>\n",
       "      <th id=\"T_e523a_level0_col2\" class=\"col_heading level0 col2\" >Unique Values%</th>\n",
       "      <th id=\"T_e523a_level0_col3\" class=\"col_heading level0 col3\" >Minimum Value</th>\n",
       "      <th id=\"T_e523a_level0_col4\" class=\"col_heading level0 col4\" >Maximum Value</th>\n",
       "      <th id=\"T_e523a_level0_col5\" class=\"col_heading level0 col5\" >DQ Issue</th>\n",
       "    </tr>\n",
       "  </thead>\n",
       "  <tbody>\n",
       "    <tr>\n",
       "      <th id=\"T_e523a_level0_row0\" class=\"row_heading level0 row0\" >Pollutant</th>\n",
       "      <td id=\"T_e523a_row0_col0\" class=\"data row0 col0\" >object</td>\n",
       "      <td id=\"T_e523a_row0_col1\" class=\"data row0 col1\" >0.000000</td>\n",
       "      <td id=\"T_e523a_row0_col2\" class=\"data row0 col2\" >0</td>\n",
       "      <td id=\"T_e523a_row0_col3\" class=\"data row0 col3\" ></td>\n",
       "      <td id=\"T_e523a_row0_col4\" class=\"data row0 col4\" ></td>\n",
       "      <td id=\"T_e523a_row0_col5\" class=\"data row0 col5\" >No issue</td>\n",
       "    </tr>\n",
       "    <tr>\n",
       "      <th id=\"T_e523a_level0_row1\" class=\"row_heading level0 row1\" >Measure Info</th>\n",
       "      <td id=\"T_e523a_row1_col0\" class=\"data row1 col0\" >object</td>\n",
       "      <td id=\"T_e523a_row1_col1\" class=\"data row1 col1\" >0.000000</td>\n",
       "      <td id=\"T_e523a_row1_col2\" class=\"data row1 col2\" >0</td>\n",
       "      <td id=\"T_e523a_row1_col3\" class=\"data row1 col3\" ></td>\n",
       "      <td id=\"T_e523a_row1_col4\" class=\"data row1 col4\" ></td>\n",
       "      <td id=\"T_e523a_row1_col5\" class=\"data row1 col5\" >No issue</td>\n",
       "    </tr>\n",
       "    <tr>\n",
       "      <th id=\"T_e523a_level0_row2\" class=\"row_heading level0 row2\" >Geo Place Name</th>\n",
       "      <td id=\"T_e523a_row2_col0\" class=\"data row2 col0\" >object</td>\n",
       "      <td id=\"T_e523a_row2_col1\" class=\"data row2 col1\" >0.000000</td>\n",
       "      <td id=\"T_e523a_row2_col2\" class=\"data row2 col2\" >50</td>\n",
       "      <td id=\"T_e523a_row2_col3\" class=\"data row2 col3\" ></td>\n",
       "      <td id=\"T_e523a_row2_col4\" class=\"data row2 col4\" ></td>\n",
       "      <td id=\"T_e523a_row2_col5\" class=\"data row2 col5\" >Possible high cardinality column with 114 unique values: Use hash encoding or text embedding to reduce dimension.</td>\n",
       "    </tr>\n",
       "    <tr>\n",
       "      <th id=\"T_e523a_level0_row3\" class=\"row_heading level0 row3\" >Year</th>\n",
       "      <td id=\"T_e523a_row3_col0\" class=\"data row3 col0\" >int64</td>\n",
       "      <td id=\"T_e523a_row3_col1\" class=\"data row3 col1\" >0.000000</td>\n",
       "      <td id=\"T_e523a_row3_col2\" class=\"data row3 col2\" >0</td>\n",
       "      <td id=\"T_e523a_row3_col3\" class=\"data row3 col3\" >2021.000000</td>\n",
       "      <td id=\"T_e523a_row3_col4\" class=\"data row3 col4\" >2021.000000</td>\n",
       "      <td id=\"T_e523a_row3_col5\" class=\"data row3 col5\" >Possible Zero-variance or low information colum: drop before modeling step.</td>\n",
       "    </tr>\n",
       "    <tr>\n",
       "      <th id=\"T_e523a_level0_row4\" class=\"row_heading level0 row4\" >Data Value</th>\n",
       "      <td id=\"T_e523a_row4_col0\" class=\"data row4 col0\" >float64</td>\n",
       "      <td id=\"T_e523a_row4_col1\" class=\"data row4 col1\" >0.000000</td>\n",
       "      <td id=\"T_e523a_row4_col2\" class=\"data row4 col2\" >NA</td>\n",
       "      <td id=\"T_e523a_row4_col3\" class=\"data row4 col3\" >5.920000</td>\n",
       "      <td id=\"T_e523a_row4_col4\" class=\"data row4 col4\" >25.230000</td>\n",
       "      <td id=\"T_e523a_row4_col5\" class=\"data row4 col5\" >No issue</td>\n",
       "    </tr>\n",
       "  </tbody>\n",
       "</table>\n"
      ],
      "text/plain": [
       "<pandas.io.formats.style.Styler at 0x28c587b3850>"
      ]
     },
     "metadata": {},
     "output_type": "display_data"
    },
    {
     "name": "stderr",
     "output_type": "stream",
     "text": [
      "[nltk_data] Downloading collection 'popular'\n",
      "[nltk_data]    | \n",
      "[nltk_data]    | Downloading package cmudict to C:\\Users\\Mati\n",
      "[nltk_data]    |     Barna\\AppData\\Roaming\\nltk_data...\n",
      "[nltk_data]    |   Package cmudict is already up-to-date!\n",
      "[nltk_data]    | Downloading package gazetteers to C:\\Users\\Mati\n",
      "[nltk_data]    |     Barna\\AppData\\Roaming\\nltk_data...\n",
      "[nltk_data]    |   Package gazetteers is already up-to-date!\n",
      "[nltk_data]    | Downloading package genesis to C:\\Users\\Mati\n",
      "[nltk_data]    |     Barna\\AppData\\Roaming\\nltk_data...\n",
      "[nltk_data]    |   Package genesis is already up-to-date!\n",
      "[nltk_data]    | Downloading package gutenberg to C:\\Users\\Mati\n",
      "[nltk_data]    |     Barna\\AppData\\Roaming\\nltk_data...\n",
      "[nltk_data]    |   Package gutenberg is already up-to-date!\n",
      "[nltk_data]    | Downloading package inaugural to C:\\Users\\Mati\n",
      "[nltk_data]    |     Barna\\AppData\\Roaming\\nltk_data...\n",
      "[nltk_data]    |   Package inaugural is already up-to-date!\n",
      "[nltk_data]    | Downloading package movie_reviews to C:\\Users\\Mati\n",
      "[nltk_data]    |     Barna\\AppData\\Roaming\\nltk_data...\n",
      "[nltk_data]    |   Package movie_reviews is already up-to-date!\n",
      "[nltk_data]    | Downloading package names to C:\\Users\\Mati\n",
      "[nltk_data]    |     Barna\\AppData\\Roaming\\nltk_data...\n",
      "[nltk_data]    |   Package names is already up-to-date!\n",
      "[nltk_data]    | Downloading package shakespeare to C:\\Users\\Mati\n",
      "[nltk_data]    |     Barna\\AppData\\Roaming\\nltk_data...\n",
      "[nltk_data]    |   Package shakespeare is already up-to-date!\n",
      "[nltk_data]    | Downloading package stopwords to C:\\Users\\Mati\n",
      "[nltk_data]    |     Barna\\AppData\\Roaming\\nltk_data...\n",
      "[nltk_data]    |   Package stopwords is already up-to-date!\n",
      "[nltk_data]    | Downloading package treebank to C:\\Users\\Mati\n",
      "[nltk_data]    |     Barna\\AppData\\Roaming\\nltk_data...\n",
      "[nltk_data]    |   Package treebank is already up-to-date!\n",
      "[nltk_data]    | Downloading package twitter_samples to C:\\Users\\Mati\n",
      "[nltk_data]    |     Barna\\AppData\\Roaming\\nltk_data...\n",
      "[nltk_data]    |   Package twitter_samples is already up-to-date!\n",
      "[nltk_data]    | Downloading package omw to C:\\Users\\Mati\n",
      "[nltk_data]    |     Barna\\AppData\\Roaming\\nltk_data...\n",
      "[nltk_data]    |   Package omw is already up-to-date!\n",
      "[nltk_data]    | Downloading package omw-1.4 to C:\\Users\\Mati\n",
      "[nltk_data]    |     Barna\\AppData\\Roaming\\nltk_data...\n",
      "[nltk_data]    |   Package omw-1.4 is already up-to-date!\n",
      "[nltk_data]    | Downloading package wordnet to C:\\Users\\Mati\n",
      "[nltk_data]    |     Barna\\AppData\\Roaming\\nltk_data...\n",
      "[nltk_data]    |   Package wordnet is already up-to-date!\n",
      "[nltk_data]    | Downloading package wordnet2021 to C:\\Users\\Mati\n",
      "[nltk_data]    |     Barna\\AppData\\Roaming\\nltk_data...\n",
      "[nltk_data]    |   Package wordnet2021 is already up-to-date!\n",
      "[nltk_data]    | Downloading package wordnet31 to C:\\Users\\Mati\n",
      "[nltk_data]    |     Barna\\AppData\\Roaming\\nltk_data...\n",
      "[nltk_data]    |   Package wordnet31 is already up-to-date!\n",
      "[nltk_data]    | Downloading package wordnet_ic to C:\\Users\\Mati\n",
      "[nltk_data]    |     Barna\\AppData\\Roaming\\nltk_data...\n",
      "[nltk_data]    |   Package wordnet_ic is already up-to-date!\n",
      "[nltk_data]    | Downloading package words to C:\\Users\\Mati\n",
      "[nltk_data]    |     Barna\\AppData\\Roaming\\nltk_data...\n",
      "[nltk_data]    |   Package words is already up-to-date!\n",
      "[nltk_data]    | Downloading package maxent_ne_chunker to\n",
      "[nltk_data]    |     C:\\Users\\Mati Barna\\AppData\\Roaming\\nltk_data...\n",
      "[nltk_data]    |   Package maxent_ne_chunker is already up-to-date!\n",
      "[nltk_data]    | Downloading package punkt to C:\\Users\\Mati\n",
      "[nltk_data]    |     Barna\\AppData\\Roaming\\nltk_data...\n",
      "[nltk_data]    |   Package punkt is already up-to-date!\n",
      "[nltk_data]    | Downloading package snowball_data to C:\\Users\\Mati\n",
      "[nltk_data]    |     Barna\\AppData\\Roaming\\nltk_data...\n",
      "[nltk_data]    |   Package snowball_data is already up-to-date!\n",
      "[nltk_data]    | Downloading package averaged_perceptron_tagger to\n",
      "[nltk_data]    |     C:\\Users\\Mati Barna\\AppData\\Roaming\\nltk_data...\n",
      "[nltk_data]    |   Package averaged_perceptron_tagger is already up-\n",
      "[nltk_data]    |       to-date!\n",
      "[nltk_data]    | \n",
      "[nltk_data]  Done downloading collection popular\n"
     ]
    },
    {
     "name": "stdout",
     "output_type": "stream",
     "text": [
      "All Plots are saved in .\\AutoViz_Plots\\AutoViz\n",
      "Time to run AutoViz = 11 seconds \n"
     ]
    },
    {
     "data": {
      "text/html": [
       "<div>\n",
       "<style scoped>\n",
       "    .dataframe tbody tr th:only-of-type {\n",
       "        vertical-align: middle;\n",
       "    }\n",
       "\n",
       "    .dataframe tbody tr th {\n",
       "        vertical-align: top;\n",
       "    }\n",
       "\n",
       "    .dataframe thead th {\n",
       "        text-align: right;\n",
       "    }\n",
       "</style>\n",
       "<table border=\"1\" class=\"dataframe\">\n",
       "  <thead>\n",
       "    <tr style=\"text-align: center;\">\n",
       "      <th></th>\n",
       "      <th>Pollutant</th>\n",
       "      <th>Measure Info</th>\n",
       "      <th>Geo Place Name</th>\n",
       "      <th>Year</th>\n",
       "      <th>Data Value</th>\n",
       "    </tr>\n",
       "  </thead>\n",
       "  <tbody>\n",
       "    <tr>\n",
       "      <th>0</th>\n",
       "      <td>Nitrogen dioxide (NO2)</td>\n",
       "      <td>ppb</td>\n",
       "      <td>High Bridge - Morrisania</td>\n",
       "      <td>2021</td>\n",
       "      <td>18.04</td>\n",
       "    </tr>\n",
       "    <tr>\n",
       "      <th>1</th>\n",
       "      <td>Nitrogen dioxide (NO2)</td>\n",
       "      <td>ppb</td>\n",
       "      <td>Rockaways</td>\n",
       "      <td>2021</td>\n",
       "      <td>11.41</td>\n",
       "    </tr>\n",
       "    <tr>\n",
       "      <th>2</th>\n",
       "      <td>Nitrogen dioxide (NO2)</td>\n",
       "      <td>ppb</td>\n",
       "      <td>Financial District (CD1)</td>\n",
       "      <td>2021</td>\n",
       "      <td>21.61</td>\n",
       "    </tr>\n",
       "    <tr>\n",
       "      <th>3</th>\n",
       "      <td>Nitrogen dioxide (NO2)</td>\n",
       "      <td>ppb</td>\n",
       "      <td>Woodside and Sunnyside (CD2)</td>\n",
       "      <td>2021</td>\n",
       "      <td>20.21</td>\n",
       "    </tr>\n",
       "    <tr>\n",
       "      <th>4</th>\n",
       "      <td>Nitrogen dioxide (NO2)</td>\n",
       "      <td>ppb</td>\n",
       "      <td>Hunts Point - Mott Haven</td>\n",
       "      <td>2021</td>\n",
       "      <td>18.52</td>\n",
       "    </tr>\n",
       "    <tr>\n",
       "      <th>5</th>\n",
       "      <td>Nitrogen dioxide (NO2)</td>\n",
       "      <td>ppb</td>\n",
       "      <td>Greenpoint</td>\n",
       "      <td>2021</td>\n",
       "      <td>20.55</td>\n",
       "    </tr>\n",
       "    <tr>\n",
       "      <th>6</th>\n",
       "      <td>Nitrogen dioxide (NO2)</td>\n",
       "      <td>ppb</td>\n",
       "      <td>Upper East Side (CD8)</td>\n",
       "      <td>2021</td>\n",
       "      <td>20.37</td>\n",
       "    </tr>\n",
       "    <tr>\n",
       "      <th>7</th>\n",
       "      <td>Nitrogen dioxide (NO2)</td>\n",
       "      <td>ppb</td>\n",
       "      <td>Bay Ridge and Dyker Heights (CD10)</td>\n",
       "      <td>2021</td>\n",
       "      <td>16.42</td>\n",
       "    </tr>\n",
       "    <tr>\n",
       "      <th>8</th>\n",
       "      <td>Nitrogen dioxide (NO2)</td>\n",
       "      <td>ppb</td>\n",
       "      <td>Borough Park (CD12)</td>\n",
       "      <td>2021</td>\n",
       "      <td>16.92</td>\n",
       "    </tr>\n",
       "    <tr>\n",
       "      <th>9</th>\n",
       "      <td>Nitrogen dioxide (NO2)</td>\n",
       "      <td>ppb</td>\n",
       "      <td>East New York</td>\n",
       "      <td>2021</td>\n",
       "      <td>16.12</td>\n",
       "    </tr>\n",
       "    <tr>\n",
       "      <th>10</th>\n",
       "      <td>Nitrogen dioxide (NO2)</td>\n",
       "      <td>ppb</td>\n",
       "      <td>Flushing - Clearview</td>\n",
       "      <td>2021</td>\n",
       "      <td>15.66</td>\n",
       "    </tr>\n",
       "    <tr>\n",
       "      <th>11</th>\n",
       "      <td>Nitrogen dioxide (NO2)</td>\n",
       "      <td>ppb</td>\n",
       "      <td>Upper East Side-Gramercy</td>\n",
       "      <td>2021</td>\n",
       "      <td>21.83</td>\n",
       "    </tr>\n",
       "    <tr>\n",
       "      <th>12</th>\n",
       "      <td>Nitrogen dioxide (NO2)</td>\n",
       "      <td>ppb</td>\n",
       "      <td>Kingsbridge - Riverdale</td>\n",
       "      <td>2021</td>\n",
       "      <td>14.77</td>\n",
       "    </tr>\n",
       "    <tr>\n",
       "      <th>13</th>\n",
       "      <td>Nitrogen dioxide (NO2)</td>\n",
       "      <td>ppb</td>\n",
       "      <td>West Queens</td>\n",
       "      <td>2021</td>\n",
       "      <td>18.56</td>\n",
       "    </tr>\n",
       "    <tr>\n",
       "      <th>14</th>\n",
       "      <td>Nitrogen dioxide (NO2)</td>\n",
       "      <td>ppb</td>\n",
       "      <td>Sunset Park</td>\n",
       "      <td>2021</td>\n",
       "      <td>18.03</td>\n",
       "    </tr>\n",
       "    <tr>\n",
       "      <th>15</th>\n",
       "      <td>Nitrogen dioxide (NO2)</td>\n",
       "      <td>ppb</td>\n",
       "      <td>Bensonhurst - Bay Ridge</td>\n",
       "      <td>2021</td>\n",
       "      <td>16.03</td>\n",
       "    </tr>\n",
       "    <tr>\n",
       "      <th>16</th>\n",
       "      <td>Nitrogen dioxide (NO2)</td>\n",
       "      <td>ppb</td>\n",
       "      <td>Williamsburg - Bushwick</td>\n",
       "      <td>2021</td>\n",
       "      <td>19.04</td>\n",
       "    </tr>\n",
       "    <tr>\n",
       "      <th>17</th>\n",
       "      <td>Nitrogen dioxide (NO2)</td>\n",
       "      <td>ppb</td>\n",
       "      <td>Northern SI</td>\n",
       "      <td>2021</td>\n",
       "      <td>14.76</td>\n",
       "    </tr>\n",
       "    <tr>\n",
       "      <th>18</th>\n",
       "      <td>Nitrogen dioxide (NO2)</td>\n",
       "      <td>ppb</td>\n",
       "      <td>Fordham - Bronx Pk</td>\n",
       "      <td>2021</td>\n",
       "      <td>16.03</td>\n",
       "    </tr>\n",
       "    <tr>\n",
       "      <th>19</th>\n",
       "      <td>Nitrogen dioxide (NO2)</td>\n",
       "      <td>ppb</td>\n",
       "      <td>Clinton and Chelsea (CD4)</td>\n",
       "      <td>2021</td>\n",
       "      <td>22.28</td>\n",
       "    </tr>\n",
       "    <tr>\n",
       "      <th>20</th>\n",
       "      <td>Nitrogen dioxide (NO2)</td>\n",
       "      <td>ppb</td>\n",
       "      <td>Stuyvesant Town and Turtle Bay (CD6)</td>\n",
       "      <td>2021</td>\n",
       "      <td>22.13</td>\n",
       "    </tr>\n",
       "    <tr>\n",
       "      <th>21</th>\n",
       "      <td>Nitrogen dioxide (NO2)</td>\n",
       "      <td>ppb</td>\n",
       "      <td>East Harlem</td>\n",
       "      <td>2021</td>\n",
       "      <td>18.28</td>\n",
       "    </tr>\n",
       "    <tr>\n",
       "      <th>22</th>\n",
       "      <td>Nitrogen dioxide (NO2)</td>\n",
       "      <td>ppb</td>\n",
       "      <td>Downtown - Heights - Slope</td>\n",
       "      <td>2021</td>\n",
       "      <td>18.78</td>\n",
       "    </tr>\n",
       "    <tr>\n",
       "      <th>23</th>\n",
       "      <td>Nitrogen dioxide (NO2)</td>\n",
       "      <td>ppb</td>\n",
       "      <td>Midtown (CD5)</td>\n",
       "      <td>2021</td>\n",
       "      <td>25.23</td>\n",
       "    </tr>\n",
       "    <tr>\n",
       "      <th>24</th>\n",
       "      <td>Nitrogen dioxide (NO2)</td>\n",
       "      <td>ppb</td>\n",
       "      <td>Southwest Queens</td>\n",
       "      <td>2021</td>\n",
       "      <td>15.10</td>\n",
       "    </tr>\n",
       "    <tr>\n",
       "      <th>25</th>\n",
       "      <td>Nitrogen dioxide (NO2)</td>\n",
       "      <td>ppb</td>\n",
       "      <td>Southeast Queens</td>\n",
       "      <td>2021</td>\n",
       "      <td>14.25</td>\n",
       "    </tr>\n",
       "    <tr>\n",
       "      <th>26</th>\n",
       "      <td>Nitrogen dioxide (NO2)</td>\n",
       "      <td>ppb</td>\n",
       "      <td>Greenwich Village - SoHo</td>\n",
       "      <td>2021</td>\n",
       "      <td>21.30</td>\n",
       "    </tr>\n",
       "    <tr>\n",
       "      <th>27</th>\n",
       "      <td>Fine particles (PM 2.5)</td>\n",
       "      <td>mcg/m3</td>\n",
       "      <td>Hunts Point - Mott Haven</td>\n",
       "      <td>2021</td>\n",
       "      <td>6.98</td>\n",
       "    </tr>\n",
       "    <tr>\n",
       "      <th>28</th>\n",
       "      <td>Fine particles (PM 2.5)</td>\n",
       "      <td>mcg/m3</td>\n",
       "      <td>Greenpoint</td>\n",
       "      <td>2021</td>\n",
       "      <td>7.67</td>\n",
       "    </tr>\n",
       "    <tr>\n",
       "      <th>29</th>\n",
       "      <td>Fine particles (PM 2.5)</td>\n",
       "      <td>mcg/m3</td>\n",
       "      <td>Borough Park (CD12)</td>\n",
       "      <td>2021</td>\n",
       "      <td>6.45</td>\n",
       "    </tr>\n",
       "    <tr>\n",
       "      <th>30</th>\n",
       "      <td>Nitrogen dioxide (NO2)</td>\n",
       "      <td>ppb</td>\n",
       "      <td>Riverdale and Fieldston (CD8)</td>\n",
       "      <td>2021</td>\n",
       "      <td>14.70</td>\n",
       "    </tr>\n",
       "    <tr>\n",
       "      <th>31</th>\n",
       "      <td>Fine particles (PM 2.5)</td>\n",
       "      <td>mcg/m3</td>\n",
       "      <td>Belmont and East Tremont (CD6)</td>\n",
       "      <td>2021</td>\n",
       "      <td>6.80</td>\n",
       "    </tr>\n",
       "    <tr>\n",
       "      <th>32</th>\n",
       "      <td>Fine particles (PM 2.5)</td>\n",
       "      <td>mcg/m3</td>\n",
       "      <td>Park Slope and Carroll Gardens (CD6)</td>\n",
       "      <td>2021</td>\n",
       "      <td>7.06</td>\n",
       "    </tr>\n",
       "    <tr>\n",
       "      <th>33</th>\n",
       "      <td>Fine particles (PM 2.5)</td>\n",
       "      <td>mcg/m3</td>\n",
       "      <td>Crown Heights and Prospect Heights (CD8)</td>\n",
       "      <td>2021</td>\n",
       "      <td>6.72</td>\n",
       "    </tr>\n",
       "    <tr>\n",
       "      <th>34</th>\n",
       "      <td>Nitrogen dioxide (NO2)</td>\n",
       "      <td>ppb</td>\n",
       "      <td>Crown Heights and Prospect Heights (CD8)</td>\n",
       "      <td>2021</td>\n",
       "      <td>17.46</td>\n",
       "    </tr>\n",
       "    <tr>\n",
       "      <th>35</th>\n",
       "      <td>Fine particles (PM 2.5)</td>\n",
       "      <td>mcg/m3</td>\n",
       "      <td>Hillcrest and Fresh Meadows (CD8)</td>\n",
       "      <td>2021</td>\n",
       "      <td>6.29</td>\n",
       "    </tr>\n",
       "    <tr>\n",
       "      <th>36</th>\n",
       "      <td>Nitrogen dioxide (NO2)</td>\n",
       "      <td>ppb</td>\n",
       "      <td>Upper West Side</td>\n",
       "      <td>2021</td>\n",
       "      <td>19.17</td>\n",
       "    </tr>\n",
       "    <tr>\n",
       "      <th>37</th>\n",
       "      <td>Fine particles (PM 2.5)</td>\n",
       "      <td>mcg/m3</td>\n",
       "      <td>Woodside and Sunnyside (CD2)</td>\n",
       "      <td>2021</td>\n",
       "      <td>7.61</td>\n",
       "    </tr>\n",
       "    <tr>\n",
       "      <th>38</th>\n",
       "      <td>Fine particles (PM 2.5)</td>\n",
       "      <td>mcg/m3</td>\n",
       "      <td>Financial District (CD1)</td>\n",
       "      <td>2021</td>\n",
       "      <td>7.66</td>\n",
       "    </tr>\n",
       "    <tr>\n",
       "      <th>39</th>\n",
       "      <td>Nitrogen dioxide (NO2)</td>\n",
       "      <td>ppb</td>\n",
       "      <td>Fort Greene and Brooklyn Heights (CD2)</td>\n",
       "      <td>2021</td>\n",
       "      <td>18.80</td>\n",
       "    </tr>\n",
       "    <tr>\n",
       "      <th>40</th>\n",
       "      <td>Nitrogen dioxide (NO2)</td>\n",
       "      <td>ppb</td>\n",
       "      <td>Long Island City - Astoria</td>\n",
       "      <td>2021</td>\n",
       "      <td>19.00</td>\n",
       "    </tr>\n",
       "    <tr>\n",
       "      <th>41</th>\n",
       "      <td>Nitrogen dioxide (NO2)</td>\n",
       "      <td>ppb</td>\n",
       "      <td>South Bronx</td>\n",
       "      <td>2021</td>\n",
       "      <td>18.12</td>\n",
       "    </tr>\n",
       "    <tr>\n",
       "      <th>42</th>\n",
       "      <td>Nitrogen dioxide (NO2)</td>\n",
       "      <td>ppb</td>\n",
       "      <td>Coney Island (CD13)</td>\n",
       "      <td>2021</td>\n",
       "      <td>14.09</td>\n",
       "    </tr>\n",
       "    <tr>\n",
       "      <th>43</th>\n",
       "      <td>Fine particles (PM 2.5)</td>\n",
       "      <td>mcg/m3</td>\n",
       "      <td>Coney Island (CD13)</td>\n",
       "      <td>2021</td>\n",
       "      <td>6.26</td>\n",
       "    </tr>\n",
       "    <tr>\n",
       "      <th>44</th>\n",
       "      <td>Fine particles (PM 2.5)</td>\n",
       "      <td>mcg/m3</td>\n",
       "      <td>Sheepshead Bay (CD15)</td>\n",
       "      <td>2021</td>\n",
       "      <td>6.27</td>\n",
       "    </tr>\n",
       "    <tr>\n",
       "      <th>45</th>\n",
       "      <td>Fine particles (PM 2.5)</td>\n",
       "      <td>mcg/m3</td>\n",
       "      <td>Jamaica and Hollis (CD12)</td>\n",
       "      <td>2021</td>\n",
       "      <td>6.33</td>\n",
       "    </tr>\n",
       "    <tr>\n",
       "      <th>46</th>\n",
       "      <td>Nitrogen dioxide (NO2)</td>\n",
       "      <td>ppb</td>\n",
       "      <td>Stapleton - St. George</td>\n",
       "      <td>2021</td>\n",
       "      <td>14.28</td>\n",
       "    </tr>\n",
       "    <tr>\n",
       "      <th>47</th>\n",
       "      <td>Nitrogen dioxide (NO2)</td>\n",
       "      <td>ppb</td>\n",
       "      <td>Morningside Heights and Hamilton Heights (CD9)</td>\n",
       "      <td>2021</td>\n",
       "      <td>17.96</td>\n",
       "    </tr>\n",
       "    <tr>\n",
       "      <th>48</th>\n",
       "      <td>Nitrogen dioxide (NO2)</td>\n",
       "      <td>ppb</td>\n",
       "      <td>Bensonhurst (CD11)</td>\n",
       "      <td>2021</td>\n",
       "      <td>16.40</td>\n",
       "    </tr>\n",
       "    <tr>\n",
       "      <th>49</th>\n",
       "      <td>Fine particles (PM 2.5)</td>\n",
       "      <td>mcg/m3</td>\n",
       "      <td>Bensonhurst (CD11)</td>\n",
       "      <td>2021</td>\n",
       "      <td>6.37</td>\n",
       "    </tr>\n",
       "    <tr>\n",
       "      <th>50</th>\n",
       "      <td>Fine particles (PM 2.5)</td>\n",
       "      <td>mcg/m3</td>\n",
       "      <td>Parkchester and Soundview (CD9)</td>\n",
       "      <td>2021</td>\n",
       "      <td>6.69</td>\n",
       "    </tr>\n",
       "    <tr>\n",
       "      <th>51</th>\n",
       "      <td>Nitrogen dioxide (NO2)</td>\n",
       "      <td>ppb</td>\n",
       "      <td>Kew Gardens and Woodhaven (CD9)</td>\n",
       "      <td>2021</td>\n",
       "      <td>15.81</td>\n",
       "    </tr>\n",
       "    <tr>\n",
       "      <th>52</th>\n",
       "      <td>Nitrogen dioxide (NO2)</td>\n",
       "      <td>ppb</td>\n",
       "      <td>Sunset Park (CD7)</td>\n",
       "      <td>2021</td>\n",
       "      <td>18.06</td>\n",
       "    </tr>\n",
       "    <tr>\n",
       "      <th>53</th>\n",
       "      <td>Fine particles (PM 2.5)</td>\n",
       "      <td>mcg/m3</td>\n",
       "      <td>Flushing and Whitestone (CD7)</td>\n",
       "      <td>2021</td>\n",
       "      <td>6.47</td>\n",
       "    </tr>\n",
       "    <tr>\n",
       "      <th>54</th>\n",
       "      <td>Fine particles (PM 2.5)</td>\n",
       "      <td>mcg/m3</td>\n",
       "      <td>Riverdale and Fieldston (CD8)</td>\n",
       "      <td>2021</td>\n",
       "      <td>6.55</td>\n",
       "    </tr>\n",
       "    <tr>\n",
       "      <th>55</th>\n",
       "      <td>Fine particles (PM 2.5)</td>\n",
       "      <td>mcg/m3</td>\n",
       "      <td>Rego Park and Forest Hills (CD6)</td>\n",
       "      <td>2021</td>\n",
       "      <td>6.43</td>\n",
       "    </tr>\n",
       "    <tr>\n",
       "      <th>56</th>\n",
       "      <td>Nitrogen dioxide (NO2)</td>\n",
       "      <td>ppb</td>\n",
       "      <td>Jackson Heights (CD3)</td>\n",
       "      <td>2021</td>\n",
       "      <td>16.91</td>\n",
       "    </tr>\n",
       "    <tr>\n",
       "      <th>57</th>\n",
       "      <td>Nitrogen dioxide (NO2)</td>\n",
       "      <td>ppb</td>\n",
       "      <td>Flushing and Whitestone (CD7)</td>\n",
       "      <td>2021</td>\n",
       "      <td>15.66</td>\n",
       "    </tr>\n",
       "    <tr>\n",
       "      <th>58</th>\n",
       "      <td>Nitrogen dioxide (NO2)</td>\n",
       "      <td>ppb</td>\n",
       "      <td>Jamaica and Hollis (CD12)</td>\n",
       "      <td>2021</td>\n",
       "      <td>15.13</td>\n",
       "    </tr>\n",
       "    <tr>\n",
       "      <th>59</th>\n",
       "      <td>Fine particles (PM 2.5)</td>\n",
       "      <td>mcg/m3</td>\n",
       "      <td>Fordham - Bronx Pk</td>\n",
       "      <td>2021</td>\n",
       "      <td>6.58</td>\n",
       "    </tr>\n",
       "    <tr>\n",
       "      <th>60</th>\n",
       "      <td>Fine particles (PM 2.5)</td>\n",
       "      <td>mcg/m3</td>\n",
       "      <td>Long Island City and Astoria (CD1)</td>\n",
       "      <td>2021</td>\n",
       "      <td>6.76</td>\n",
       "    </tr>\n",
       "    <tr>\n",
       "      <th>61</th>\n",
       "      <td>Fine particles (PM 2.5)</td>\n",
       "      <td>mcg/m3</td>\n",
       "      <td>Fort Greene and Brooklyn Heights (CD2)</td>\n",
       "      <td>2021</td>\n",
       "      <td>7.10</td>\n",
       "    </tr>\n",
       "    <tr>\n",
       "      <th>62</th>\n",
       "      <td>Fine particles (PM 2.5)</td>\n",
       "      <td>mcg/m3</td>\n",
       "      <td>Greenwich Village - SoHo</td>\n",
       "      <td>2021</td>\n",
       "      <td>8.22</td>\n",
       "    </tr>\n",
       "    <tr>\n",
       "      <th>63</th>\n",
       "      <td>Fine particles (PM 2.5)</td>\n",
       "      <td>mcg/m3</td>\n",
       "      <td>Washington Heights</td>\n",
       "      <td>2021</td>\n",
       "      <td>6.86</td>\n",
       "    </tr>\n",
       "    <tr>\n",
       "      <th>64</th>\n",
       "      <td>Nitrogen dioxide (NO2)</td>\n",
       "      <td>ppb</td>\n",
       "      <td>Ridgewood and Maspeth (CD5)</td>\n",
       "      <td>2021</td>\n",
       "      <td>17.51</td>\n",
       "    </tr>\n",
       "    <tr>\n",
       "      <th>65</th>\n",
       "      <td>Fine particles (PM 2.5)</td>\n",
       "      <td>mcg/m3</td>\n",
       "      <td>Ridgewood and Maspeth (CD5)</td>\n",
       "      <td>2021</td>\n",
       "      <td>6.96</td>\n",
       "    </tr>\n",
       "    <tr>\n",
       "      <th>66</th>\n",
       "      <td>Fine particles (PM 2.5)</td>\n",
       "      <td>mcg/m3</td>\n",
       "      <td>Chelsea - Clinton</td>\n",
       "      <td>2021</td>\n",
       "      <td>8.44</td>\n",
       "    </tr>\n",
       "    <tr>\n",
       "      <th>67</th>\n",
       "      <td>Fine particles (PM 2.5)</td>\n",
       "      <td>mcg/m3</td>\n",
       "      <td>Brownsville (CD16)</td>\n",
       "      <td>2021</td>\n",
       "      <td>6.52</td>\n",
       "    </tr>\n",
       "    <tr>\n",
       "      <th>68</th>\n",
       "      <td>Fine particles (PM 2.5)</td>\n",
       "      <td>mcg/m3</td>\n",
       "      <td>Borough Park</td>\n",
       "      <td>2021</td>\n",
       "      <td>6.43</td>\n",
       "    </tr>\n",
       "    <tr>\n",
       "      <th>69</th>\n",
       "      <td>Fine particles (PM 2.5)</td>\n",
       "      <td>mcg/m3</td>\n",
       "      <td>St. George and Stapleton (CD1)</td>\n",
       "      <td>2021</td>\n",
       "      <td>6.34</td>\n",
       "    </tr>\n",
       "    <tr>\n",
       "      <th>70</th>\n",
       "      <td>Fine particles (PM 2.5)</td>\n",
       "      <td>mcg/m3</td>\n",
       "      <td>Jamaica</td>\n",
       "      <td>2021</td>\n",
       "      <td>6.43</td>\n",
       "    </tr>\n",
       "    <tr>\n",
       "      <th>71</th>\n",
       "      <td>Fine particles (PM 2.5)</td>\n",
       "      <td>mcg/m3</td>\n",
       "      <td>East Flatbush (CD17)</td>\n",
       "      <td>2021</td>\n",
       "      <td>6.47</td>\n",
       "    </tr>\n",
       "    <tr>\n",
       "      <th>72</th>\n",
       "      <td>Fine particles (PM 2.5)</td>\n",
       "      <td>mcg/m3</td>\n",
       "      <td>Tottenville and Great Kills (CD3)</td>\n",
       "      <td>2021</td>\n",
       "      <td>6.03</td>\n",
       "    </tr>\n",
       "    <tr>\n",
       "      <th>73</th>\n",
       "      <td>Fine particles (PM 2.5)</td>\n",
       "      <td>mcg/m3</td>\n",
       "      <td>Jackson Heights (CD3)</td>\n",
       "      <td>2021</td>\n",
       "      <td>6.64</td>\n",
       "    </tr>\n",
       "    <tr>\n",
       "      <th>74</th>\n",
       "      <td>Fine particles (PM 2.5)</td>\n",
       "      <td>mcg/m3</td>\n",
       "      <td>Elmhurst and Corona (CD4)</td>\n",
       "      <td>2021</td>\n",
       "      <td>6.71</td>\n",
       "    </tr>\n",
       "    <tr>\n",
       "      <th>75</th>\n",
       "      <td>Fine particles (PM 2.5)</td>\n",
       "      <td>mcg/m3</td>\n",
       "      <td>Central Harlem - Morningside Heights</td>\n",
       "      <td>2021</td>\n",
       "      <td>6.78</td>\n",
       "    </tr>\n",
       "    <tr>\n",
       "      <th>76</th>\n",
       "      <td>Fine particles (PM 2.5)</td>\n",
       "      <td>mcg/m3</td>\n",
       "      <td>Fresh Meadows</td>\n",
       "      <td>2021</td>\n",
       "      <td>6.27</td>\n",
       "    </tr>\n",
       "    <tr>\n",
       "      <th>77</th>\n",
       "      <td>Nitrogen dioxide (NO2)</td>\n",
       "      <td>ppb</td>\n",
       "      <td>Fresh Meadows</td>\n",
       "      <td>2021</td>\n",
       "      <td>14.90</td>\n",
       "    </tr>\n",
       "    <tr>\n",
       "      <th>78</th>\n",
       "      <td>Fine particles (PM 2.5)</td>\n",
       "      <td>mcg/m3</td>\n",
       "      <td>South Ozone Park and Howard Beach (CD10)</td>\n",
       "      <td>2021</td>\n",
       "      <td>6.19</td>\n",
       "    </tr>\n",
       "    <tr>\n",
       "      <th>79</th>\n",
       "      <td>Nitrogen dioxide (NO2)</td>\n",
       "      <td>ppb</td>\n",
       "      <td>Ridgewood - Forest Hills</td>\n",
       "      <td>2021</td>\n",
       "      <td>16.04</td>\n",
       "    </tr>\n",
       "    <tr>\n",
       "      <th>80</th>\n",
       "      <td>Nitrogen dioxide (NO2)</td>\n",
       "      <td>ppb</td>\n",
       "      <td>Queens Village (CD13)</td>\n",
       "      <td>2021</td>\n",
       "      <td>14.62</td>\n",
       "    </tr>\n",
       "    <tr>\n",
       "      <th>81</th>\n",
       "      <td>Fine particles (PM 2.5)</td>\n",
       "      <td>mcg/m3</td>\n",
       "      <td>Queens Village (CD13)</td>\n",
       "      <td>2021</td>\n",
       "      <td>6.34</td>\n",
       "    </tr>\n",
       "    <tr>\n",
       "      <th>82</th>\n",
       "      <td>Fine particles (PM 2.5)</td>\n",
       "      <td>mcg/m3</td>\n",
       "      <td>Southeast Queens</td>\n",
       "      <td>2021</td>\n",
       "      <td>6.23</td>\n",
       "    </tr>\n",
       "    <tr>\n",
       "      <th>83</th>\n",
       "      <td>Fine particles (PM 2.5)</td>\n",
       "      <td>mcg/m3</td>\n",
       "      <td>Flushing - Clearview</td>\n",
       "      <td>2021</td>\n",
       "      <td>6.45</td>\n",
       "    </tr>\n",
       "    <tr>\n",
       "      <th>84</th>\n",
       "      <td>Fine particles (PM 2.5)</td>\n",
       "      <td>mcg/m3</td>\n",
       "      <td>Kew Gardens and Woodhaven (CD9)</td>\n",
       "      <td>2021</td>\n",
       "      <td>6.46</td>\n",
       "    </tr>\n",
       "    <tr>\n",
       "      <th>85</th>\n",
       "      <td>Fine particles (PM 2.5)</td>\n",
       "      <td>mcg/m3</td>\n",
       "      <td>West Queens</td>\n",
       "      <td>2021</td>\n",
       "      <td>7.14</td>\n",
       "    </tr>\n",
       "    <tr>\n",
       "      <th>86</th>\n",
       "      <td>Fine particles (PM 2.5)</td>\n",
       "      <td>mcg/m3</td>\n",
       "      <td>Bayside and Little Neck (CD11)</td>\n",
       "      <td>2021</td>\n",
       "      <td>6.28</td>\n",
       "    </tr>\n",
       "    <tr>\n",
       "      <th>87</th>\n",
       "      <td>Fine particles (PM 2.5)</td>\n",
       "      <td>mcg/m3</td>\n",
       "      <td>Southwest Queens</td>\n",
       "      <td>2021</td>\n",
       "      <td>6.30</td>\n",
       "    </tr>\n",
       "    <tr>\n",
       "      <th>88</th>\n",
       "      <td>Fine particles (PM 2.5)</td>\n",
       "      <td>mcg/m3</td>\n",
       "      <td>Long Island City - Astoria</td>\n",
       "      <td>2021</td>\n",
       "      <td>7.20</td>\n",
       "    </tr>\n",
       "    <tr>\n",
       "      <th>89</th>\n",
       "      <td>Fine particles (PM 2.5)</td>\n",
       "      <td>mcg/m3</td>\n",
       "      <td>South Bronx</td>\n",
       "      <td>2021</td>\n",
       "      <td>6.83</td>\n",
       "    </tr>\n",
       "    <tr>\n",
       "      <th>90</th>\n",
       "      <td>Fine particles (PM 2.5)</td>\n",
       "      <td>mcg/m3</td>\n",
       "      <td>Port Richmond</td>\n",
       "      <td>2021</td>\n",
       "      <td>6.37</td>\n",
       "    </tr>\n",
       "    <tr>\n",
       "      <th>91</th>\n",
       "      <td>Fine particles (PM 2.5)</td>\n",
       "      <td>mcg/m3</td>\n",
       "      <td>Rockaways</td>\n",
       "      <td>2021</td>\n",
       "      <td>5.92</td>\n",
       "    </tr>\n",
       "    <tr>\n",
       "      <th>92</th>\n",
       "      <td>Fine particles (PM 2.5)</td>\n",
       "      <td>mcg/m3</td>\n",
       "      <td>Stapleton - St. George</td>\n",
       "      <td>2021</td>\n",
       "      <td>6.25</td>\n",
       "    </tr>\n",
       "    <tr>\n",
       "      <th>93</th>\n",
       "      <td>Nitrogen dioxide (NO2)</td>\n",
       "      <td>ppb</td>\n",
       "      <td>Union Square-Lower Manhattan</td>\n",
       "      <td>2021</td>\n",
       "      <td>20.16</td>\n",
       "    </tr>\n",
       "    <tr>\n",
       "      <th>94</th>\n",
       "      <td>Fine particles (PM 2.5)</td>\n",
       "      <td>mcg/m3</td>\n",
       "      <td>Southern SI</td>\n",
       "      <td>2021</td>\n",
       "      <td>6.09</td>\n",
       "    </tr>\n",
       "    <tr>\n",
       "      <th>95</th>\n",
       "      <td>Nitrogen dioxide (NO2)</td>\n",
       "      <td>ppb</td>\n",
       "      <td>Port Richmond</td>\n",
       "      <td>2021</td>\n",
       "      <td>15.66</td>\n",
       "    </tr>\n",
       "    <tr>\n",
       "      <th>96</th>\n",
       "      <td>Fine particles (PM 2.5)</td>\n",
       "      <td>mcg/m3</td>\n",
       "      <td>Willowbrook</td>\n",
       "      <td>2021</td>\n",
       "      <td>6.18</td>\n",
       "    </tr>\n",
       "    <tr>\n",
       "      <th>97</th>\n",
       "      <td>Fine particles (PM 2.5)</td>\n",
       "      <td>mcg/m3</td>\n",
       "      <td>Ridgewood - Forest Hills</td>\n",
       "      <td>2021</td>\n",
       "      <td>6.54</td>\n",
       "    </tr>\n",
       "    <tr>\n",
       "      <th>98</th>\n",
       "      <td>Nitrogen dioxide (NO2)</td>\n",
       "      <td>ppb</td>\n",
       "      <td>Chelsea-Village</td>\n",
       "      <td>2021</td>\n",
       "      <td>22.64</td>\n",
       "    </tr>\n",
       "    <tr>\n",
       "      <th>99</th>\n",
       "      <td>Fine particles (PM 2.5)</td>\n",
       "      <td>mcg/m3</td>\n",
       "      <td>Union Square-Lower Manhattan</td>\n",
       "      <td>2021</td>\n",
       "      <td>7.73</td>\n",
       "    </tr>\n",
       "    <tr>\n",
       "      <th>100</th>\n",
       "      <td>Fine particles (PM 2.5)</td>\n",
       "      <td>mcg/m3</td>\n",
       "      <td>Northern SI</td>\n",
       "      <td>2021</td>\n",
       "      <td>6.29</td>\n",
       "    </tr>\n",
       "    <tr>\n",
       "      <th>101</th>\n",
       "      <td>Fine particles (PM 2.5)</td>\n",
       "      <td>mcg/m3</td>\n",
       "      <td>Kingsbridge - Riverdale</td>\n",
       "      <td>2021</td>\n",
       "      <td>6.57</td>\n",
       "    </tr>\n",
       "    <tr>\n",
       "      <th>102</th>\n",
       "      <td>Nitrogen dioxide (NO2)</td>\n",
       "      <td>ppb</td>\n",
       "      <td>Brownsville (CD16)</td>\n",
       "      <td>2021</td>\n",
       "      <td>16.73</td>\n",
       "    </tr>\n",
       "    <tr>\n",
       "      <th>103</th>\n",
       "      <td>Nitrogen dioxide (NO2)</td>\n",
       "      <td>ppb</td>\n",
       "      <td>Chelsea - Clinton</td>\n",
       "      <td>2021</td>\n",
       "      <td>23.32</td>\n",
       "    </tr>\n",
       "    <tr>\n",
       "      <th>104</th>\n",
       "      <td>Fine particles (PM 2.5)</td>\n",
       "      <td>mcg/m3</td>\n",
       "      <td>East New York</td>\n",
       "      <td>2021</td>\n",
       "      <td>6.55</td>\n",
       "    </tr>\n",
       "    <tr>\n",
       "      <th>105</th>\n",
       "      <td>Fine particles (PM 2.5)</td>\n",
       "      <td>mcg/m3</td>\n",
       "      <td>Upper East Side-Gramercy</td>\n",
       "      <td>2021</td>\n",
       "      <td>7.55</td>\n",
       "    </tr>\n",
       "    <tr>\n",
       "      <th>106</th>\n",
       "      <td>Nitrogen dioxide (NO2)</td>\n",
       "      <td>ppb</td>\n",
       "      <td>East New York and Starrett City (CD5)</td>\n",
       "      <td>2021</td>\n",
       "      <td>15.86</td>\n",
       "    </tr>\n",
       "    <tr>\n",
       "      <th>107</th>\n",
       "      <td>Nitrogen dioxide (NO2)</td>\n",
       "      <td>ppb</td>\n",
       "      <td>South Ozone Park and Howard Beach (CD10)</td>\n",
       "      <td>2021</td>\n",
       "      <td>14.64</td>\n",
       "    </tr>\n",
       "    <tr>\n",
       "      <th>108</th>\n",
       "      <td>Nitrogen dioxide (NO2)</td>\n",
       "      <td>ppb</td>\n",
       "      <td>Rego Park and Forest Hills (CD6)</td>\n",
       "      <td>2021</td>\n",
       "      <td>15.83</td>\n",
       "    </tr>\n",
       "    <tr>\n",
       "      <th>109</th>\n",
       "      <td>Nitrogen dioxide (NO2)</td>\n",
       "      <td>ppb</td>\n",
       "      <td>Hillcrest and Fresh Meadows (CD8)</td>\n",
       "      <td>2021</td>\n",
       "      <td>14.66</td>\n",
       "    </tr>\n",
       "    <tr>\n",
       "      <th>110</th>\n",
       "      <td>Fine particles (PM 2.5)</td>\n",
       "      <td>mcg/m3</td>\n",
       "      <td>Chelsea-Village</td>\n",
       "      <td>2021</td>\n",
       "      <td>8.37</td>\n",
       "    </tr>\n",
       "    <tr>\n",
       "      <th>111</th>\n",
       "      <td>Nitrogen dioxide (NO2)</td>\n",
       "      <td>ppb</td>\n",
       "      <td>Central Harlem - Morningside Heights</td>\n",
       "      <td>2021</td>\n",
       "      <td>18.21</td>\n",
       "    </tr>\n",
       "    <tr>\n",
       "      <th>112</th>\n",
       "      <td>Fine particles (PM 2.5)</td>\n",
       "      <td>mcg/m3</td>\n",
       "      <td>Lower Manhattan</td>\n",
       "      <td>2021</td>\n",
       "      <td>7.58</td>\n",
       "    </tr>\n",
       "    <tr>\n",
       "      <th>113</th>\n",
       "      <td>Fine particles (PM 2.5)</td>\n",
       "      <td>mcg/m3</td>\n",
       "      <td>Union Square - Lower East Side</td>\n",
       "      <td>2021</td>\n",
       "      <td>7.80</td>\n",
       "    </tr>\n",
       "    <tr>\n",
       "      <th>114</th>\n",
       "      <td>Fine particles (PM 2.5)</td>\n",
       "      <td>mcg/m3</td>\n",
       "      <td>Flatlands and Canarsie (CD18)</td>\n",
       "      <td>2021</td>\n",
       "      <td>6.25</td>\n",
       "    </tr>\n",
       "    <tr>\n",
       "      <th>115</th>\n",
       "      <td>Nitrogen dioxide (NO2)</td>\n",
       "      <td>ppb</td>\n",
       "      <td>Sheepshead Bay (CD15)</td>\n",
       "      <td>2021</td>\n",
       "      <td>14.85</td>\n",
       "    </tr>\n",
       "    <tr>\n",
       "      <th>116</th>\n",
       "      <td>Fine particles (PM 2.5)</td>\n",
       "      <td>mcg/m3</td>\n",
       "      <td>South Crown Heights and Lefferts Gardens (CD9)</td>\n",
       "      <td>2021</td>\n",
       "      <td>6.50</td>\n",
       "    </tr>\n",
       "    <tr>\n",
       "      <th>117</th>\n",
       "      <td>Fine particles (PM 2.5)</td>\n",
       "      <td>mcg/m3</td>\n",
       "      <td>Morris Park and Bronxdale (CD11)</td>\n",
       "      <td>2021</td>\n",
       "      <td>6.55</td>\n",
       "    </tr>\n",
       "    <tr>\n",
       "      <th>118</th>\n",
       "      <td>Fine particles (PM 2.5)</td>\n",
       "      <td>mcg/m3</td>\n",
       "      <td>Downtown - Heights - Slope</td>\n",
       "      <td>2021</td>\n",
       "      <td>7.10</td>\n",
       "    </tr>\n",
       "    <tr>\n",
       "      <th>119</th>\n",
       "      <td>Fine particles (PM 2.5)</td>\n",
       "      <td>mcg/m3</td>\n",
       "      <td>East Harlem</td>\n",
       "      <td>2021</td>\n",
       "      <td>6.79</td>\n",
       "    </tr>\n",
       "    <tr>\n",
       "      <th>120</th>\n",
       "      <td>Nitrogen dioxide (NO2)</td>\n",
       "      <td>ppb</td>\n",
       "      <td>Park Slope and Carroll Gardens (CD6)</td>\n",
       "      <td>2021</td>\n",
       "      <td>18.60</td>\n",
       "    </tr>\n",
       "    <tr>\n",
       "      <th>121</th>\n",
       "      <td>Nitrogen dioxide (NO2)</td>\n",
       "      <td>ppb</td>\n",
       "      <td>Willowbrook</td>\n",
       "      <td>2021</td>\n",
       "      <td>13.26</td>\n",
       "    </tr>\n",
       "    <tr>\n",
       "      <th>122</th>\n",
       "      <td>Fine particles (PM 2.5)</td>\n",
       "      <td>mcg/m3</td>\n",
       "      <td>Bay Ridge and Dyker Heights (CD10)</td>\n",
       "      <td>2021</td>\n",
       "      <td>6.53</td>\n",
       "    </tr>\n",
       "    <tr>\n",
       "      <th>123</th>\n",
       "      <td>Nitrogen dioxide (NO2)</td>\n",
       "      <td>ppb</td>\n",
       "      <td>Bayside and Little Neck (CD11)</td>\n",
       "      <td>2021</td>\n",
       "      <td>14.17</td>\n",
       "    </tr>\n",
       "    <tr>\n",
       "      <th>124</th>\n",
       "      <td>Nitrogen dioxide (NO2)</td>\n",
       "      <td>ppb</td>\n",
       "      <td>Upper East Side</td>\n",
       "      <td>2021</td>\n",
       "      <td>20.31</td>\n",
       "    </tr>\n",
       "    <tr>\n",
       "      <th>125</th>\n",
       "      <td>Fine particles (PM 2.5)</td>\n",
       "      <td>mcg/m3</td>\n",
       "      <td>Throgs Neck and Co-op City (CD10)</td>\n",
       "      <td>2021</td>\n",
       "      <td>6.52</td>\n",
       "    </tr>\n",
       "    <tr>\n",
       "      <th>126</th>\n",
       "      <td>Nitrogen dioxide (NO2)</td>\n",
       "      <td>ppb</td>\n",
       "      <td>Tottenville and Great Kills (CD3)</td>\n",
       "      <td>2021</td>\n",
       "      <td>11.12</td>\n",
       "    </tr>\n",
       "    <tr>\n",
       "      <th>127</th>\n",
       "      <td>Nitrogen dioxide (NO2)</td>\n",
       "      <td>ppb</td>\n",
       "      <td>Elmhurst and Corona (CD4)</td>\n",
       "      <td>2021</td>\n",
       "      <td>17.49</td>\n",
       "    </tr>\n",
       "    <tr>\n",
       "      <th>128</th>\n",
       "      <td>Nitrogen dioxide (NO2)</td>\n",
       "      <td>ppb</td>\n",
       "      <td>St. George and Stapleton (CD1)</td>\n",
       "      <td>2021</td>\n",
       "      <td>15.32</td>\n",
       "    </tr>\n",
       "    <tr>\n",
       "      <th>129</th>\n",
       "      <td>Nitrogen dioxide (NO2)</td>\n",
       "      <td>ppb</td>\n",
       "      <td>South Crown Heights and Lefferts Gardens (CD9)</td>\n",
       "      <td>2021</td>\n",
       "      <td>17.02</td>\n",
       "    </tr>\n",
       "    <tr>\n",
       "      <th>130</th>\n",
       "      <td>Nitrogen dioxide (NO2)</td>\n",
       "      <td>ppb</td>\n",
       "      <td>Throgs Neck and Co-op City (CD10)</td>\n",
       "      <td>2021</td>\n",
       "      <td>15.39</td>\n",
       "    </tr>\n",
       "    <tr>\n",
       "      <th>131</th>\n",
       "      <td>Fine particles (PM 2.5)</td>\n",
       "      <td>mcg/m3</td>\n",
       "      <td>South Beach and Willowbrook (CD2)</td>\n",
       "      <td>2021</td>\n",
       "      <td>6.16</td>\n",
       "    </tr>\n",
       "    <tr>\n",
       "      <th>132</th>\n",
       "      <td>Nitrogen dioxide (NO2)</td>\n",
       "      <td>ppb</td>\n",
       "      <td>Morris Park and Bronxdale (CD11)</td>\n",
       "      <td>2021</td>\n",
       "      <td>16.29</td>\n",
       "    </tr>\n",
       "    <tr>\n",
       "      <th>133</th>\n",
       "      <td>Nitrogen dioxide (NO2)</td>\n",
       "      <td>ppb</td>\n",
       "      <td>East Flatbush (CD17)</td>\n",
       "      <td>2021</td>\n",
       "      <td>16.52</td>\n",
       "    </tr>\n",
       "    <tr>\n",
       "      <th>134</th>\n",
       "      <td>Nitrogen dioxide (NO2)</td>\n",
       "      <td>ppb</td>\n",
       "      <td>Flatlands and Canarsie (CD18)</td>\n",
       "      <td>2021</td>\n",
       "      <td>14.26</td>\n",
       "    </tr>\n",
       "    <tr>\n",
       "      <th>135</th>\n",
       "      <td>Nitrogen dioxide (NO2)</td>\n",
       "      <td>ppb</td>\n",
       "      <td>Bushwick (CD4)</td>\n",
       "      <td>2021</td>\n",
       "      <td>17.51</td>\n",
       "    </tr>\n",
       "    <tr>\n",
       "      <th>136</th>\n",
       "      <td>Nitrogen dioxide (NO2)</td>\n",
       "      <td>ppb</td>\n",
       "      <td>Bedford Stuyvesant (CD3)</td>\n",
       "      <td>2021</td>\n",
       "      <td>17.88</td>\n",
       "    </tr>\n",
       "    <tr>\n",
       "      <th>137</th>\n",
       "      <td>Nitrogen dioxide (NO2)</td>\n",
       "      <td>ppb</td>\n",
       "      <td>South Beach and Willowbrook (CD2)</td>\n",
       "      <td>2021</td>\n",
       "      <td>13.01</td>\n",
       "    </tr>\n",
       "    <tr>\n",
       "      <th>138</th>\n",
       "      <td>Nitrogen dioxide (NO2)</td>\n",
       "      <td>ppb</td>\n",
       "      <td>Long Island City and Astoria (CD1)</td>\n",
       "      <td>2021</td>\n",
       "      <td>17.34</td>\n",
       "    </tr>\n",
       "    <tr>\n",
       "      <th>139</th>\n",
       "      <td>Fine particles (PM 2.5)</td>\n",
       "      <td>mcg/m3</td>\n",
       "      <td>Gramercy Park - Murray Hill</td>\n",
       "      <td>2021</td>\n",
       "      <td>8.15</td>\n",
       "    </tr>\n",
       "    <tr>\n",
       "      <th>140</th>\n",
       "      <td>Fine particles (PM 2.5)</td>\n",
       "      <td>mcg/m3</td>\n",
       "      <td>Bushwick (CD4)</td>\n",
       "      <td>2021</td>\n",
       "      <td>6.87</td>\n",
       "    </tr>\n",
       "    <tr>\n",
       "      <th>141</th>\n",
       "      <td>Nitrogen dioxide (NO2)</td>\n",
       "      <td>ppb</td>\n",
       "      <td>Jamaica</td>\n",
       "      <td>2021</td>\n",
       "      <td>15.30</td>\n",
       "    </tr>\n",
       "    <tr>\n",
       "      <th>142</th>\n",
       "      <td>Nitrogen dioxide (NO2)</td>\n",
       "      <td>ppb</td>\n",
       "      <td>Gramercy Park - Murray Hill</td>\n",
       "      <td>2021</td>\n",
       "      <td>23.54</td>\n",
       "    </tr>\n",
       "    <tr>\n",
       "      <th>143</th>\n",
       "      <td>Fine particles (PM 2.5)</td>\n",
       "      <td>mcg/m3</td>\n",
       "      <td>Canarsie - Flatlands</td>\n",
       "      <td>2021</td>\n",
       "      <td>6.27</td>\n",
       "    </tr>\n",
       "    <tr>\n",
       "      <th>144</th>\n",
       "      <td>Fine particles (PM 2.5)</td>\n",
       "      <td>mcg/m3</td>\n",
       "      <td>East Flatbush - Flatbush</td>\n",
       "      <td>2021</td>\n",
       "      <td>6.44</td>\n",
       "    </tr>\n",
       "    <tr>\n",
       "      <th>145</th>\n",
       "      <td>Nitrogen dioxide (NO2)</td>\n",
       "      <td>ppb</td>\n",
       "      <td>Greenpoint and Williamsburg (CD1)</td>\n",
       "      <td>2021</td>\n",
       "      <td>20.75</td>\n",
       "    </tr>\n",
       "    <tr>\n",
       "      <th>146</th>\n",
       "      <td>Fine particles (PM 2.5)</td>\n",
       "      <td>mcg/m3</td>\n",
       "      <td>Williamsburg - Bushwick</td>\n",
       "      <td>2021</td>\n",
       "      <td>7.25</td>\n",
       "    </tr>\n",
       "    <tr>\n",
       "      <th>147</th>\n",
       "      <td>Fine particles (PM 2.5)</td>\n",
       "      <td>mcg/m3</td>\n",
       "      <td>Rockaway and Broad Channel (CD14)</td>\n",
       "      <td>2021</td>\n",
       "      <td>5.92</td>\n",
       "    </tr>\n",
       "    <tr>\n",
       "      <th>148</th>\n",
       "      <td>Nitrogen dioxide (NO2)</td>\n",
       "      <td>ppb</td>\n",
       "      <td>Lower Manhattan</td>\n",
       "      <td>2021</td>\n",
       "      <td>21.49</td>\n",
       "    </tr>\n",
       "    <tr>\n",
       "      <th>149</th>\n",
       "      <td>Nitrogen dioxide (NO2)</td>\n",
       "      <td>ppb</td>\n",
       "      <td>Union Square - Lower East Side</td>\n",
       "      <td>2021</td>\n",
       "      <td>19.55</td>\n",
       "    </tr>\n",
       "    <tr>\n",
       "      <th>150</th>\n",
       "      <td>Fine particles (PM 2.5)</td>\n",
       "      <td>mcg/m3</td>\n",
       "      <td>Upper East Side</td>\n",
       "      <td>2021</td>\n",
       "      <td>7.02</td>\n",
       "    </tr>\n",
       "    <tr>\n",
       "      <th>151</th>\n",
       "      <td>Nitrogen dioxide (NO2)</td>\n",
       "      <td>ppb</td>\n",
       "      <td>Coney Island - Sheepshead Bay</td>\n",
       "      <td>2021</td>\n",
       "      <td>14.68</td>\n",
       "    </tr>\n",
       "    <tr>\n",
       "      <th>152</th>\n",
       "      <td>Nitrogen dioxide (NO2)</td>\n",
       "      <td>ppb</td>\n",
       "      <td>Borough Park</td>\n",
       "      <td>2021</td>\n",
       "      <td>16.74</td>\n",
       "    </tr>\n",
       "    <tr>\n",
       "      <th>153</th>\n",
       "      <td>Fine particles (PM 2.5)</td>\n",
       "      <td>mcg/m3</td>\n",
       "      <td>Coney Island - Sheepshead Bay</td>\n",
       "      <td>2021</td>\n",
       "      <td>6.27</td>\n",
       "    </tr>\n",
       "    <tr>\n",
       "      <th>154</th>\n",
       "      <td>Fine particles (PM 2.5)</td>\n",
       "      <td>mcg/m3</td>\n",
       "      <td>Upper West Side</td>\n",
       "      <td>2021</td>\n",
       "      <td>6.80</td>\n",
       "    </tr>\n",
       "    <tr>\n",
       "      <th>155</th>\n",
       "      <td>Nitrogen dioxide (NO2)</td>\n",
       "      <td>ppb</td>\n",
       "      <td>South Beach - Tottenville</td>\n",
       "      <td>2021</td>\n",
       "      <td>11.30</td>\n",
       "    </tr>\n",
       "    <tr>\n",
       "      <th>156</th>\n",
       "      <td>Fine particles (PM 2.5)</td>\n",
       "      <td>mcg/m3</td>\n",
       "      <td>South Beach - Tottenville</td>\n",
       "      <td>2021</td>\n",
       "      <td>6.04</td>\n",
       "    </tr>\n",
       "    <tr>\n",
       "      <th>157</th>\n",
       "      <td>Fine particles (PM 2.5)</td>\n",
       "      <td>mcg/m3</td>\n",
       "      <td>Bayside - Little Neck</td>\n",
       "      <td>2021</td>\n",
       "      <td>6.29</td>\n",
       "    </tr>\n",
       "    <tr>\n",
       "      <th>158</th>\n",
       "      <td>Nitrogen dioxide (NO2)</td>\n",
       "      <td>ppb</td>\n",
       "      <td>Washington Heights</td>\n",
       "      <td>2021</td>\n",
       "      <td>17.10</td>\n",
       "    </tr>\n",
       "    <tr>\n",
       "      <th>159</th>\n",
       "      <td>Nitrogen dioxide (NO2)</td>\n",
       "      <td>ppb</td>\n",
       "      <td>Williamsbridge and Baychester (CD12)</td>\n",
       "      <td>2021</td>\n",
       "      <td>15.64</td>\n",
       "    </tr>\n",
       "    <tr>\n",
       "      <th>160</th>\n",
       "      <td>Fine particles (PM 2.5)</td>\n",
       "      <td>mcg/m3</td>\n",
       "      <td>Bayside Little Neck-Fresh Meadows</td>\n",
       "      <td>2021</td>\n",
       "      <td>6.28</td>\n",
       "    </tr>\n",
       "    <tr>\n",
       "      <th>161</th>\n",
       "      <td>Nitrogen dioxide (NO2)</td>\n",
       "      <td>ppb</td>\n",
       "      <td>Washington Heights and Inwood (CD12)</td>\n",
       "      <td>2021</td>\n",
       "      <td>16.91</td>\n",
       "    </tr>\n",
       "    <tr>\n",
       "      <th>162</th>\n",
       "      <td>Fine particles (PM 2.5)</td>\n",
       "      <td>mcg/m3</td>\n",
       "      <td>Washington Heights and Inwood (CD12)</td>\n",
       "      <td>2021</td>\n",
       "      <td>6.88</td>\n",
       "    </tr>\n",
       "    <tr>\n",
       "      <th>163</th>\n",
       "      <td>Fine particles (PM 2.5)</td>\n",
       "      <td>mcg/m3</td>\n",
       "      <td>Central Harlem (CD10)</td>\n",
       "      <td>2021</td>\n",
       "      <td>6.77</td>\n",
       "    </tr>\n",
       "    <tr>\n",
       "      <th>164</th>\n",
       "      <td>Nitrogen dioxide (NO2)</td>\n",
       "      <td>ppb</td>\n",
       "      <td>Belmont and East Tremont (CD6)</td>\n",
       "      <td>2021</td>\n",
       "      <td>17.36</td>\n",
       "    </tr>\n",
       "    <tr>\n",
       "      <th>165</th>\n",
       "      <td>Fine particles (PM 2.5)</td>\n",
       "      <td>mcg/m3</td>\n",
       "      <td>Bedford Stuyvesant - Crown Heights</td>\n",
       "      <td>2021</td>\n",
       "      <td>6.61</td>\n",
       "    </tr>\n",
       "    <tr>\n",
       "      <th>166</th>\n",
       "      <td>Nitrogen dioxide (NO2)</td>\n",
       "      <td>ppb</td>\n",
       "      <td>Canarsie - Flatlands</td>\n",
       "      <td>2021</td>\n",
       "      <td>14.28</td>\n",
       "    </tr>\n",
       "    <tr>\n",
       "      <th>167</th>\n",
       "      <td>Nitrogen dioxide (NO2)</td>\n",
       "      <td>ppb</td>\n",
       "      <td>East Flatbush - Flatbush</td>\n",
       "      <td>2021</td>\n",
       "      <td>16.38</td>\n",
       "    </tr>\n",
       "    <tr>\n",
       "      <th>168</th>\n",
       "      <td>Fine particles (PM 2.5)</td>\n",
       "      <td>mcg/m3</td>\n",
       "      <td>Bedford Stuyvesant (CD3)</td>\n",
       "      <td>2021</td>\n",
       "      <td>6.84</td>\n",
       "    </tr>\n",
       "    <tr>\n",
       "      <th>169</th>\n",
       "      <td>Fine particles (PM 2.5)</td>\n",
       "      <td>mcg/m3</td>\n",
       "      <td>Morrisania and Crotona (CD3)</td>\n",
       "      <td>2021</td>\n",
       "      <td>6.70</td>\n",
       "    </tr>\n",
       "    <tr>\n",
       "      <th>170</th>\n",
       "      <td>Fine particles (PM 2.5)</td>\n",
       "      <td>mcg/m3</td>\n",
       "      <td>Highbridge and Concourse (CD4)</td>\n",
       "      <td>2021</td>\n",
       "      <td>6.65</td>\n",
       "    </tr>\n",
       "    <tr>\n",
       "      <th>171</th>\n",
       "      <td>Fine particles (PM 2.5)</td>\n",
       "      <td>mcg/m3</td>\n",
       "      <td>Upper East Side (CD8)</td>\n",
       "      <td>2021</td>\n",
       "      <td>7.03</td>\n",
       "    </tr>\n",
       "    <tr>\n",
       "      <th>172</th>\n",
       "      <td>Fine particles (PM 2.5)</td>\n",
       "      <td>mcg/m3</td>\n",
       "      <td>Williamsbridge and Baychester (CD12)</td>\n",
       "      <td>2021</td>\n",
       "      <td>6.49</td>\n",
       "    </tr>\n",
       "    <tr>\n",
       "      <th>173</th>\n",
       "      <td>Fine particles (PM 2.5)</td>\n",
       "      <td>mcg/m3</td>\n",
       "      <td>East New York and Starrett City (CD5)</td>\n",
       "      <td>2021</td>\n",
       "      <td>6.51</td>\n",
       "    </tr>\n",
       "    <tr>\n",
       "      <th>174</th>\n",
       "      <td>Fine particles (PM 2.5)</td>\n",
       "      <td>mcg/m3</td>\n",
       "      <td>Fordham and University Heights (CD5)</td>\n",
       "      <td>2021</td>\n",
       "      <td>6.76</td>\n",
       "    </tr>\n",
       "    <tr>\n",
       "      <th>175</th>\n",
       "      <td>Nitrogen dioxide (NO2)</td>\n",
       "      <td>ppb</td>\n",
       "      <td>Mott Haven and Melrose (CD1)</td>\n",
       "      <td>2021</td>\n",
       "      <td>18.75</td>\n",
       "    </tr>\n",
       "    <tr>\n",
       "      <th>176</th>\n",
       "      <td>Fine particles (PM 2.5)</td>\n",
       "      <td>mcg/m3</td>\n",
       "      <td>Greenpoint and Williamsburg (CD1)</td>\n",
       "      <td>2021</td>\n",
       "      <td>7.74</td>\n",
       "    </tr>\n",
       "    <tr>\n",
       "      <th>177</th>\n",
       "      <td>Fine particles (PM 2.5)</td>\n",
       "      <td>mcg/m3</td>\n",
       "      <td>Mott Haven and Melrose (CD1)</td>\n",
       "      <td>2021</td>\n",
       "      <td>6.84</td>\n",
       "    </tr>\n",
       "    <tr>\n",
       "      <th>178</th>\n",
       "      <td>Fine particles (PM 2.5)</td>\n",
       "      <td>mcg/m3</td>\n",
       "      <td>High Bridge - Morrisania</td>\n",
       "      <td>2021</td>\n",
       "      <td>6.63</td>\n",
       "    </tr>\n",
       "    <tr>\n",
       "      <th>179</th>\n",
       "      <td>Fine particles (PM 2.5)</td>\n",
       "      <td>mcg/m3</td>\n",
       "      <td>Bensonhurst - Bay Ridge</td>\n",
       "      <td>2021</td>\n",
       "      <td>6.43</td>\n",
       "    </tr>\n",
       "    <tr>\n",
       "      <th>180</th>\n",
       "      <td>Fine particles (PM 2.5)</td>\n",
       "      <td>mcg/m3</td>\n",
       "      <td>Sunset Park</td>\n",
       "      <td>2021</td>\n",
       "      <td>6.99</td>\n",
       "    </tr>\n",
       "    <tr>\n",
       "      <th>181</th>\n",
       "      <td>Fine particles (PM 2.5)</td>\n",
       "      <td>mcg/m3</td>\n",
       "      <td>East Harlem (CD11)</td>\n",
       "      <td>2021</td>\n",
       "      <td>6.79</td>\n",
       "    </tr>\n",
       "    <tr>\n",
       "      <th>182</th>\n",
       "      <td>Nitrogen dioxide (NO2)</td>\n",
       "      <td>ppb</td>\n",
       "      <td>Southern SI</td>\n",
       "      <td>2021</td>\n",
       "      <td>12.03</td>\n",
       "    </tr>\n",
       "    <tr>\n",
       "      <th>183</th>\n",
       "      <td>Nitrogen dioxide (NO2)</td>\n",
       "      <td>ppb</td>\n",
       "      <td>Central Harlem (CD10)</td>\n",
       "      <td>2021</td>\n",
       "      <td>18.31</td>\n",
       "    </tr>\n",
       "    <tr>\n",
       "      <th>184</th>\n",
       "      <td>Nitrogen dioxide (NO2)</td>\n",
       "      <td>ppb</td>\n",
       "      <td>East Harlem (CD11)</td>\n",
       "      <td>2021</td>\n",
       "      <td>18.25</td>\n",
       "    </tr>\n",
       "    <tr>\n",
       "      <th>185</th>\n",
       "      <td>Nitrogen dioxide (NO2)</td>\n",
       "      <td>ppb</td>\n",
       "      <td>Rockaway and Broad Channel (CD14)</td>\n",
       "      <td>2021</td>\n",
       "      <td>11.34</td>\n",
       "    </tr>\n",
       "    <tr>\n",
       "      <th>186</th>\n",
       "      <td>Nitrogen dioxide (NO2)</td>\n",
       "      <td>ppb</td>\n",
       "      <td>Flatbush and Midwood (CD14)</td>\n",
       "      <td>2021</td>\n",
       "      <td>16.17</td>\n",
       "    </tr>\n",
       "    <tr>\n",
       "      <th>187</th>\n",
       "      <td>Nitrogen dioxide (NO2)</td>\n",
       "      <td>ppb</td>\n",
       "      <td>Fordham and University Heights (CD5)</td>\n",
       "      <td>2021</td>\n",
       "      <td>18.12</td>\n",
       "    </tr>\n",
       "    <tr>\n",
       "      <th>188</th>\n",
       "      <td>Nitrogen dioxide (NO2)</td>\n",
       "      <td>ppb</td>\n",
       "      <td>Highbridge and Concourse (CD4)</td>\n",
       "      <td>2021</td>\n",
       "      <td>18.11</td>\n",
       "    </tr>\n",
       "    <tr>\n",
       "      <th>189</th>\n",
       "      <td>Nitrogen dioxide (NO2)</td>\n",
       "      <td>ppb</td>\n",
       "      <td>Morrisania and Crotona (CD3)</td>\n",
       "      <td>2021</td>\n",
       "      <td>17.32</td>\n",
       "    </tr>\n",
       "    <tr>\n",
       "      <th>190</th>\n",
       "      <td>Fine particles (PM 2.5)</td>\n",
       "      <td>mcg/m3</td>\n",
       "      <td>Flatbush and Midwood (CD14)</td>\n",
       "      <td>2021</td>\n",
       "      <td>6.43</td>\n",
       "    </tr>\n",
       "    <tr>\n",
       "      <th>191</th>\n",
       "      <td>Fine particles (PM 2.5)</td>\n",
       "      <td>mcg/m3</td>\n",
       "      <td>Sunset Park (CD7)</td>\n",
       "      <td>2021</td>\n",
       "      <td>7.00</td>\n",
       "    </tr>\n",
       "    <tr>\n",
       "      <th>192</th>\n",
       "      <td>Fine particles (PM 2.5)</td>\n",
       "      <td>mcg/m3</td>\n",
       "      <td>Kingsbridge Heights and Bedford (CD7)</td>\n",
       "      <td>2021</td>\n",
       "      <td>6.64</td>\n",
       "    </tr>\n",
       "    <tr>\n",
       "      <th>193</th>\n",
       "      <td>Nitrogen dioxide (NO2)</td>\n",
       "      <td>ppb</td>\n",
       "      <td>Bayside - Little Neck</td>\n",
       "      <td>2021</td>\n",
       "      <td>13.91</td>\n",
       "    </tr>\n",
       "    <tr>\n",
       "      <th>194</th>\n",
       "      <td>Nitrogen dioxide (NO2)</td>\n",
       "      <td>ppb</td>\n",
       "      <td>Bedford Stuyvesant - Crown Heights</td>\n",
       "      <td>2021</td>\n",
       "      <td>17.12</td>\n",
       "    </tr>\n",
       "    <tr>\n",
       "      <th>195</th>\n",
       "      <td>Nitrogen dioxide (NO2)</td>\n",
       "      <td>ppb</td>\n",
       "      <td>Parkchester and Soundview (CD9)</td>\n",
       "      <td>2021</td>\n",
       "      <td>16.64</td>\n",
       "    </tr>\n",
       "    <tr>\n",
       "      <th>196</th>\n",
       "      <td>Fine particles (PM 2.5)</td>\n",
       "      <td>mcg/m3</td>\n",
       "      <td>Pelham - Throgs Neck</td>\n",
       "      <td>2021</td>\n",
       "      <td>6.60</td>\n",
       "    </tr>\n",
       "    <tr>\n",
       "      <th>197</th>\n",
       "      <td>Nitrogen dioxide (NO2)</td>\n",
       "      <td>ppb</td>\n",
       "      <td>Crotona -Tremont</td>\n",
       "      <td>2021</td>\n",
       "      <td>17.64</td>\n",
       "    </tr>\n",
       "    <tr>\n",
       "      <th>198</th>\n",
       "      <td>Nitrogen dioxide (NO2)</td>\n",
       "      <td>ppb</td>\n",
       "      <td>New York City</td>\n",
       "      <td>2021</td>\n",
       "      <td>15.68</td>\n",
       "    </tr>\n",
       "    <tr>\n",
       "      <th>199</th>\n",
       "      <td>Nitrogen dioxide (NO2)</td>\n",
       "      <td>ppb</td>\n",
       "      <td>Northeast Bronx</td>\n",
       "      <td>2021</td>\n",
       "      <td>15.98</td>\n",
       "    </tr>\n",
       "    <tr>\n",
       "      <th>200</th>\n",
       "      <td>Fine particles (PM 2.5)</td>\n",
       "      <td>mcg/m3</td>\n",
       "      <td>New York City</td>\n",
       "      <td>2021</td>\n",
       "      <td>6.54</td>\n",
       "    </tr>\n",
       "    <tr>\n",
       "      <th>201</th>\n",
       "      <td>Nitrogen dioxide (NO2)</td>\n",
       "      <td>ppb</td>\n",
       "      <td>Manhattan</td>\n",
       "      <td>2021</td>\n",
       "      <td>19.97</td>\n",
       "    </tr>\n",
       "    <tr>\n",
       "      <th>202</th>\n",
       "      <td>Nitrogen dioxide (NO2)</td>\n",
       "      <td>ppb</td>\n",
       "      <td>Lower East Side and Chinatown (CD3)</td>\n",
       "      <td>2021</td>\n",
       "      <td>19.29</td>\n",
       "    </tr>\n",
       "    <tr>\n",
       "      <th>203</th>\n",
       "      <td>Nitrogen dioxide (NO2)</td>\n",
       "      <td>ppb</td>\n",
       "      <td>Hunts Point and Longwood (CD2)</td>\n",
       "      <td>2021</td>\n",
       "      <td>19.31</td>\n",
       "    </tr>\n",
       "    <tr>\n",
       "      <th>204</th>\n",
       "      <td>Nitrogen dioxide (NO2)</td>\n",
       "      <td>ppb</td>\n",
       "      <td>Greenwich Village and Soho (CD2)</td>\n",
       "      <td>2021</td>\n",
       "      <td>21.21</td>\n",
       "    </tr>\n",
       "    <tr>\n",
       "      <th>205</th>\n",
       "      <td>Nitrogen dioxide (NO2)</td>\n",
       "      <td>ppb</td>\n",
       "      <td>Bronx</td>\n",
       "      <td>2021</td>\n",
       "      <td>16.54</td>\n",
       "    </tr>\n",
       "    <tr>\n",
       "      <th>206</th>\n",
       "      <td>Nitrogen dioxide (NO2)</td>\n",
       "      <td>ppb</td>\n",
       "      <td>Brooklyn</td>\n",
       "      <td>2021</td>\n",
       "      <td>16.68</td>\n",
       "    </tr>\n",
       "    <tr>\n",
       "      <th>207</th>\n",
       "      <td>Nitrogen dioxide (NO2)</td>\n",
       "      <td>ppb</td>\n",
       "      <td>Kingsbridge Heights and Bedford (CD7)</td>\n",
       "      <td>2021</td>\n",
       "      <td>16.86</td>\n",
       "    </tr>\n",
       "    <tr>\n",
       "      <th>208</th>\n",
       "      <td>Fine particles (PM 2.5)</td>\n",
       "      <td>mcg/m3</td>\n",
       "      <td>Greenwich Village and Soho (CD2)</td>\n",
       "      <td>2021</td>\n",
       "      <td>8.47</td>\n",
       "    </tr>\n",
       "    <tr>\n",
       "      <th>209</th>\n",
       "      <td>Fine particles (PM 2.5)</td>\n",
       "      <td>mcg/m3</td>\n",
       "      <td>Hunts Point and Longwood (CD2)</td>\n",
       "      <td>2021</td>\n",
       "      <td>7.29</td>\n",
       "    </tr>\n",
       "    <tr>\n",
       "      <th>210</th>\n",
       "      <td>Nitrogen dioxide (NO2)</td>\n",
       "      <td>ppb</td>\n",
       "      <td>Queens</td>\n",
       "      <td>2021</td>\n",
       "      <td>15.46</td>\n",
       "    </tr>\n",
       "    <tr>\n",
       "      <th>211</th>\n",
       "      <td>Fine particles (PM 2.5)</td>\n",
       "      <td>mcg/m3</td>\n",
       "      <td>Lower East Side and Chinatown (CD3)</td>\n",
       "      <td>2021</td>\n",
       "      <td>7.61</td>\n",
       "    </tr>\n",
       "    <tr>\n",
       "      <th>212</th>\n",
       "      <td>Fine particles (PM 2.5)</td>\n",
       "      <td>mcg/m3</td>\n",
       "      <td>Midtown (CD5)</td>\n",
       "      <td>2021</td>\n",
       "      <td>8.95</td>\n",
       "    </tr>\n",
       "    <tr>\n",
       "      <th>213</th>\n",
       "      <td>Fine particles (PM 2.5)</td>\n",
       "      <td>mcg/m3</td>\n",
       "      <td>Clinton and Chelsea (CD4)</td>\n",
       "      <td>2021</td>\n",
       "      <td>8.07</td>\n",
       "    </tr>\n",
       "    <tr>\n",
       "      <th>214</th>\n",
       "      <td>Fine particles (PM 2.5)</td>\n",
       "      <td>mcg/m3</td>\n",
       "      <td>Stuyvesant Town and Turtle Bay (CD6)</td>\n",
       "      <td>2021</td>\n",
       "      <td>7.86</td>\n",
       "    </tr>\n",
       "    <tr>\n",
       "      <th>215</th>\n",
       "      <td>Fine particles (PM 2.5)</td>\n",
       "      <td>mcg/m3</td>\n",
       "      <td>Brooklyn</td>\n",
       "      <td>2021</td>\n",
       "      <td>6.63</td>\n",
       "    </tr>\n",
       "    <tr>\n",
       "      <th>216</th>\n",
       "      <td>Fine particles (PM 2.5)</td>\n",
       "      <td>mcg/m3</td>\n",
       "      <td>Morningside Heights and Hamilton Heights (CD9)</td>\n",
       "      <td>2021</td>\n",
       "      <td>6.79</td>\n",
       "    </tr>\n",
       "    <tr>\n",
       "      <th>217</th>\n",
       "      <td>Fine particles (PM 2.5)</td>\n",
       "      <td>mcg/m3</td>\n",
       "      <td>Upper West Side (CD7)</td>\n",
       "      <td>2021</td>\n",
       "      <td>6.79</td>\n",
       "    </tr>\n",
       "    <tr>\n",
       "      <th>218</th>\n",
       "      <td>Fine particles (PM 2.5)</td>\n",
       "      <td>mcg/m3</td>\n",
       "      <td>Crotona -Tremont</td>\n",
       "      <td>2021</td>\n",
       "      <td>6.79</td>\n",
       "    </tr>\n",
       "    <tr>\n",
       "      <th>219</th>\n",
       "      <td>Fine particles (PM 2.5)</td>\n",
       "      <td>mcg/m3</td>\n",
       "      <td>Bronx</td>\n",
       "      <td>2021</td>\n",
       "      <td>6.64</td>\n",
       "    </tr>\n",
       "    <tr>\n",
       "      <th>220</th>\n",
       "      <td>Fine particles (PM 2.5)</td>\n",
       "      <td>mcg/m3</td>\n",
       "      <td>Manhattan</td>\n",
       "      <td>2021</td>\n",
       "      <td>7.41</td>\n",
       "    </tr>\n",
       "    <tr>\n",
       "      <th>221</th>\n",
       "      <td>Nitrogen dioxide (NO2)</td>\n",
       "      <td>ppb</td>\n",
       "      <td>Bayside Little Neck-Fresh Meadows</td>\n",
       "      <td>2021</td>\n",
       "      <td>14.31</td>\n",
       "    </tr>\n",
       "    <tr>\n",
       "      <th>222</th>\n",
       "      <td>Nitrogen dioxide (NO2)</td>\n",
       "      <td>ppb</td>\n",
       "      <td>Pelham - Throgs Neck</td>\n",
       "      <td>2021</td>\n",
       "      <td>16.01</td>\n",
       "    </tr>\n",
       "    <tr>\n",
       "      <th>223</th>\n",
       "      <td>Fine particles (PM 2.5)</td>\n",
       "      <td>mcg/m3</td>\n",
       "      <td>Queens</td>\n",
       "      <td>2021</td>\n",
       "      <td>6.48</td>\n",
       "    </tr>\n",
       "    <tr>\n",
       "      <th>224</th>\n",
       "      <td>Fine particles (PM 2.5)</td>\n",
       "      <td>mcg/m3</td>\n",
       "      <td>Northeast Bronx</td>\n",
       "      <td>2021</td>\n",
       "      <td>6.49</td>\n",
       "    </tr>\n",
       "    <tr>\n",
       "      <th>225</th>\n",
       "      <td>Nitrogen dioxide (NO2)</td>\n",
       "      <td>ppb</td>\n",
       "      <td>Upper West Side (CD7)</td>\n",
       "      <td>2021</td>\n",
       "      <td>19.19</td>\n",
       "    </tr>\n",
       "    <tr>\n",
       "      <th>226</th>\n",
       "      <td>Nitrogen dioxide (NO2)</td>\n",
       "      <td>ppb</td>\n",
       "      <td>Staten Island</td>\n",
       "      <td>2021</td>\n",
       "      <td>12.84</td>\n",
       "    </tr>\n",
       "    <tr>\n",
       "      <th>227</th>\n",
       "      <td>Fine particles (PM 2.5)</td>\n",
       "      <td>mcg/m3</td>\n",
       "      <td>Staten Island</td>\n",
       "      <td>2021</td>\n",
       "      <td>6.15</td>\n",
       "    </tr>\n",
       "  </tbody>\n",
       "</table>\n",
       "</div>"
      ],
      "text/plain": [
       "           Pollutant         Measure Info  \\\n",
       "0     Nitrogen dioxide (NO2)       ppb      \n",
       "1     Nitrogen dioxide (NO2)       ppb      \n",
       "2     Nitrogen dioxide (NO2)       ppb      \n",
       "3     Nitrogen dioxide (NO2)       ppb      \n",
       "4     Nitrogen dioxide (NO2)       ppb      \n",
       "5     Nitrogen dioxide (NO2)       ppb      \n",
       "6     Nitrogen dioxide (NO2)       ppb      \n",
       "7     Nitrogen dioxide (NO2)       ppb      \n",
       "8     Nitrogen dioxide (NO2)       ppb      \n",
       "9     Nitrogen dioxide (NO2)       ppb      \n",
       "10    Nitrogen dioxide (NO2)       ppb      \n",
       "11    Nitrogen dioxide (NO2)       ppb      \n",
       "12    Nitrogen dioxide (NO2)       ppb      \n",
       "13    Nitrogen dioxide (NO2)       ppb      \n",
       "14    Nitrogen dioxide (NO2)       ppb      \n",
       "15    Nitrogen dioxide (NO2)       ppb      \n",
       "16    Nitrogen dioxide (NO2)       ppb      \n",
       "17    Nitrogen dioxide (NO2)       ppb      \n",
       "18    Nitrogen dioxide (NO2)       ppb      \n",
       "19    Nitrogen dioxide (NO2)       ppb      \n",
       "20    Nitrogen dioxide (NO2)       ppb      \n",
       "21    Nitrogen dioxide (NO2)       ppb      \n",
       "22    Nitrogen dioxide (NO2)       ppb      \n",
       "23    Nitrogen dioxide (NO2)       ppb      \n",
       "24    Nitrogen dioxide (NO2)       ppb      \n",
       "25    Nitrogen dioxide (NO2)       ppb      \n",
       "26    Nitrogen dioxide (NO2)       ppb      \n",
       "27   Fine particles (PM 2.5)    mcg/m3      \n",
       "28   Fine particles (PM 2.5)    mcg/m3      \n",
       "29   Fine particles (PM 2.5)    mcg/m3      \n",
       "30    Nitrogen dioxide (NO2)       ppb      \n",
       "31   Fine particles (PM 2.5)    mcg/m3      \n",
       "32   Fine particles (PM 2.5)    mcg/m3      \n",
       "33   Fine particles (PM 2.5)    mcg/m3      \n",
       "34    Nitrogen dioxide (NO2)       ppb      \n",
       "35   Fine particles (PM 2.5)    mcg/m3      \n",
       "36    Nitrogen dioxide (NO2)       ppb      \n",
       "37   Fine particles (PM 2.5)    mcg/m3      \n",
       "38   Fine particles (PM 2.5)    mcg/m3      \n",
       "39    Nitrogen dioxide (NO2)       ppb      \n",
       "40    Nitrogen dioxide (NO2)       ppb      \n",
       "41    Nitrogen dioxide (NO2)       ppb      \n",
       "42    Nitrogen dioxide (NO2)       ppb      \n",
       "43   Fine particles (PM 2.5)    mcg/m3      \n",
       "44   Fine particles (PM 2.5)    mcg/m3      \n",
       "45   Fine particles (PM 2.5)    mcg/m3      \n",
       "46    Nitrogen dioxide (NO2)       ppb      \n",
       "47    Nitrogen dioxide (NO2)       ppb      \n",
       "48    Nitrogen dioxide (NO2)       ppb      \n",
       "49   Fine particles (PM 2.5)    mcg/m3      \n",
       "50   Fine particles (PM 2.5)    mcg/m3      \n",
       "51    Nitrogen dioxide (NO2)       ppb      \n",
       "52    Nitrogen dioxide (NO2)       ppb      \n",
       "53   Fine particles (PM 2.5)    mcg/m3      \n",
       "54   Fine particles (PM 2.5)    mcg/m3      \n",
       "55   Fine particles (PM 2.5)    mcg/m3      \n",
       "56    Nitrogen dioxide (NO2)       ppb      \n",
       "57    Nitrogen dioxide (NO2)       ppb      \n",
       "58    Nitrogen dioxide (NO2)       ppb      \n",
       "59   Fine particles (PM 2.5)    mcg/m3      \n",
       "60   Fine particles (PM 2.5)    mcg/m3      \n",
       "61   Fine particles (PM 2.5)    mcg/m3      \n",
       "62   Fine particles (PM 2.5)    mcg/m3      \n",
       "63   Fine particles (PM 2.5)    mcg/m3      \n",
       "64    Nitrogen dioxide (NO2)       ppb      \n",
       "65   Fine particles (PM 2.5)    mcg/m3      \n",
       "66   Fine particles (PM 2.5)    mcg/m3      \n",
       "67   Fine particles (PM 2.5)    mcg/m3      \n",
       "68   Fine particles (PM 2.5)    mcg/m3      \n",
       "69   Fine particles (PM 2.5)    mcg/m3      \n",
       "70   Fine particles (PM 2.5)    mcg/m3      \n",
       "71   Fine particles (PM 2.5)    mcg/m3      \n",
       "72   Fine particles (PM 2.5)    mcg/m3      \n",
       "73   Fine particles (PM 2.5)    mcg/m3      \n",
       "74   Fine particles (PM 2.5)    mcg/m3      \n",
       "75   Fine particles (PM 2.5)    mcg/m3      \n",
       "76   Fine particles (PM 2.5)    mcg/m3      \n",
       "77    Nitrogen dioxide (NO2)       ppb      \n",
       "78   Fine particles (PM 2.5)    mcg/m3      \n",
       "79    Nitrogen dioxide (NO2)       ppb      \n",
       "80    Nitrogen dioxide (NO2)       ppb      \n",
       "81   Fine particles (PM 2.5)    mcg/m3      \n",
       "82   Fine particles (PM 2.5)    mcg/m3      \n",
       "83   Fine particles (PM 2.5)    mcg/m3      \n",
       "84   Fine particles (PM 2.5)    mcg/m3      \n",
       "85   Fine particles (PM 2.5)    mcg/m3      \n",
       "86   Fine particles (PM 2.5)    mcg/m3      \n",
       "87   Fine particles (PM 2.5)    mcg/m3      \n",
       "88   Fine particles (PM 2.5)    mcg/m3      \n",
       "89   Fine particles (PM 2.5)    mcg/m3      \n",
       "90   Fine particles (PM 2.5)    mcg/m3      \n",
       "91   Fine particles (PM 2.5)    mcg/m3      \n",
       "92   Fine particles (PM 2.5)    mcg/m3      \n",
       "93    Nitrogen dioxide (NO2)       ppb      \n",
       "94   Fine particles (PM 2.5)    mcg/m3      \n",
       "95    Nitrogen dioxide (NO2)       ppb      \n",
       "96   Fine particles (PM 2.5)    mcg/m3      \n",
       "97   Fine particles (PM 2.5)    mcg/m3      \n",
       "98    Nitrogen dioxide (NO2)       ppb      \n",
       "99   Fine particles (PM 2.5)    mcg/m3      \n",
       "100  Fine particles (PM 2.5)    mcg/m3      \n",
       "101  Fine particles (PM 2.5)    mcg/m3      \n",
       "102   Nitrogen dioxide (NO2)       ppb      \n",
       "103   Nitrogen dioxide (NO2)       ppb      \n",
       "104  Fine particles (PM 2.5)    mcg/m3      \n",
       "105  Fine particles (PM 2.5)    mcg/m3      \n",
       "106   Nitrogen dioxide (NO2)       ppb      \n",
       "107   Nitrogen dioxide (NO2)       ppb      \n",
       "108   Nitrogen dioxide (NO2)       ppb      \n",
       "109   Nitrogen dioxide (NO2)       ppb      \n",
       "110  Fine particles (PM 2.5)    mcg/m3      \n",
       "111   Nitrogen dioxide (NO2)       ppb      \n",
       "112  Fine particles (PM 2.5)    mcg/m3      \n",
       "113  Fine particles (PM 2.5)    mcg/m3      \n",
       "114  Fine particles (PM 2.5)    mcg/m3      \n",
       "115   Nitrogen dioxide (NO2)       ppb      \n",
       "116  Fine particles (PM 2.5)    mcg/m3      \n",
       "117  Fine particles (PM 2.5)    mcg/m3      \n",
       "118  Fine particles (PM 2.5)    mcg/m3      \n",
       "119  Fine particles (PM 2.5)    mcg/m3      \n",
       "120   Nitrogen dioxide (NO2)       ppb      \n",
       "121   Nitrogen dioxide (NO2)       ppb      \n",
       "122  Fine particles (PM 2.5)    mcg/m3      \n",
       "123   Nitrogen dioxide (NO2)       ppb      \n",
       "124   Nitrogen dioxide (NO2)       ppb      \n",
       "125  Fine particles (PM 2.5)    mcg/m3      \n",
       "126   Nitrogen dioxide (NO2)       ppb      \n",
       "127   Nitrogen dioxide (NO2)       ppb      \n",
       "128   Nitrogen dioxide (NO2)       ppb      \n",
       "129   Nitrogen dioxide (NO2)       ppb      \n",
       "130   Nitrogen dioxide (NO2)       ppb      \n",
       "131  Fine particles (PM 2.5)    mcg/m3      \n",
       "132   Nitrogen dioxide (NO2)       ppb      \n",
       "133   Nitrogen dioxide (NO2)       ppb      \n",
       "134   Nitrogen dioxide (NO2)       ppb      \n",
       "135   Nitrogen dioxide (NO2)       ppb      \n",
       "136   Nitrogen dioxide (NO2)       ppb      \n",
       "137   Nitrogen dioxide (NO2)       ppb      \n",
       "138   Nitrogen dioxide (NO2)       ppb      \n",
       "139  Fine particles (PM 2.5)    mcg/m3      \n",
       "140  Fine particles (PM 2.5)    mcg/m3      \n",
       "141   Nitrogen dioxide (NO2)       ppb      \n",
       "142   Nitrogen dioxide (NO2)       ppb      \n",
       "143  Fine particles (PM 2.5)    mcg/m3      \n",
       "144  Fine particles (PM 2.5)    mcg/m3      \n",
       "145   Nitrogen dioxide (NO2)       ppb      \n",
       "146  Fine particles (PM 2.5)    mcg/m3      \n",
       "147  Fine particles (PM 2.5)    mcg/m3      \n",
       "148   Nitrogen dioxide (NO2)       ppb      \n",
       "149   Nitrogen dioxide (NO2)       ppb      \n",
       "150  Fine particles (PM 2.5)    mcg/m3      \n",
       "151   Nitrogen dioxide (NO2)       ppb      \n",
       "152   Nitrogen dioxide (NO2)       ppb      \n",
       "153  Fine particles (PM 2.5)    mcg/m3      \n",
       "154  Fine particles (PM 2.5)    mcg/m3      \n",
       "155   Nitrogen dioxide (NO2)       ppb      \n",
       "156  Fine particles (PM 2.5)    mcg/m3      \n",
       "157  Fine particles (PM 2.5)    mcg/m3      \n",
       "158   Nitrogen dioxide (NO2)       ppb      \n",
       "159   Nitrogen dioxide (NO2)       ppb      \n",
       "160  Fine particles (PM 2.5)    mcg/m3      \n",
       "161   Nitrogen dioxide (NO2)       ppb      \n",
       "162  Fine particles (PM 2.5)    mcg/m3      \n",
       "163  Fine particles (PM 2.5)    mcg/m3      \n",
       "164   Nitrogen dioxide (NO2)       ppb      \n",
       "165  Fine particles (PM 2.5)    mcg/m3      \n",
       "166   Nitrogen dioxide (NO2)       ppb      \n",
       "167   Nitrogen dioxide (NO2)       ppb      \n",
       "168  Fine particles (PM 2.5)    mcg/m3      \n",
       "169  Fine particles (PM 2.5)    mcg/m3      \n",
       "170  Fine particles (PM 2.5)    mcg/m3      \n",
       "171  Fine particles (PM 2.5)    mcg/m3      \n",
       "172  Fine particles (PM 2.5)    mcg/m3      \n",
       "173  Fine particles (PM 2.5)    mcg/m3      \n",
       "174  Fine particles (PM 2.5)    mcg/m3      \n",
       "175   Nitrogen dioxide (NO2)       ppb      \n",
       "176  Fine particles (PM 2.5)    mcg/m3      \n",
       "177  Fine particles (PM 2.5)    mcg/m3      \n",
       "178  Fine particles (PM 2.5)    mcg/m3      \n",
       "179  Fine particles (PM 2.5)    mcg/m3      \n",
       "180  Fine particles (PM 2.5)    mcg/m3      \n",
       "181  Fine particles (PM 2.5)    mcg/m3      \n",
       "182   Nitrogen dioxide (NO2)       ppb      \n",
       "183   Nitrogen dioxide (NO2)       ppb      \n",
       "184   Nitrogen dioxide (NO2)       ppb      \n",
       "185   Nitrogen dioxide (NO2)       ppb      \n",
       "186   Nitrogen dioxide (NO2)       ppb      \n",
       "187   Nitrogen dioxide (NO2)       ppb      \n",
       "188   Nitrogen dioxide (NO2)       ppb      \n",
       "189   Nitrogen dioxide (NO2)       ppb      \n",
       "190  Fine particles (PM 2.5)    mcg/m3      \n",
       "191  Fine particles (PM 2.5)    mcg/m3      \n",
       "192  Fine particles (PM 2.5)    mcg/m3      \n",
       "193   Nitrogen dioxide (NO2)       ppb      \n",
       "194   Nitrogen dioxide (NO2)       ppb      \n",
       "195   Nitrogen dioxide (NO2)       ppb      \n",
       "196  Fine particles (PM 2.5)    mcg/m3      \n",
       "197   Nitrogen dioxide (NO2)       ppb      \n",
       "198   Nitrogen dioxide (NO2)       ppb      \n",
       "199   Nitrogen dioxide (NO2)       ppb      \n",
       "200  Fine particles (PM 2.5)    mcg/m3      \n",
       "201   Nitrogen dioxide (NO2)       ppb      \n",
       "202   Nitrogen dioxide (NO2)       ppb      \n",
       "203   Nitrogen dioxide (NO2)       ppb      \n",
       "204   Nitrogen dioxide (NO2)       ppb      \n",
       "205   Nitrogen dioxide (NO2)       ppb      \n",
       "206   Nitrogen dioxide (NO2)       ppb      \n",
       "207   Nitrogen dioxide (NO2)       ppb      \n",
       "208  Fine particles (PM 2.5)    mcg/m3      \n",
       "209  Fine particles (PM 2.5)    mcg/m3      \n",
       "210   Nitrogen dioxide (NO2)       ppb      \n",
       "211  Fine particles (PM 2.5)    mcg/m3      \n",
       "212  Fine particles (PM 2.5)    mcg/m3      \n",
       "213  Fine particles (PM 2.5)    mcg/m3      \n",
       "214  Fine particles (PM 2.5)    mcg/m3      \n",
       "215  Fine particles (PM 2.5)    mcg/m3      \n",
       "216  Fine particles (PM 2.5)    mcg/m3      \n",
       "217  Fine particles (PM 2.5)    mcg/m3      \n",
       "218  Fine particles (PM 2.5)    mcg/m3      \n",
       "219  Fine particles (PM 2.5)    mcg/m3      \n",
       "220  Fine particles (PM 2.5)    mcg/m3      \n",
       "221   Nitrogen dioxide (NO2)       ppb      \n",
       "222   Nitrogen dioxide (NO2)       ppb      \n",
       "223  Fine particles (PM 2.5)    mcg/m3      \n",
       "224  Fine particles (PM 2.5)    mcg/m3      \n",
       "225   Nitrogen dioxide (NO2)       ppb      \n",
       "226   Nitrogen dioxide (NO2)       ppb      \n",
       "227  Fine particles (PM 2.5)    mcg/m3      \n",
       "\n",
       "                     Geo Place Name                  Year  Data Value  \n",
       "0                          High Bridge - Morrisania  2021     18.04    \n",
       "1                                         Rockaways  2021     11.41    \n",
       "2                          Financial District (CD1)  2021     21.61    \n",
       "3                      Woodside and Sunnyside (CD2)  2021     20.21    \n",
       "4                          Hunts Point - Mott Haven  2021     18.52    \n",
       "5                                        Greenpoint  2021     20.55    \n",
       "6                             Upper East Side (CD8)  2021     20.37    \n",
       "7                Bay Ridge and Dyker Heights (CD10)  2021     16.42    \n",
       "8                               Borough Park (CD12)  2021     16.92    \n",
       "9                                     East New York  2021     16.12    \n",
       "10                             Flushing - Clearview  2021     15.66    \n",
       "11                         Upper East Side-Gramercy  2021     21.83    \n",
       "12                          Kingsbridge - Riverdale  2021     14.77    \n",
       "13                                      West Queens  2021     18.56    \n",
       "14                                      Sunset Park  2021     18.03    \n",
       "15                          Bensonhurst - Bay Ridge  2021     16.03    \n",
       "16                          Williamsburg - Bushwick  2021     19.04    \n",
       "17                                      Northern SI  2021     14.76    \n",
       "18                               Fordham - Bronx Pk  2021     16.03    \n",
       "19                        Clinton and Chelsea (CD4)  2021     22.28    \n",
       "20             Stuyvesant Town and Turtle Bay (CD6)  2021     22.13    \n",
       "21                                      East Harlem  2021     18.28    \n",
       "22                       Downtown - Heights - Slope  2021     18.78    \n",
       "23                                    Midtown (CD5)  2021     25.23    \n",
       "24                                 Southwest Queens  2021     15.10    \n",
       "25                                 Southeast Queens  2021     14.25    \n",
       "26                         Greenwich Village - SoHo  2021     21.30    \n",
       "27                         Hunts Point - Mott Haven  2021      6.98    \n",
       "28                                       Greenpoint  2021      7.67    \n",
       "29                              Borough Park (CD12)  2021      6.45    \n",
       "30                    Riverdale and Fieldston (CD8)  2021     14.70    \n",
       "31                   Belmont and East Tremont (CD6)  2021      6.80    \n",
       "32             Park Slope and Carroll Gardens (CD6)  2021      7.06    \n",
       "33         Crown Heights and Prospect Heights (CD8)  2021      6.72    \n",
       "34         Crown Heights and Prospect Heights (CD8)  2021     17.46    \n",
       "35                Hillcrest and Fresh Meadows (CD8)  2021      6.29    \n",
       "36                                  Upper West Side  2021     19.17    \n",
       "37                     Woodside and Sunnyside (CD2)  2021      7.61    \n",
       "38                         Financial District (CD1)  2021      7.66    \n",
       "39           Fort Greene and Brooklyn Heights (CD2)  2021     18.80    \n",
       "40                       Long Island City - Astoria  2021     19.00    \n",
       "41                                      South Bronx  2021     18.12    \n",
       "42                              Coney Island (CD13)  2021     14.09    \n",
       "43                              Coney Island (CD13)  2021      6.26    \n",
       "44                            Sheepshead Bay (CD15)  2021      6.27    \n",
       "45                        Jamaica and Hollis (CD12)  2021      6.33    \n",
       "46                           Stapleton - St. George  2021     14.28    \n",
       "47   Morningside Heights and Hamilton Heights (CD9)  2021     17.96    \n",
       "48                               Bensonhurst (CD11)  2021     16.40    \n",
       "49                               Bensonhurst (CD11)  2021      6.37    \n",
       "50                  Parkchester and Soundview (CD9)  2021      6.69    \n",
       "51                  Kew Gardens and Woodhaven (CD9)  2021     15.81    \n",
       "52                                Sunset Park (CD7)  2021     18.06    \n",
       "53                    Flushing and Whitestone (CD7)  2021      6.47    \n",
       "54                    Riverdale and Fieldston (CD8)  2021      6.55    \n",
       "55                 Rego Park and Forest Hills (CD6)  2021      6.43    \n",
       "56                            Jackson Heights (CD3)  2021     16.91    \n",
       "57                    Flushing and Whitestone (CD7)  2021     15.66    \n",
       "58                        Jamaica and Hollis (CD12)  2021     15.13    \n",
       "59                               Fordham - Bronx Pk  2021      6.58    \n",
       "60               Long Island City and Astoria (CD1)  2021      6.76    \n",
       "61           Fort Greene and Brooklyn Heights (CD2)  2021      7.10    \n",
       "62                         Greenwich Village - SoHo  2021      8.22    \n",
       "63                               Washington Heights  2021      6.86    \n",
       "64                      Ridgewood and Maspeth (CD5)  2021     17.51    \n",
       "65                      Ridgewood and Maspeth (CD5)  2021      6.96    \n",
       "66                                Chelsea - Clinton  2021      8.44    \n",
       "67                               Brownsville (CD16)  2021      6.52    \n",
       "68                                     Borough Park  2021      6.43    \n",
       "69                   St. George and Stapleton (CD1)  2021      6.34    \n",
       "70                                          Jamaica  2021      6.43    \n",
       "71                             East Flatbush (CD17)  2021      6.47    \n",
       "72                Tottenville and Great Kills (CD3)  2021      6.03    \n",
       "73                            Jackson Heights (CD3)  2021      6.64    \n",
       "74                        Elmhurst and Corona (CD4)  2021      6.71    \n",
       "75             Central Harlem - Morningside Heights  2021      6.78    \n",
       "76                                    Fresh Meadows  2021      6.27    \n",
       "77                                    Fresh Meadows  2021     14.90    \n",
       "78         South Ozone Park and Howard Beach (CD10)  2021      6.19    \n",
       "79                         Ridgewood - Forest Hills  2021     16.04    \n",
       "80                            Queens Village (CD13)  2021     14.62    \n",
       "81                            Queens Village (CD13)  2021      6.34    \n",
       "82                                 Southeast Queens  2021      6.23    \n",
       "83                             Flushing - Clearview  2021      6.45    \n",
       "84                  Kew Gardens and Woodhaven (CD9)  2021      6.46    \n",
       "85                                      West Queens  2021      7.14    \n",
       "86                   Bayside and Little Neck (CD11)  2021      6.28    \n",
       "87                                 Southwest Queens  2021      6.30    \n",
       "88                       Long Island City - Astoria  2021      7.20    \n",
       "89                                      South Bronx  2021      6.83    \n",
       "90                                    Port Richmond  2021      6.37    \n",
       "91                                        Rockaways  2021      5.92    \n",
       "92                           Stapleton - St. George  2021      6.25    \n",
       "93                     Union Square-Lower Manhattan  2021     20.16    \n",
       "94                                      Southern SI  2021      6.09    \n",
       "95                                    Port Richmond  2021     15.66    \n",
       "96                                      Willowbrook  2021      6.18    \n",
       "97                         Ridgewood - Forest Hills  2021      6.54    \n",
       "98                                  Chelsea-Village  2021     22.64    \n",
       "99                     Union Square-Lower Manhattan  2021      7.73    \n",
       "100                                     Northern SI  2021      6.29    \n",
       "101                         Kingsbridge - Riverdale  2021      6.57    \n",
       "102                              Brownsville (CD16)  2021     16.73    \n",
       "103                               Chelsea - Clinton  2021     23.32    \n",
       "104                                   East New York  2021      6.55    \n",
       "105                        Upper East Side-Gramercy  2021      7.55    \n",
       "106           East New York and Starrett City (CD5)  2021     15.86    \n",
       "107        South Ozone Park and Howard Beach (CD10)  2021     14.64    \n",
       "108                Rego Park and Forest Hills (CD6)  2021     15.83    \n",
       "109               Hillcrest and Fresh Meadows (CD8)  2021     14.66    \n",
       "110                                 Chelsea-Village  2021      8.37    \n",
       "111            Central Harlem - Morningside Heights  2021     18.21    \n",
       "112                                 Lower Manhattan  2021      7.58    \n",
       "113                  Union Square - Lower East Side  2021      7.80    \n",
       "114                   Flatlands and Canarsie (CD18)  2021      6.25    \n",
       "115                           Sheepshead Bay (CD15)  2021     14.85    \n",
       "116  South Crown Heights and Lefferts Gardens (CD9)  2021      6.50    \n",
       "117                Morris Park and Bronxdale (CD11)  2021      6.55    \n",
       "118                      Downtown - Heights - Slope  2021      7.10    \n",
       "119                                     East Harlem  2021      6.79    \n",
       "120            Park Slope and Carroll Gardens (CD6)  2021     18.60    \n",
       "121                                     Willowbrook  2021     13.26    \n",
       "122              Bay Ridge and Dyker Heights (CD10)  2021      6.53    \n",
       "123                  Bayside and Little Neck (CD11)  2021     14.17    \n",
       "124                                 Upper East Side  2021     20.31    \n",
       "125               Throgs Neck and Co-op City (CD10)  2021      6.52    \n",
       "126               Tottenville and Great Kills (CD3)  2021     11.12    \n",
       "127                       Elmhurst and Corona (CD4)  2021     17.49    \n",
       "128                  St. George and Stapleton (CD1)  2021     15.32    \n",
       "129  South Crown Heights and Lefferts Gardens (CD9)  2021     17.02    \n",
       "130               Throgs Neck and Co-op City (CD10)  2021     15.39    \n",
       "131               South Beach and Willowbrook (CD2)  2021      6.16    \n",
       "132                Morris Park and Bronxdale (CD11)  2021     16.29    \n",
       "133                            East Flatbush (CD17)  2021     16.52    \n",
       "134                   Flatlands and Canarsie (CD18)  2021     14.26    \n",
       "135                                  Bushwick (CD4)  2021     17.51    \n",
       "136                        Bedford Stuyvesant (CD3)  2021     17.88    \n",
       "137               South Beach and Willowbrook (CD2)  2021     13.01    \n",
       "138              Long Island City and Astoria (CD1)  2021     17.34    \n",
       "139                     Gramercy Park - Murray Hill  2021      8.15    \n",
       "140                                  Bushwick (CD4)  2021      6.87    \n",
       "141                                         Jamaica  2021     15.30    \n",
       "142                     Gramercy Park - Murray Hill  2021     23.54    \n",
       "143                            Canarsie - Flatlands  2021      6.27    \n",
       "144                        East Flatbush - Flatbush  2021      6.44    \n",
       "145               Greenpoint and Williamsburg (CD1)  2021     20.75    \n",
       "146                         Williamsburg - Bushwick  2021      7.25    \n",
       "147               Rockaway and Broad Channel (CD14)  2021      5.92    \n",
       "148                                 Lower Manhattan  2021     21.49    \n",
       "149                  Union Square - Lower East Side  2021     19.55    \n",
       "150                                 Upper East Side  2021      7.02    \n",
       "151                   Coney Island - Sheepshead Bay  2021     14.68    \n",
       "152                                    Borough Park  2021     16.74    \n",
       "153                   Coney Island - Sheepshead Bay  2021      6.27    \n",
       "154                                 Upper West Side  2021      6.80    \n",
       "155                       South Beach - Tottenville  2021     11.30    \n",
       "156                       South Beach - Tottenville  2021      6.04    \n",
       "157                           Bayside - Little Neck  2021      6.29    \n",
       "158                              Washington Heights  2021     17.10    \n",
       "159            Williamsbridge and Baychester (CD12)  2021     15.64    \n",
       "160               Bayside Little Neck-Fresh Meadows  2021      6.28    \n",
       "161            Washington Heights and Inwood (CD12)  2021     16.91    \n",
       "162            Washington Heights and Inwood (CD12)  2021      6.88    \n",
       "163                           Central Harlem (CD10)  2021      6.77    \n",
       "164                  Belmont and East Tremont (CD6)  2021     17.36    \n",
       "165              Bedford Stuyvesant - Crown Heights  2021      6.61    \n",
       "166                            Canarsie - Flatlands  2021     14.28    \n",
       "167                        East Flatbush - Flatbush  2021     16.38    \n",
       "168                        Bedford Stuyvesant (CD3)  2021      6.84    \n",
       "169                    Morrisania and Crotona (CD3)  2021      6.70    \n",
       "170                  Highbridge and Concourse (CD4)  2021      6.65    \n",
       "171                           Upper East Side (CD8)  2021      7.03    \n",
       "172            Williamsbridge and Baychester (CD12)  2021      6.49    \n",
       "173           East New York and Starrett City (CD5)  2021      6.51    \n",
       "174            Fordham and University Heights (CD5)  2021      6.76    \n",
       "175                    Mott Haven and Melrose (CD1)  2021     18.75    \n",
       "176               Greenpoint and Williamsburg (CD1)  2021      7.74    \n",
       "177                    Mott Haven and Melrose (CD1)  2021      6.84    \n",
       "178                        High Bridge - Morrisania  2021      6.63    \n",
       "179                         Bensonhurst - Bay Ridge  2021      6.43    \n",
       "180                                     Sunset Park  2021      6.99    \n",
       "181                              East Harlem (CD11)  2021      6.79    \n",
       "182                                     Southern SI  2021     12.03    \n",
       "183                           Central Harlem (CD10)  2021     18.31    \n",
       "184                              East Harlem (CD11)  2021     18.25    \n",
       "185               Rockaway and Broad Channel (CD14)  2021     11.34    \n",
       "186                     Flatbush and Midwood (CD14)  2021     16.17    \n",
       "187            Fordham and University Heights (CD5)  2021     18.12    \n",
       "188                  Highbridge and Concourse (CD4)  2021     18.11    \n",
       "189                    Morrisania and Crotona (CD3)  2021     17.32    \n",
       "190                     Flatbush and Midwood (CD14)  2021      6.43    \n",
       "191                               Sunset Park (CD7)  2021      7.00    \n",
       "192           Kingsbridge Heights and Bedford (CD7)  2021      6.64    \n",
       "193                           Bayside - Little Neck  2021     13.91    \n",
       "194              Bedford Stuyvesant - Crown Heights  2021     17.12    \n",
       "195                 Parkchester and Soundview (CD9)  2021     16.64    \n",
       "196                            Pelham - Throgs Neck  2021      6.60    \n",
       "197                                Crotona -Tremont  2021     17.64    \n",
       "198                                   New York City  2021     15.68    \n",
       "199                                 Northeast Bronx  2021     15.98    \n",
       "200                                   New York City  2021      6.54    \n",
       "201                                       Manhattan  2021     19.97    \n",
       "202             Lower East Side and Chinatown (CD3)  2021     19.29    \n",
       "203                  Hunts Point and Longwood (CD2)  2021     19.31    \n",
       "204                Greenwich Village and Soho (CD2)  2021     21.21    \n",
       "205                                           Bronx  2021     16.54    \n",
       "206                                        Brooklyn  2021     16.68    \n",
       "207           Kingsbridge Heights and Bedford (CD7)  2021     16.86    \n",
       "208                Greenwich Village and Soho (CD2)  2021      8.47    \n",
       "209                  Hunts Point and Longwood (CD2)  2021      7.29    \n",
       "210                                          Queens  2021     15.46    \n",
       "211             Lower East Side and Chinatown (CD3)  2021      7.61    \n",
       "212                                   Midtown (CD5)  2021      8.95    \n",
       "213                       Clinton and Chelsea (CD4)  2021      8.07    \n",
       "214            Stuyvesant Town and Turtle Bay (CD6)  2021      7.86    \n",
       "215                                        Brooklyn  2021      6.63    \n",
       "216  Morningside Heights and Hamilton Heights (CD9)  2021      6.79    \n",
       "217                           Upper West Side (CD7)  2021      6.79    \n",
       "218                                Crotona -Tremont  2021      6.79    \n",
       "219                                           Bronx  2021      6.64    \n",
       "220                                       Manhattan  2021      7.41    \n",
       "221               Bayside Little Neck-Fresh Meadows  2021     14.31    \n",
       "222                            Pelham - Throgs Neck  2021     16.01    \n",
       "223                                          Queens  2021      6.48    \n",
       "224                                 Northeast Bronx  2021      6.49    \n",
       "225                           Upper West Side (CD7)  2021     19.19    \n",
       "226                                   Staten Island  2021     12.84    \n",
       "227                                   Staten Island  2021      6.15    "
      ]
     },
     "execution_count": 7,
     "metadata": {},
     "output_type": "execute_result"
    }
   ],
   "source": [
    "AV.AutoViz(filename='', sep=',', depVar='', dfte=df_aire, header=0, verbose=2,\n",
    "          lowess=False, chart_format='png', max_rows_analyzed=1000,\n",
    "          max_cols_analyzed=10)"
   ]
  },
  {
   "cell_type": "code",
   "execution_count": 8,
   "metadata": {},
   "outputs": [
    {
     "data": {
      "text/plain": [
       "0"
      ]
     },
     "execution_count": 8,
     "metadata": {},
     "output_type": "execute_result"
    }
   ],
   "source": [
    "duplicados = df_aire.duplicated().sum()\n",
    "duplicados"
   ]
  },
  {
   "cell_type": "markdown",
   "metadata": {},
   "source": [
    "### Calidad del Aire"
   ]
  },
  {
   "cell_type": "code",
   "execution_count": 3,
   "metadata": {},
   "outputs": [],
   "source": [
    "# Creamos un nuevo Dataframe con información de Nitrogen dioxide (NO2)\n",
    "df_dioxido_nitrogeno = df_aire[df_aire[\"Pollutant\"] == \"Nitrogen dioxide (NO2)\"]"
   ]
  },
  {
   "cell_type": "code",
   "execution_count": 4,
   "metadata": {},
   "outputs": [
    {
     "data": {
      "text/plain": [
       "count    114.000000\n",
       "mean      17.096140\n",
       "std        2.716998\n",
       "min       11.120000\n",
       "25%       15.337500\n",
       "50%       16.885000\n",
       "75%       18.590000\n",
       "max       25.230000\n",
       "Name: Data Value, dtype: float64"
      ]
     },
     "execution_count": 4,
     "metadata": {},
     "output_type": "execute_result"
    }
   ],
   "source": [
    "df_dioxido_nitrogeno[\"Data Value\"].describe()"
   ]
  },
  {
   "cell_type": "markdown",
   "metadata": {},
   "source": [
    "Se puede notar lo siguiente:\n",
    "\n",
    "- count: Se registraron 114 mediciones de dióxido de nitrógeno (NO2).\n",
    "- mean: Se registraron aproximadamente  17.096140 ppb de dióxido de nitrógeno (NO2) en promedio.\n",
    "- std: Desviación estándar de aproximadamente 2.716998 ppb para los valores de dióxido de nitrógeno (NO2).\n",
    "- min: El valor mínimo registrado es de 11.120000 ppb de dióxido de nitrógeno (NO2).\n",
    "- 25% (percentil 25): El 25% más bajo de los valores de dióxido de nitrógeno (NO2) está por debajo de 15.337500 ppb.\n",
    "- 50% (percentil 50): La mediana es de aproximadamente 16.885000 ppb de dióxido de nitrógeno (NO2).\n",
    "- 75% (percentil 75): El 75% de los valores de dióxido de nitrógeno (NO2) están por debajo de 18.590000 ppb.\n",
    "- max: El valor máximo registrado es de 25.230000 ppb de dióxido de nitrógeno (NO2)."
   ]
  },
  {
   "cell_type": "code",
   "execution_count": 5,
   "metadata": {},
   "outputs": [],
   "source": [
    "# Creamos un nuevo Dataframe con información de Nitrogen dioxide (NO2)\n",
    "df_particulas_finas = df_aire[df_aire[\"Pollutant\"] == \"Fine particles (PM 2.5)\"]"
   ]
  },
  {
   "cell_type": "code",
   "execution_count": 6,
   "metadata": {},
   "outputs": [
    {
     "data": {
      "text/plain": [
       "count    114.000000\n",
       "mean       6.786404\n",
       "std        0.594759\n",
       "min        5.920000\n",
       "25%        6.430000\n",
       "50%        6.630000\n",
       "75%        6.987500\n",
       "max        8.950000\n",
       "Name: Data Value, dtype: float64"
      ]
     },
     "execution_count": 6,
     "metadata": {},
     "output_type": "execute_result"
    }
   ],
   "source": [
    "df_particulas_finas[\"Data Value\"].describe()"
   ]
  },
  {
   "cell_type": "markdown",
   "metadata": {},
   "source": [
    "Se puede notar lo siguiente:\n",
    "\n",
    "- count: Se regstraron 114 mediciones de partículas finas (PM 2.5).\n",
    "- mean: Se registraron aproximadamente 6.786404 μg/m³ de partículas finas (PM 2.5) en promedio.\n",
    "- std: Desviación estándar de aproximadamente 0.594759 μg/m³ para los valores de partículas finas (PM 2.5).\n",
    "- min: El valor mínimo registrado es de 5.920000 μg/m³ de partículas finas (PM 2.5).\n",
    "- 25% (percentil 25): El 25% más bajo de los valores de partículas finas (PM 2.5) está por debajo de 6.430000 μg/m³.\n",
    "- 50% (percentil 50): La mediana es de aproximadamente 6.630000 μg/m³ de partículas finas (PM 2.5).\n",
    "- 75% (percentil 75): El 75% de los valores de partículas finas (PM 2.5) están por debajo de 6.987500 μg/m³.\n",
    "- max: El valor máximo registrado es de 8.950000 μg/m³ de partículas finas (PM 2.5)."
   ]
  },
  {
   "cell_type": "code",
   "execution_count": 7,
   "metadata": {},
   "outputs": [
    {
     "data": {
      "application/vnd.plotly.v1+json": {
       "config": {
        "plotlyServerURL": "https://plot.ly"
       },
       "data": [
        {
         "alignmentgroup": "True",
         "hovertemplate": "Geo Place Name=%{x}<br>Data Value=%{y}<extra></extra>",
         "legendgroup": "",
         "marker": {
          "color": "#636efa",
          "line": {
           "color": "black",
           "width": 1.5
          },
          "pattern": {
           "shape": ""
          }
         },
         "name": "",
         "offsetgroup": "",
         "orientation": "v",
         "showlegend": false,
         "text": [
          34.18,
          31.76,
          31.69,
          31.01,
          30.35
         ],
         "textposition": "inside",
         "type": "bar",
         "x": [
          "Midtown (CD5)",
          "Chelsea - Clinton",
          "Gramercy Park - Murray Hill",
          "Chelsea-Village",
          "Clinton and Chelsea (CD4)"
         ],
         "xaxis": "x",
         "y": [
          34.18,
          31.76,
          31.69,
          31.01,
          30.35
         ],
         "yaxis": "y"
        }
       ],
       "layout": {
        "barmode": "relative",
        "legend": {
         "tracegroupgap": 0
        },
        "template": {
         "data": {
          "bar": [
           {
            "error_x": {
             "color": "#2a3f5f"
            },
            "error_y": {
             "color": "#2a3f5f"
            },
            "marker": {
             "line": {
              "color": "white",
              "width": 0.5
             },
             "pattern": {
              "fillmode": "overlay",
              "size": 10,
              "solidity": 0.2
             }
            },
            "type": "bar"
           }
          ],
          "barpolar": [
           {
            "marker": {
             "line": {
              "color": "white",
              "width": 0.5
             },
             "pattern": {
              "fillmode": "overlay",
              "size": 10,
              "solidity": 0.2
             }
            },
            "type": "barpolar"
           }
          ],
          "carpet": [
           {
            "aaxis": {
             "endlinecolor": "#2a3f5f",
             "gridcolor": "#C8D4E3",
             "linecolor": "#C8D4E3",
             "minorgridcolor": "#C8D4E3",
             "startlinecolor": "#2a3f5f"
            },
            "baxis": {
             "endlinecolor": "#2a3f5f",
             "gridcolor": "#C8D4E3",
             "linecolor": "#C8D4E3",
             "minorgridcolor": "#C8D4E3",
             "startlinecolor": "#2a3f5f"
            },
            "type": "carpet"
           }
          ],
          "choropleth": [
           {
            "colorbar": {
             "outlinewidth": 0,
             "ticks": ""
            },
            "type": "choropleth"
           }
          ],
          "contour": [
           {
            "colorbar": {
             "outlinewidth": 0,
             "ticks": ""
            },
            "colorscale": [
             [
              0,
              "#0d0887"
             ],
             [
              0.1111111111111111,
              "#46039f"
             ],
             [
              0.2222222222222222,
              "#7201a8"
             ],
             [
              0.3333333333333333,
              "#9c179e"
             ],
             [
              0.4444444444444444,
              "#bd3786"
             ],
             [
              0.5555555555555556,
              "#d8576b"
             ],
             [
              0.6666666666666666,
              "#ed7953"
             ],
             [
              0.7777777777777778,
              "#fb9f3a"
             ],
             [
              0.8888888888888888,
              "#fdca26"
             ],
             [
              1,
              "#f0f921"
             ]
            ],
            "type": "contour"
           }
          ],
          "contourcarpet": [
           {
            "colorbar": {
             "outlinewidth": 0,
             "ticks": ""
            },
            "type": "contourcarpet"
           }
          ],
          "heatmap": [
           {
            "colorbar": {
             "outlinewidth": 0,
             "ticks": ""
            },
            "colorscale": [
             [
              0,
              "#0d0887"
             ],
             [
              0.1111111111111111,
              "#46039f"
             ],
             [
              0.2222222222222222,
              "#7201a8"
             ],
             [
              0.3333333333333333,
              "#9c179e"
             ],
             [
              0.4444444444444444,
              "#bd3786"
             ],
             [
              0.5555555555555556,
              "#d8576b"
             ],
             [
              0.6666666666666666,
              "#ed7953"
             ],
             [
              0.7777777777777778,
              "#fb9f3a"
             ],
             [
              0.8888888888888888,
              "#fdca26"
             ],
             [
              1,
              "#f0f921"
             ]
            ],
            "type": "heatmap"
           }
          ],
          "heatmapgl": [
           {
            "colorbar": {
             "outlinewidth": 0,
             "ticks": ""
            },
            "colorscale": [
             [
              0,
              "#0d0887"
             ],
             [
              0.1111111111111111,
              "#46039f"
             ],
             [
              0.2222222222222222,
              "#7201a8"
             ],
             [
              0.3333333333333333,
              "#9c179e"
             ],
             [
              0.4444444444444444,
              "#bd3786"
             ],
             [
              0.5555555555555556,
              "#d8576b"
             ],
             [
              0.6666666666666666,
              "#ed7953"
             ],
             [
              0.7777777777777778,
              "#fb9f3a"
             ],
             [
              0.8888888888888888,
              "#fdca26"
             ],
             [
              1,
              "#f0f921"
             ]
            ],
            "type": "heatmapgl"
           }
          ],
          "histogram": [
           {
            "marker": {
             "pattern": {
              "fillmode": "overlay",
              "size": 10,
              "solidity": 0.2
             }
            },
            "type": "histogram"
           }
          ],
          "histogram2d": [
           {
            "colorbar": {
             "outlinewidth": 0,
             "ticks": ""
            },
            "colorscale": [
             [
              0,
              "#0d0887"
             ],
             [
              0.1111111111111111,
              "#46039f"
             ],
             [
              0.2222222222222222,
              "#7201a8"
             ],
             [
              0.3333333333333333,
              "#9c179e"
             ],
             [
              0.4444444444444444,
              "#bd3786"
             ],
             [
              0.5555555555555556,
              "#d8576b"
             ],
             [
              0.6666666666666666,
              "#ed7953"
             ],
             [
              0.7777777777777778,
              "#fb9f3a"
             ],
             [
              0.8888888888888888,
              "#fdca26"
             ],
             [
              1,
              "#f0f921"
             ]
            ],
            "type": "histogram2d"
           }
          ],
          "histogram2dcontour": [
           {
            "colorbar": {
             "outlinewidth": 0,
             "ticks": ""
            },
            "colorscale": [
             [
              0,
              "#0d0887"
             ],
             [
              0.1111111111111111,
              "#46039f"
             ],
             [
              0.2222222222222222,
              "#7201a8"
             ],
             [
              0.3333333333333333,
              "#9c179e"
             ],
             [
              0.4444444444444444,
              "#bd3786"
             ],
             [
              0.5555555555555556,
              "#d8576b"
             ],
             [
              0.6666666666666666,
              "#ed7953"
             ],
             [
              0.7777777777777778,
              "#fb9f3a"
             ],
             [
              0.8888888888888888,
              "#fdca26"
             ],
             [
              1,
              "#f0f921"
             ]
            ],
            "type": "histogram2dcontour"
           }
          ],
          "mesh3d": [
           {
            "colorbar": {
             "outlinewidth": 0,
             "ticks": ""
            },
            "type": "mesh3d"
           }
          ],
          "parcoords": [
           {
            "line": {
             "colorbar": {
              "outlinewidth": 0,
              "ticks": ""
             }
            },
            "type": "parcoords"
           }
          ],
          "pie": [
           {
            "automargin": true,
            "type": "pie"
           }
          ],
          "scatter": [
           {
            "fillpattern": {
             "fillmode": "overlay",
             "size": 10,
             "solidity": 0.2
            },
            "type": "scatter"
           }
          ],
          "scatter3d": [
           {
            "line": {
             "colorbar": {
              "outlinewidth": 0,
              "ticks": ""
             }
            },
            "marker": {
             "colorbar": {
              "outlinewidth": 0,
              "ticks": ""
             }
            },
            "type": "scatter3d"
           }
          ],
          "scattercarpet": [
           {
            "marker": {
             "colorbar": {
              "outlinewidth": 0,
              "ticks": ""
             }
            },
            "type": "scattercarpet"
           }
          ],
          "scattergeo": [
           {
            "marker": {
             "colorbar": {
              "outlinewidth": 0,
              "ticks": ""
             }
            },
            "type": "scattergeo"
           }
          ],
          "scattergl": [
           {
            "marker": {
             "colorbar": {
              "outlinewidth": 0,
              "ticks": ""
             }
            },
            "type": "scattergl"
           }
          ],
          "scattermapbox": [
           {
            "marker": {
             "colorbar": {
              "outlinewidth": 0,
              "ticks": ""
             }
            },
            "type": "scattermapbox"
           }
          ],
          "scatterpolar": [
           {
            "marker": {
             "colorbar": {
              "outlinewidth": 0,
              "ticks": ""
             }
            },
            "type": "scatterpolar"
           }
          ],
          "scatterpolargl": [
           {
            "marker": {
             "colorbar": {
              "outlinewidth": 0,
              "ticks": ""
             }
            },
            "type": "scatterpolargl"
           }
          ],
          "scatterternary": [
           {
            "marker": {
             "colorbar": {
              "outlinewidth": 0,
              "ticks": ""
             }
            },
            "type": "scatterternary"
           }
          ],
          "surface": [
           {
            "colorbar": {
             "outlinewidth": 0,
             "ticks": ""
            },
            "colorscale": [
             [
              0,
              "#0d0887"
             ],
             [
              0.1111111111111111,
              "#46039f"
             ],
             [
              0.2222222222222222,
              "#7201a8"
             ],
             [
              0.3333333333333333,
              "#9c179e"
             ],
             [
              0.4444444444444444,
              "#bd3786"
             ],
             [
              0.5555555555555556,
              "#d8576b"
             ],
             [
              0.6666666666666666,
              "#ed7953"
             ],
             [
              0.7777777777777778,
              "#fb9f3a"
             ],
             [
              0.8888888888888888,
              "#fdca26"
             ],
             [
              1,
              "#f0f921"
             ]
            ],
            "type": "surface"
           }
          ],
          "table": [
           {
            "cells": {
             "fill": {
              "color": "#EBF0F8"
             },
             "line": {
              "color": "white"
             }
            },
            "header": {
             "fill": {
              "color": "#C8D4E3"
             },
             "line": {
              "color": "white"
             }
            },
            "type": "table"
           }
          ]
         },
         "layout": {
          "annotationdefaults": {
           "arrowcolor": "#2a3f5f",
           "arrowhead": 0,
           "arrowwidth": 1
          },
          "autotypenumbers": "strict",
          "coloraxis": {
           "colorbar": {
            "outlinewidth": 0,
            "ticks": ""
           }
          },
          "colorscale": {
           "diverging": [
            [
             0,
             "#8e0152"
            ],
            [
             0.1,
             "#c51b7d"
            ],
            [
             0.2,
             "#de77ae"
            ],
            [
             0.3,
             "#f1b6da"
            ],
            [
             0.4,
             "#fde0ef"
            ],
            [
             0.5,
             "#f7f7f7"
            ],
            [
             0.6,
             "#e6f5d0"
            ],
            [
             0.7,
             "#b8e186"
            ],
            [
             0.8,
             "#7fbc41"
            ],
            [
             0.9,
             "#4d9221"
            ],
            [
             1,
             "#276419"
            ]
           ],
           "sequential": [
            [
             0,
             "#0d0887"
            ],
            [
             0.1111111111111111,
             "#46039f"
            ],
            [
             0.2222222222222222,
             "#7201a8"
            ],
            [
             0.3333333333333333,
             "#9c179e"
            ],
            [
             0.4444444444444444,
             "#bd3786"
            ],
            [
             0.5555555555555556,
             "#d8576b"
            ],
            [
             0.6666666666666666,
             "#ed7953"
            ],
            [
             0.7777777777777778,
             "#fb9f3a"
            ],
            [
             0.8888888888888888,
             "#fdca26"
            ],
            [
             1,
             "#f0f921"
            ]
           ],
           "sequentialminus": [
            [
             0,
             "#0d0887"
            ],
            [
             0.1111111111111111,
             "#46039f"
            ],
            [
             0.2222222222222222,
             "#7201a8"
            ],
            [
             0.3333333333333333,
             "#9c179e"
            ],
            [
             0.4444444444444444,
             "#bd3786"
            ],
            [
             0.5555555555555556,
             "#d8576b"
            ],
            [
             0.6666666666666666,
             "#ed7953"
            ],
            [
             0.7777777777777778,
             "#fb9f3a"
            ],
            [
             0.8888888888888888,
             "#fdca26"
            ],
            [
             1,
             "#f0f921"
            ]
           ]
          },
          "colorway": [
           "#636efa",
           "#EF553B",
           "#00cc96",
           "#ab63fa",
           "#FFA15A",
           "#19d3f3",
           "#FF6692",
           "#B6E880",
           "#FF97FF",
           "#FECB52"
          ],
          "font": {
           "color": "#2a3f5f"
          },
          "geo": {
           "bgcolor": "white",
           "lakecolor": "white",
           "landcolor": "white",
           "showlakes": true,
           "showland": true,
           "subunitcolor": "#C8D4E3"
          },
          "hoverlabel": {
           "align": "left"
          },
          "hovermode": "closest",
          "mapbox": {
           "style": "light"
          },
          "paper_bgcolor": "white",
          "plot_bgcolor": "white",
          "polar": {
           "angularaxis": {
            "gridcolor": "#EBF0F8",
            "linecolor": "#EBF0F8",
            "ticks": ""
           },
           "bgcolor": "white",
           "radialaxis": {
            "gridcolor": "#EBF0F8",
            "linecolor": "#EBF0F8",
            "ticks": ""
           }
          },
          "scene": {
           "xaxis": {
            "backgroundcolor": "white",
            "gridcolor": "#DFE8F3",
            "gridwidth": 2,
            "linecolor": "#EBF0F8",
            "showbackground": true,
            "ticks": "",
            "zerolinecolor": "#EBF0F8"
           },
           "yaxis": {
            "backgroundcolor": "white",
            "gridcolor": "#DFE8F3",
            "gridwidth": 2,
            "linecolor": "#EBF0F8",
            "showbackground": true,
            "ticks": "",
            "zerolinecolor": "#EBF0F8"
           },
           "zaxis": {
            "backgroundcolor": "white",
            "gridcolor": "#DFE8F3",
            "gridwidth": 2,
            "linecolor": "#EBF0F8",
            "showbackground": true,
            "ticks": "",
            "zerolinecolor": "#EBF0F8"
           }
          },
          "shapedefaults": {
           "line": {
            "color": "#2a3f5f"
           }
          },
          "ternary": {
           "aaxis": {
            "gridcolor": "#DFE8F3",
            "linecolor": "#A2B1C6",
            "ticks": ""
           },
           "baxis": {
            "gridcolor": "#DFE8F3",
            "linecolor": "#A2B1C6",
            "ticks": ""
           },
           "bgcolor": "white",
           "caxis": {
            "gridcolor": "#DFE8F3",
            "linecolor": "#A2B1C6",
            "ticks": ""
           }
          },
          "title": {
           "x": 0.05
          },
          "xaxis": {
           "automargin": true,
           "gridcolor": "#EBF0F8",
           "linecolor": "#EBF0F8",
           "ticks": "",
           "title": {
            "standoff": 15
           },
           "zerolinecolor": "#EBF0F8",
           "zerolinewidth": 2
          },
          "yaxis": {
           "automargin": true,
           "gridcolor": "#EBF0F8",
           "linecolor": "#EBF0F8",
           "ticks": "",
           "title": {
            "standoff": 15
           },
           "zerolinecolor": "#EBF0F8",
           "zerolinewidth": 2
          }
         }
        },
        "title": {
         "text": "Top 5 Ciudades con los Valores Más Altos de Contaminantes en el Aire (2021)",
         "x": 0.5
        },
        "xaxis": {
         "anchor": "y",
         "domain": [
          0,
          1
         ],
         "tickangle": -45,
         "title": {
          "text": "Geo Place Name"
         }
        },
        "yaxis": {
         "anchor": "x",
         "domain": [
          0,
          1
         ],
         "title": {
          "text": "Niveles de Contaminantes"
         }
        }
       }
      }
     },
     "metadata": {},
     "output_type": "display_data"
    }
   ],
   "source": [
    "# Creamos el DataFrame para el total general por 'Geo Place Name'\n",
    "total_values = df_aire.groupby('Geo Place Name')['Data Value'].sum().reset_index()\n",
    "\n",
    "# Redondeamos los valores a 2 decimales\n",
    "total_values['Data Value'] = total_values['Data Value'].round(2)\n",
    "\n",
    "# Ordenamos el DataFrame por los valores de contaminantes de manera descendente y seleccionamos las primeras 5 filas\n",
    "top_5_cities = total_values.sort_values(by='Data Value', ascending=False).head(5)\n",
    "\n",
    "# Creamos el gráfico de barras con las 5 ciudades con los valores más altos\n",
    "fig = px.bar(top_5_cities, x='Geo Place Name', y='Data Value',\n",
    "             title='Top 5 Ciudades con los Valores Más Altos de Contaminantes en el Aire (2021)',\n",
    "             template='plotly_white')\n",
    "\n",
    "# Ajustamos el diseño del gráfico y agregamos las etiquetas de texto encima de las barras\n",
    "fig.update_traces(marker_line=dict(color='black', width=1.5),\n",
    "                  text=top_5_cities['Data Value'],  # Utilizamos los valores como texto\n",
    "                  textposition='inside',  # Posicionamos el texto dentro de las barras\n",
    "                  )\n",
    "\n",
    "# Ajustamos el diseño del gráfico\n",
    "fig.update_layout(\n",
    "    xaxis=dict(tickangle=-45),\n",
    "    xaxis_title='Geo Place Name',\n",
    "    yaxis_title='Niveles de Contaminantes',\n",
    "    title_x=0.5  # Ajuste para centrar el título horizontalmente\n",
    ")\n",
    "\n",
    "# Mostramos el gráfico\n",
    "fig.show()"
   ]
  },
  {
   "cell_type": "markdown",
   "metadata": {},
   "source": [
    "Se observa que las zonas con mayor nivel de contaminantes en el aire es Midtown (CD5) perteneciente al Distrito de Manhattan; seguida Chelsea - Clinton, Gramercy Park - Murray  Hill, Chesea - Village y Clinton and Chelsea (CD4), todas pertenecientes igualmente al Distrito de Manhattan."
   ]
  },
  {
   "cell_type": "markdown",
   "metadata": {},
   "source": [
    "### Calidad del Sonido"
   ]
  },
  {
   "cell_type": "code",
   "execution_count": 4,
   "metadata": {},
   "outputs": [
    {
     "data": {
      "text/plain": [
       "<Figure size 1000x600 with 0 Axes>"
      ]
     },
     "metadata": {},
     "output_type": "display_data"
    },
    {
     "data": {
      "image/png": "[encoded data removed]",
      "text/plain": [
       "<Figure size 640x480 with 1 Axes>"
      ]
     },
     "metadata": {},
     "output_type": "display_data"
    }
   ],
   "source": [
    "plt.figure(figsize=(10, 6))\n",
    "df_sonidos.groupby('Borough')['Engine Sound'].value_counts().unstack().plot(kind='bar')\n",
    "plt.xlabel('Borough')\n",
    "plt.ylabel('Count')\n",
    "plt.title('Presencia de sonidos de motor por distrito')\n",
    "plt.legend(title='Presencia de motor')\n",
    "plt.show()"
   ]
  },
  {
   "cell_type": "markdown",
   "metadata": {},
   "source": [
    "El distrito con mayor ocurrencia de sonidos causados por actividad de motor es en el distrito 1 correspondiente a Manhattan, con una mayor presencia de Ruidos Medios (Medium) de más de 4000 observaciones, además tiene al rededor de 3000 observaciones con presencia de Ruidos Altos (High) y finalmente una cantidad de más de 500 observaciones con presencia de Ruidos Bajos (low). Por otro lado se puede apreciar que en promedio no hay muchos sonidos ocasionados por el motor de los autos en el distrito 4 perteneciente a Bronx."
   ]
  },
  {
   "cell_type": "code",
   "execution_count": 5,
   "metadata": {},
   "outputs": [
    {
     "data": {
      "application/vnd.plotly.v1+json": {
       "config": {
        "plotlyServerURL": "https://plot.ly"
       },
       "data": [
        {
         "alignmentgroup": "True",
         "hovertemplate": "color=Low<br>Nivel de Sonido=%{x}<br>Frecuencia=%{y}<extra></extra>",
         "legendgroup": "Low",
         "marker": {
          "color": "#636efa",
          "line": {
           "color": "black",
           "width": 1.5
          },
          "pattern": {
           "shape": ""
          }
         },
         "name": "Low",
         "offsetgroup": "Low",
         "orientation": "v",
         "showlegend": true,
         "textposition": "auto",
         "type": "bar",
         "x": [
          "Low"
         ],
         "xaxis": "x",
         "y": [
          753
         ],
         "yaxis": "y"
        },
        {
         "alignmentgroup": "True",
         "hovertemplate": "color=Medium<br>Nivel de Sonido=%{x}<br>Frecuencia=%{y}<extra></extra>",
         "legendgroup": "Medium",
         "marker": {
          "color": "#EF553B",
          "line": {
           "color": "black",
           "width": 1.5
          },
          "pattern": {
           "shape": ""
          }
         },
         "name": "Medium",
         "offsetgroup": "Medium",
         "orientation": "v",
         "showlegend": true,
         "textposition": "auto",
         "type": "bar",
         "x": [
          "Medium"
         ],
         "xaxis": "x",
         "y": [
          4523
         ],
         "yaxis": "y"
        },
        {
         "alignmentgroup": "True",
         "hovertemplate": "color=High<br>Nivel de Sonido=%{x}<br>Frecuencia=%{y}<extra></extra>",
         "legendgroup": "High",
         "marker": {
          "color": "#00cc96",
          "line": {
           "color": "black",
           "width": 1.5
          },
          "pattern": {
           "shape": ""
          }
         },
         "name": "High",
         "offsetgroup": "High",
         "orientation": "v",
         "showlegend": true,
         "textposition": "auto",
         "type": "bar",
         "x": [
          "High"
         ],
         "xaxis": "x",
         "y": [
          3310
         ],
         "yaxis": "y"
        }
       ],
       "layout": {
        "annotations": [
         {
          "arrowhead": 5,
          "ax": 0,
          "ay": -40,
          "font": {
           "color": "black",
           "family": "Arial",
           "size": 12
          },
          "showarrow": true,
          "text": "753",
          "x": "Low",
          "y": 754
         },
         {
          "arrowhead": 5,
          "ax": 0,
          "ay": -40,
          "font": {
           "color": "black",
           "family": "Arial",
           "size": 12
          },
          "showarrow": true,
          "text": "4523",
          "x": "Medium",
          "y": 4524
         },
         {
          "arrowhead": 5,
          "ax": 0,
          "ay": -40,
          "font": {
           "color": "black",
           "family": "Arial",
           "size": 12
          },
          "showarrow": true,
          "text": "3310",
          "x": "High",
          "y": 3311
         }
        ],
        "barmode": "relative",
        "legend": {
         "title": {
          "text": "color"
         },
         "tracegroupgap": 0
        },
        "template": {
         "data": {
          "bar": [
           {
            "error_x": {
             "color": "#2a3f5f"
            },
            "error_y": {
             "color": "#2a3f5f"
            },
            "marker": {
             "line": {
              "color": "white",
              "width": 0.5
             },
             "pattern": {
              "fillmode": "overlay",
              "size": 10,
              "solidity": 0.2
             }
            },
            "type": "bar"
           }
          ],
          "barpolar": [
           {
            "marker": {
             "line": {
              "color": "white",
              "width": 0.5
             },
             "pattern": {
              "fillmode": "overlay",
              "size": 10,
              "solidity": 0.2
             }
            },
            "type": "barpolar"
           }
          ],
          "carpet": [
           {
            "aaxis": {
             "endlinecolor": "#2a3f5f",
             "gridcolor": "#C8D4E3",
             "linecolor": "#C8D4E3",
             "minorgridcolor": "#C8D4E3",
             "startlinecolor": "#2a3f5f"
            },
            "baxis": {
             "endlinecolor": "#2a3f5f",
             "gridcolor": "#C8D4E3",
             "linecolor": "#C8D4E3",
             "minorgridcolor": "#C8D4E3",
             "startlinecolor": "#2a3f5f"
            },
            "type": "carpet"
           }
          ],
          "choropleth": [
           {
            "colorbar": {
             "outlinewidth": 0,
             "ticks": ""
            },
            "type": "choropleth"
           }
          ],
          "contour": [
           {
            "colorbar": {
             "outlinewidth": 0,
             "ticks": ""
            },
            "colorscale": [
             [
              0,
              "#0d0887"
             ],
             [
              0.1111111111111111,
              "#46039f"
             ],
             [
              0.2222222222222222,
              "#7201a8"
             ],
             [
              0.3333333333333333,
              "#9c179e"
             ],
             [
              0.4444444444444444,
              "#bd3786"
             ],
             [
              0.5555555555555556,
              "#d8576b"
             ],
             [
              0.6666666666666666,
              "#ed7953"
             ],
             [
              0.7777777777777778,
              "#fb9f3a"
             ],
             [
              0.8888888888888888,
              "#fdca26"
             ],
             [
              1,
              "#f0f921"
             ]
            ],
            "type": "contour"
           }
          ],
          "contourcarpet": [
           {
            "colorbar": {
             "outlinewidth": 0,
             "ticks": ""
            },
            "type": "contourcarpet"
           }
          ],
          "heatmap": [
           {
            "colorbar": {
             "outlinewidth": 0,
             "ticks": ""
            },
            "colorscale": [
             [
              0,
              "#0d0887"
             ],
             [
              0.1111111111111111,
              "#46039f"
             ],
             [
              0.2222222222222222,
              "#7201a8"
             ],
             [
              0.3333333333333333,
              "#9c179e"
             ],
             [
              0.4444444444444444,
              "#bd3786"
             ],
             [
              0.5555555555555556,
              "#d8576b"
             ],
             [
              0.6666666666666666,
              "#ed7953"
             ],
             [
              0.7777777777777778,
              "#fb9f3a"
             ],
             [
              0.8888888888888888,
              "#fdca26"
             ],
             [
              1,
              "#f0f921"
             ]
            ],
            "type": "heatmap"
           }
          ],
          "heatmapgl": [
           {
            "colorbar": {
             "outlinewidth": 0,
             "ticks": ""
            },
            "colorscale": [
             [
              0,
              "#0d0887"
             ],
             [
              0.1111111111111111,
              "#46039f"
             ],
             [
              0.2222222222222222,
              "#7201a8"
             ],
             [
              0.3333333333333333,
              "#9c179e"
             ],
             [
              0.4444444444444444,
              "#bd3786"
             ],
             [
              0.5555555555555556,
              "#d8576b"
             ],
             [
              0.6666666666666666,
              "#ed7953"
             ],
             [
              0.7777777777777778,
              "#fb9f3a"
             ],
             [
              0.8888888888888888,
              "#fdca26"
             ],
             [
              1,
              "#f0f921"
             ]
            ],
            "type": "heatmapgl"
           }
          ],
          "histogram": [
           {
            "marker": {
             "pattern": {
              "fillmode": "overlay",
              "size": 10,
              "solidity": 0.2
             }
            },
            "type": "histogram"
           }
          ],
          "histogram2d": [
           {
            "colorbar": {
             "outlinewidth": 0,
             "ticks": ""
            },
            "colorscale": [
             [
              0,
              "#0d0887"
             ],
             [
              0.1111111111111111,
              "#46039f"
             ],
             [
              0.2222222222222222,
              "#7201a8"
             ],
             [
              0.3333333333333333,
              "#9c179e"
             ],
             [
              0.4444444444444444,
              "#bd3786"
             ],
             [
              0.5555555555555556,
              "#d8576b"
             ],
             [
              0.6666666666666666,
              "#ed7953"
             ],
             [
              0.7777777777777778,
              "#fb9f3a"
             ],
             [
              0.8888888888888888,
              "#fdca26"
             ],
             [
              1,
              "#f0f921"
             ]
            ],
            "type": "histogram2d"
           }
          ],
          "histogram2dcontour": [
           {
            "colorbar": {
             "outlinewidth": 0,
             "ticks": ""
            },
            "colorscale": [
             [
              0,
              "#0d0887"
             ],
             [
              0.1111111111111111,
              "#46039f"
             ],
             [
              0.2222222222222222,
              "#7201a8"
             ],
             [
              0.3333333333333333,
              "#9c179e"
             ],
             [
              0.4444444444444444,
              "#bd3786"
             ],
             [
              0.5555555555555556,
              "#d8576b"
             ],
             [
              0.6666666666666666,
              "#ed7953"
             ],
             [
              0.7777777777777778,
              "#fb9f3a"
             ],
             [
              0.8888888888888888,
              "#fdca26"
             ],
             [
              1,
              "#f0f921"
             ]
            ],
            "type": "histogram2dcontour"
           }
          ],
          "mesh3d": [
           {
            "colorbar": {
             "outlinewidth": 0,
             "ticks": ""
            },
            "type": "mesh3d"
           }
          ],
          "parcoords": [
           {
            "line": {
             "colorbar": {
              "outlinewidth": 0,
              "ticks": ""
             }
            },
            "type": "parcoords"
           }
          ],
          "pie": [
           {
            "automargin": true,
            "type": "pie"
           }
          ],
          "scatter": [
           {
            "fillpattern": {
             "fillmode": "overlay",
             "size": 10,
             "solidity": 0.2
            },
            "type": "scatter"
           }
          ],
          "scatter3d": [
           {
            "line": {
             "colorbar": {
              "outlinewidth": 0,
              "ticks": ""
             }
            },
            "marker": {
             "colorbar": {
              "outlinewidth": 0,
              "ticks": ""
             }
            },
            "type": "scatter3d"
           }
          ],
          "scattercarpet": [
           {
            "marker": {
             "colorbar": {
              "outlinewidth": 0,
              "ticks": ""
             }
            },
            "type": "scattercarpet"
           }
          ],
          "scattergeo": [
           {
            "marker": {
             "colorbar": {
              "outlinewidth": 0,
              "ticks": ""
             }
            },
            "type": "scattergeo"
           }
          ],
          "scattergl": [
           {
            "marker": {
             "colorbar": {
              "outlinewidth": 0,
              "ticks": ""
             }
            },
            "type": "scattergl"
           }
          ],
          "scattermapbox": [
           {
            "marker": {
             "colorbar": {
              "outlinewidth": 0,
              "ticks": ""
             }
            },
            "type": "scattermapbox"
           }
          ],
          "scatterpolar": [
           {
            "marker": {
             "colorbar": {
              "outlinewidth": 0,
              "ticks": ""
             }
            },
            "type": "scatterpolar"
           }
          ],
          "scatterpolargl": [
           {
            "marker": {
             "colorbar": {
              "outlinewidth": 0,
              "ticks": ""
             }
            },
            "type": "scatterpolargl"
           }
          ],
          "scatterternary": [
           {
            "marker": {
             "colorbar": {
              "outlinewidth": 0,
              "ticks": ""
             }
            },
            "type": "scatterternary"
           }
          ],
          "surface": [
           {
            "colorbar": {
             "outlinewidth": 0,
             "ticks": ""
            },
            "colorscale": [
             [
              0,
              "#0d0887"
             ],
             [
              0.1111111111111111,
              "#46039f"
             ],
             [
              0.2222222222222222,
              "#7201a8"
             ],
             [
              0.3333333333333333,
              "#9c179e"
             ],
             [
              0.4444444444444444,
              "#bd3786"
             ],
             [
              0.5555555555555556,
              "#d8576b"
             ],
             [
              0.6666666666666666,
              "#ed7953"
             ],
             [
              0.7777777777777778,
              "#fb9f3a"
             ],
             [
              0.8888888888888888,
              "#fdca26"
             ],
             [
              1,
              "#f0f921"
             ]
            ],
            "type": "surface"
           }
          ],
          "table": [
           {
            "cells": {
             "fill": {
              "color": "#EBF0F8"
             },
             "line": {
              "color": "white"
             }
            },
            "header": {
             "fill": {
              "color": "#C8D4E3"
             },
             "line": {
              "color": "white"
             }
            },
            "type": "table"
           }
          ]
         },
         "layout": {
          "annotationdefaults": {
           "arrowcolor": "#2a3f5f",
           "arrowhead": 0,
           "arrowwidth": 1
          },
          "autotypenumbers": "strict",
          "coloraxis": {
           "colorbar": {
            "outlinewidth": 0,
            "ticks": ""
           }
          },
          "colorscale": {
           "diverging": [
            [
             0,
             "#8e0152"
            ],
            [
             0.1,
             "#c51b7d"
            ],
            [
             0.2,
             "#de77ae"
            ],
            [
             0.3,
             "#f1b6da"
            ],
            [
             0.4,
             "#fde0ef"
            ],
            [
             0.5,
             "#f7f7f7"
            ],
            [
             0.6,
             "#e6f5d0"
            ],
            [
             0.7,
             "#b8e186"
            ],
            [
             0.8,
             "#7fbc41"
            ],
            [
             0.9,
             "#4d9221"
            ],
            [
             1,
             "#276419"
            ]
           ],
           "sequential": [
            [
             0,
             "#0d0887"
            ],
            [
             0.1111111111111111,
             "#46039f"
            ],
            [
             0.2222222222222222,
             "#7201a8"
            ],
            [
             0.3333333333333333,
             "#9c179e"
            ],
            [
             0.4444444444444444,
             "#bd3786"
            ],
            [
             0.5555555555555556,
             "#d8576b"
            ],
            [
             0.6666666666666666,
             "#ed7953"
            ],
            [
             0.7777777777777778,
             "#fb9f3a"
            ],
            [
             0.8888888888888888,
             "#fdca26"
            ],
            [
             1,
             "#f0f921"
            ]
           ],
           "sequentialminus": [
            [
             0,
             "#0d0887"
            ],
            [
             0.1111111111111111,
             "#46039f"
            ],
            [
             0.2222222222222222,
             "#7201a8"
            ],
            [
             0.3333333333333333,
             "#9c179e"
            ],
            [
             0.4444444444444444,
             "#bd3786"
            ],
            [
             0.5555555555555556,
             "#d8576b"
            ],
            [
             0.6666666666666666,
             "#ed7953"
            ],
            [
             0.7777777777777778,
             "#fb9f3a"
            ],
            [
             0.8888888888888888,
             "#fdca26"
            ],
            [
             1,
             "#f0f921"
            ]
           ]
          },
          "colorway": [
           "#636efa",
           "#EF553B",
           "#00cc96",
           "#ab63fa",
           "#FFA15A",
           "#19d3f3",
           "#FF6692",
           "#B6E880",
           "#FF97FF",
           "#FECB52"
          ],
          "font": {
           "color": "#2a3f5f"
          },
          "geo": {
           "bgcolor": "white",
           "lakecolor": "white",
           "landcolor": "white",
           "showlakes": true,
           "showland": true,
           "subunitcolor": "#C8D4E3"
          },
          "hoverlabel": {
           "align": "left"
          },
          "hovermode": "closest",
          "mapbox": {
           "style": "light"
          },
          "paper_bgcolor": "white",
          "plot_bgcolor": "white",
          "polar": {
           "angularaxis": {
            "gridcolor": "#EBF0F8",
            "linecolor": "#EBF0F8",
            "ticks": ""
           },
           "bgcolor": "white",
           "radialaxis": {
            "gridcolor": "#EBF0F8",
            "linecolor": "#EBF0F8",
            "ticks": ""
           }
          },
          "scene": {
           "xaxis": {
            "backgroundcolor": "white",
            "gridcolor": "#DFE8F3",
            "gridwidth": 2,
            "linecolor": "#EBF0F8",
            "showbackground": true,
            "ticks": "",
            "zerolinecolor": "#EBF0F8"
           },
           "yaxis": {
            "backgroundcolor": "white",
            "gridcolor": "#DFE8F3",
            "gridwidth": 2,
            "linecolor": "#EBF0F8",
            "showbackground": true,
            "ticks": "",
            "zerolinecolor": "#EBF0F8"
           },
           "zaxis": {
            "backgroundcolor": "white",
            "gridcolor": "#DFE8F3",
            "gridwidth": 2,
            "linecolor": "#EBF0F8",
            "showbackground": true,
            "ticks": "",
            "zerolinecolor": "#EBF0F8"
           }
          },
          "shapedefaults": {
           "line": {
            "color": "#2a3f5f"
           }
          },
          "ternary": {
           "aaxis": {
            "gridcolor": "#DFE8F3",
            "linecolor": "#A2B1C6",
            "ticks": ""
           },
           "baxis": {
            "gridcolor": "#DFE8F3",
            "linecolor": "#A2B1C6",
            "ticks": ""
           },
           "bgcolor": "white",
           "caxis": {
            "gridcolor": "#DFE8F3",
            "linecolor": "#A2B1C6",
            "ticks": ""
           }
          },
          "title": {
           "x": 0.05
          },
          "xaxis": {
           "automargin": true,
           "gridcolor": "#EBF0F8",
           "linecolor": "#EBF0F8",
           "ticks": "",
           "title": {
            "standoff": 15
           },
           "zerolinecolor": "#EBF0F8",
           "zerolinewidth": 2
          },
          "yaxis": {
           "automargin": true,
           "gridcolor": "#EBF0F8",
           "linecolor": "#EBF0F8",
           "ticks": "",
           "title": {
            "standoff": 15
           },
           "zerolinecolor": "#EBF0F8",
           "zerolinewidth": 2
          }
         }
        },
        "title": {
         "text": "Distribución de Niveles de Sonido",
         "x": 0.5
        },
        "xaxis": {
         "anchor": "y",
         "domain": [
          0,
          1
         ],
         "title": {
          "text": "Nivel de Sonido"
         }
        },
        "yaxis": {
         "anchor": "x",
         "domain": [
          0,
          1
         ],
         "title": {
          "text": "Frecuencia"
         }
        }
       }
      }
     },
     "metadata": {},
     "output_type": "display_data"
    }
   ],
   "source": [
    "# Realizamos el conteo de frecuencia\n",
    "counts = df_sonidos['Engine Sound'].value_counts()\n",
    "\n",
    "# Definimos el orden de las categorías\n",
    "categories_order = ['Low', 'Medium', 'High']\n",
    "\n",
    "# Reordenamos los resultados de acuerdo al orden definido\n",
    "counts = counts.reindex(categories_order)\n",
    "\n",
    "# Creamos el gráfico de barras con Plotly\n",
    "fig = px.bar(x=counts.index, y=counts.values, color=counts.index,\n",
    "             labels={'x': 'Nivel de Sonido', 'y': 'Frecuencia'},\n",
    "             title='Distribución de Niveles de Sonido',\n",
    "             template='plotly_white')\n",
    "\n",
    "# Añadimos etiquetas de conteo encima de las barras con fuente en negrita y flecha\n",
    "for i, count in enumerate(counts):\n",
    "    fig.add_annotation(\n",
    "        x=counts.index[i],\n",
    "        y=count + 1,\n",
    "        text=str(count),\n",
    "        showarrow=True,\n",
    "        arrowhead=5,\n",
    "        ax=0,\n",
    "        ay=-40,\n",
    "        font=dict(size=12, color='black', family='Arial')  # Configuramos la fuente en negrita\n",
    "    )\n",
    "\n",
    "# Añadimos bordes a las columnas\n",
    "fig.update_traces(marker_line=dict(color='black', width=1.5))\n",
    "\n",
    "# Ajustamos el diseño del gráfico\n",
    "fig.update_layout(\n",
    "    xaxis_title='Nivel de Sonido',\n",
    "    yaxis_title='Frecuencia',\n",
    "    title_x=0.5  # Ajuste para centrar el título horizontalmente\n",
    ")\n",
    "\n",
    "# Mostramos el gráfico\n",
    "fig.show()"
   ]
  },
  {
   "cell_type": "markdown",
   "metadata": {},
   "source": [
    "Se observa un conteo superior de Ruidos Medios (Medium) en la Ciudad de New Yor, seguido de Ruidos Altos (Hight) y finalmente una menor cantidad de Ruidos Bajos (Low)."
   ]
  },
  {
   "cell_type": "code",
   "execution_count": 6,
   "metadata": {},
   "outputs": [
    {
     "data": {
      "application/vnd.plotly.v1+json": {
       "config": {
        "plotlyServerURL": "https://plot.ly"
       },
       "data": [
        {
         "alignmentgroup": "True",
         "hovertemplate": "Hora del Día=%{x}<br>Frecuencia=%{y}<extra></extra>",
         "legendgroup": "",
         "marker": {
          "color": "#636efa",
          "line": {
           "color": "black",
           "width": 1.5
          },
          "pattern": {
           "shape": ""
          }
         },
         "name": "",
         "offsetgroup": "",
         "orientation": "v",
         "showlegend": false,
         "textposition": "auto",
         "type": "bar",
         "x": [
          0,
          1,
          2,
          3,
          4,
          5,
          6,
          7,
          8,
          9,
          10,
          11,
          12,
          13,
          14,
          15,
          16,
          17,
          18,
          19,
          20,
          21,
          22,
          23
         ],
         "xaxis": "x",
         "y": [
          239,
          206,
          214,
          230,
          237,
          227,
          225,
          319,
          482,
          467,
          452,
          486,
          487,
          486,
          470,
          459,
          429,
          415,
          411,
          410,
          476,
          256,
          271,
          232
         ],
         "yaxis": "y"
        }
       ],
       "layout": {
        "annotations": [
         {
          "arrowhead": 5,
          "ax": 0,
          "ay": -30,
          "showarrow": true,
          "text": "239",
          "x": 0,
          "y": 239
         },
         {
          "arrowhead": 5,
          "ax": 0,
          "ay": -30,
          "showarrow": true,
          "text": "206",
          "x": 1,
          "y": 206
         },
         {
          "arrowhead": 5,
          "ax": 0,
          "ay": -30,
          "showarrow": true,
          "text": "214",
          "x": 2,
          "y": 214
         },
         {
          "arrowhead": 5,
          "ax": 0,
          "ay": -30,
          "showarrow": true,
          "text": "230",
          "x": 3,
          "y": 230
         },
         {
          "arrowhead": 5,
          "ax": 0,
          "ay": -30,
          "showarrow": true,
          "text": "237",
          "x": 4,
          "y": 237
         },
         {
          "arrowhead": 5,
          "ax": 0,
          "ay": -30,
          "showarrow": true,
          "text": "227",
          "x": 5,
          "y": 227
         },
         {
          "arrowhead": 5,
          "ax": 0,
          "ay": -30,
          "showarrow": true,
          "text": "225",
          "x": 6,
          "y": 225
         },
         {
          "arrowhead": 5,
          "ax": 0,
          "ay": -30,
          "showarrow": true,
          "text": "319",
          "x": 7,
          "y": 319
         },
         {
          "arrowhead": 5,
          "ax": 0,
          "ay": -30,
          "showarrow": true,
          "text": "482",
          "x": 8,
          "y": 482
         },
         {
          "arrowhead": 5,
          "ax": 0,
          "ay": -30,
          "showarrow": true,
          "text": "467",
          "x": 9,
          "y": 467
         },
         {
          "arrowhead": 5,
          "ax": 0,
          "ay": -30,
          "showarrow": true,
          "text": "452",
          "x": 10,
          "y": 452
         },
         {
          "arrowhead": 5,
          "ax": 0,
          "ay": -30,
          "showarrow": true,
          "text": "486",
          "x": 11,
          "y": 486
         },
         {
          "arrowhead": 5,
          "ax": 0,
          "ay": -30,
          "showarrow": true,
          "text": "487",
          "x": 12,
          "y": 487
         },
         {
          "arrowhead": 5,
          "ax": 0,
          "ay": -30,
          "showarrow": true,
          "text": "486",
          "x": 13,
          "y": 486
         },
         {
          "arrowhead": 5,
          "ax": 0,
          "ay": -30,
          "showarrow": true,
          "text": "470",
          "x": 14,
          "y": 470
         },
         {
          "arrowhead": 5,
          "ax": 0,
          "ay": -30,
          "showarrow": true,
          "text": "459",
          "x": 15,
          "y": 459
         },
         {
          "arrowhead": 5,
          "ax": 0,
          "ay": -30,
          "showarrow": true,
          "text": "429",
          "x": 16,
          "y": 429
         },
         {
          "arrowhead": 5,
          "ax": 0,
          "ay": -30,
          "showarrow": true,
          "text": "415",
          "x": 17,
          "y": 415
         },
         {
          "arrowhead": 5,
          "ax": 0,
          "ay": -30,
          "showarrow": true,
          "text": "411",
          "x": 18,
          "y": 411
         },
         {
          "arrowhead": 5,
          "ax": 0,
          "ay": -30,
          "showarrow": true,
          "text": "410",
          "x": 19,
          "y": 410
         },
         {
          "arrowhead": 5,
          "ax": 0,
          "ay": -30,
          "showarrow": true,
          "text": "476",
          "x": 20,
          "y": 476
         },
         {
          "arrowhead": 5,
          "ax": 0,
          "ay": -30,
          "showarrow": true,
          "text": "256",
          "x": 21,
          "y": 256
         },
         {
          "arrowhead": 5,
          "ax": 0,
          "ay": -30,
          "showarrow": true,
          "text": "271",
          "x": 22,
          "y": 271
         },
         {
          "arrowhead": 5,
          "ax": 0,
          "ay": -30,
          "showarrow": true,
          "text": "232",
          "x": 23,
          "y": 232
         }
        ],
        "barmode": "relative",
        "legend": {
         "tracegroupgap": 0
        },
        "template": {
         "data": {
          "bar": [
           {
            "error_x": {
             "color": "#2a3f5f"
            },
            "error_y": {
             "color": "#2a3f5f"
            },
            "marker": {
             "line": {
              "color": "white",
              "width": 0.5
             },
             "pattern": {
              "fillmode": "overlay",
              "size": 10,
              "solidity": 0.2
             }
            },
            "type": "bar"
           }
          ],
          "barpolar": [
           {
            "marker": {
             "line": {
              "color": "white",
              "width": 0.5
             },
             "pattern": {
              "fillmode": "overlay",
              "size": 10,
              "solidity": 0.2
             }
            },
            "type": "barpolar"
           }
          ],
          "carpet": [
           {
            "aaxis": {
             "endlinecolor": "#2a3f5f",
             "gridcolor": "#C8D4E3",
             "linecolor": "#C8D4E3",
             "minorgridcolor": "#C8D4E3",
             "startlinecolor": "#2a3f5f"
            },
            "baxis": {
             "endlinecolor": "#2a3f5f",
             "gridcolor": "#C8D4E3",
             "linecolor": "#C8D4E3",
             "minorgridcolor": "#C8D4E3",
             "startlinecolor": "#2a3f5f"
            },
            "type": "carpet"
           }
          ],
          "choropleth": [
           {
            "colorbar": {
             "outlinewidth": 0,
             "ticks": ""
            },
            "type": "choropleth"
           }
          ],
          "contour": [
           {
            "colorbar": {
             "outlinewidth": 0,
             "ticks": ""
            },
            "colorscale": [
             [
              0,
              "#0d0887"
             ],
             [
              0.1111111111111111,
              "#46039f"
             ],
             [
              0.2222222222222222,
              "#7201a8"
             ],
             [
              0.3333333333333333,
              "#9c179e"
             ],
             [
              0.4444444444444444,
              "#bd3786"
             ],
             [
              0.5555555555555556,
              "#d8576b"
             ],
             [
              0.6666666666666666,
              "#ed7953"
             ],
             [
              0.7777777777777778,
              "#fb9f3a"
             ],
             [
              0.8888888888888888,
              "#fdca26"
             ],
             [
              1,
              "#f0f921"
             ]
            ],
            "type": "contour"
           }
          ],
          "contourcarpet": [
           {
            "colorbar": {
             "outlinewidth": 0,
             "ticks": ""
            },
            "type": "contourcarpet"
           }
          ],
          "heatmap": [
           {
            "colorbar": {
             "outlinewidth": 0,
             "ticks": ""
            },
            "colorscale": [
             [
              0,
              "#0d0887"
             ],
             [
              0.1111111111111111,
              "#46039f"
             ],
             [
              0.2222222222222222,
              "#7201a8"
             ],
             [
              0.3333333333333333,
              "#9c179e"
             ],
             [
              0.4444444444444444,
              "#bd3786"
             ],
             [
              0.5555555555555556,
              "#d8576b"
             ],
             [
              0.6666666666666666,
              "#ed7953"
             ],
             [
              0.7777777777777778,
              "#fb9f3a"
             ],
             [
              0.8888888888888888,
              "#fdca26"
             ],
             [
              1,
              "#f0f921"
             ]
            ],
            "type": "heatmap"
           }
          ],
          "heatmapgl": [
           {
            "colorbar": {
             "outlinewidth": 0,
             "ticks": ""
            },
            "colorscale": [
             [
              0,
              "#0d0887"
             ],
             [
              0.1111111111111111,
              "#46039f"
             ],
             [
              0.2222222222222222,
              "#7201a8"
             ],
             [
              0.3333333333333333,
              "#9c179e"
             ],
             [
              0.4444444444444444,
              "#bd3786"
             ],
             [
              0.5555555555555556,
              "#d8576b"
             ],
             [
              0.6666666666666666,
              "#ed7953"
             ],
             [
              0.7777777777777778,
              "#fb9f3a"
             ],
             [
              0.8888888888888888,
              "#fdca26"
             ],
             [
              1,
              "#f0f921"
             ]
            ],
            "type": "heatmapgl"
           }
          ],
          "histogram": [
           {
            "marker": {
             "pattern": {
              "fillmode": "overlay",
              "size": 10,
              "solidity": 0.2
             }
            },
            "type": "histogram"
           }
          ],
          "histogram2d": [
           {
            "colorbar": {
             "outlinewidth": 0,
             "ticks": ""
            },
            "colorscale": [
             [
              0,
              "#0d0887"
             ],
             [
              0.1111111111111111,
              "#46039f"
             ],
             [
              0.2222222222222222,
              "#7201a8"
             ],
             [
              0.3333333333333333,
              "#9c179e"
             ],
             [
              0.4444444444444444,
              "#bd3786"
             ],
             [
              0.5555555555555556,
              "#d8576b"
             ],
             [
              0.6666666666666666,
              "#ed7953"
             ],
             [
              0.7777777777777778,
              "#fb9f3a"
             ],
             [
              0.8888888888888888,
              "#fdca26"
             ],
             [
              1,
              "#f0f921"
             ]
            ],
            "type": "histogram2d"
           }
          ],
          "histogram2dcontour": [
           {
            "colorbar": {
             "outlinewidth": 0,
             "ticks": ""
            },
            "colorscale": [
             [
              0,
              "#0d0887"
             ],
             [
              0.1111111111111111,
              "#46039f"
             ],
             [
              0.2222222222222222,
              "#7201a8"
             ],
             [
              0.3333333333333333,
              "#9c179e"
             ],
             [
              0.4444444444444444,
              "#bd3786"
             ],
             [
              0.5555555555555556,
              "#d8576b"
             ],
             [
              0.6666666666666666,
              "#ed7953"
             ],
             [
              0.7777777777777778,
              "#fb9f3a"
             ],
             [
              0.8888888888888888,
              "#fdca26"
             ],
             [
              1,
              "#f0f921"
             ]
            ],
            "type": "histogram2dcontour"
           }
          ],
          "mesh3d": [
           {
            "colorbar": {
             "outlinewidth": 0,
             "ticks": ""
            },
            "type": "mesh3d"
           }
          ],
          "parcoords": [
           {
            "line": {
             "colorbar": {
              "outlinewidth": 0,
              "ticks": ""
             }
            },
            "type": "parcoords"
           }
          ],
          "pie": [
           {
            "automargin": true,
            "type": "pie"
           }
          ],
          "scatter": [
           {
            "fillpattern": {
             "fillmode": "overlay",
             "size": 10,
             "solidity": 0.2
            },
            "type": "scatter"
           }
          ],
          "scatter3d": [
           {
            "line": {
             "colorbar": {
              "outlinewidth": 0,
              "ticks": ""
             }
            },
            "marker": {
             "colorbar": {
              "outlinewidth": 0,
              "ticks": ""
             }
            },
            "type": "scatter3d"
           }
          ],
          "scattercarpet": [
           {
            "marker": {
             "colorbar": {
              "outlinewidth": 0,
              "ticks": ""
             }
            },
            "type": "scattercarpet"
           }
          ],
          "scattergeo": [
           {
            "marker": {
             "colorbar": {
              "outlinewidth": 0,
              "ticks": ""
             }
            },
            "type": "scattergeo"
           }
          ],
          "scattergl": [
           {
            "marker": {
             "colorbar": {
              "outlinewidth": 0,
              "ticks": ""
             }
            },
            "type": "scattergl"
           }
          ],
          "scattermapbox": [
           {
            "marker": {
             "colorbar": {
              "outlinewidth": 0,
              "ticks": ""
             }
            },
            "type": "scattermapbox"
           }
          ],
          "scatterpolar": [
           {
            "marker": {
             "colorbar": {
              "outlinewidth": 0,
              "ticks": ""
             }
            },
            "type": "scatterpolar"
           }
          ],
          "scatterpolargl": [
           {
            "marker": {
             "colorbar": {
              "outlinewidth": 0,
              "ticks": ""
             }
            },
            "type": "scatterpolargl"
           }
          ],
          "scatterternary": [
           {
            "marker": {
             "colorbar": {
              "outlinewidth": 0,
              "ticks": ""
             }
            },
            "type": "scatterternary"
           }
          ],
          "surface": [
           {
            "colorbar": {
             "outlinewidth": 0,
             "ticks": ""
            },
            "colorscale": [
             [
              0,
              "#0d0887"
             ],
             [
              0.1111111111111111,
              "#46039f"
             ],
             [
              0.2222222222222222,
              "#7201a8"
             ],
             [
              0.3333333333333333,
              "#9c179e"
             ],
             [
              0.4444444444444444,
              "#bd3786"
             ],
             [
              0.5555555555555556,
              "#d8576b"
             ],
             [
              0.6666666666666666,
              "#ed7953"
             ],
             [
              0.7777777777777778,
              "#fb9f3a"
             ],
             [
              0.8888888888888888,
              "#fdca26"
             ],
             [
              1,
              "#f0f921"
             ]
            ],
            "type": "surface"
           }
          ],
          "table": [
           {
            "cells": {
             "fill": {
              "color": "#EBF0F8"
             },
             "line": {
              "color": "white"
             }
            },
            "header": {
             "fill": {
              "color": "#C8D4E3"
             },
             "line": {
              "color": "white"
             }
            },
            "type": "table"
           }
          ]
         },
         "layout": {
          "annotationdefaults": {
           "arrowcolor": "#2a3f5f",
           "arrowhead": 0,
           "arrowwidth": 1
          },
          "autotypenumbers": "strict",
          "coloraxis": {
           "colorbar": {
            "outlinewidth": 0,
            "ticks": ""
           }
          },
          "colorscale": {
           "diverging": [
            [
             0,
             "#8e0152"
            ],
            [
             0.1,
             "#c51b7d"
            ],
            [
             0.2,
             "#de77ae"
            ],
            [
             0.3,
             "#f1b6da"
            ],
            [
             0.4,
             "#fde0ef"
            ],
            [
             0.5,
             "#f7f7f7"
            ],
            [
             0.6,
             "#e6f5d0"
            ],
            [
             0.7,
             "#b8e186"
            ],
            [
             0.8,
             "#7fbc41"
            ],
            [
             0.9,
             "#4d9221"
            ],
            [
             1,
             "#276419"
            ]
           ],
           "sequential": [
            [
             0,
             "#0d0887"
            ],
            [
             0.1111111111111111,
             "#46039f"
            ],
            [
             0.2222222222222222,
             "#7201a8"
            ],
            [
             0.3333333333333333,
             "#9c179e"
            ],
            [
             0.4444444444444444,
             "#bd3786"
            ],
            [
             0.5555555555555556,
             "#d8576b"
            ],
            [
             0.6666666666666666,
             "#ed7953"
            ],
            [
             0.7777777777777778,
             "#fb9f3a"
            ],
            [
             0.8888888888888888,
             "#fdca26"
            ],
            [
             1,
             "#f0f921"
            ]
           ],
           "sequentialminus": [
            [
             0,
             "#0d0887"
            ],
            [
             0.1111111111111111,
             "#46039f"
            ],
            [
             0.2222222222222222,
             "#7201a8"
            ],
            [
             0.3333333333333333,
             "#9c179e"
            ],
            [
             0.4444444444444444,
             "#bd3786"
            ],
            [
             0.5555555555555556,
             "#d8576b"
            ],
            [
             0.6666666666666666,
             "#ed7953"
            ],
            [
             0.7777777777777778,
             "#fb9f3a"
            ],
            [
             0.8888888888888888,
             "#fdca26"
            ],
            [
             1,
             "#f0f921"
            ]
           ]
          },
          "colorway": [
           "#636efa",
           "#EF553B",
           "#00cc96",
           "#ab63fa",
           "#FFA15A",
           "#19d3f3",
           "#FF6692",
           "#B6E880",
           "#FF97FF",
           "#FECB52"
          ],
          "font": {
           "color": "#2a3f5f"
          },
          "geo": {
           "bgcolor": "white",
           "lakecolor": "white",
           "landcolor": "white",
           "showlakes": true,
           "showland": true,
           "subunitcolor": "#C8D4E3"
          },
          "hoverlabel": {
           "align": "left"
          },
          "hovermode": "closest",
          "mapbox": {
           "style": "light"
          },
          "paper_bgcolor": "white",
          "plot_bgcolor": "white",
          "polar": {
           "angularaxis": {
            "gridcolor": "#EBF0F8",
            "linecolor": "#EBF0F8",
            "ticks": ""
           },
           "bgcolor": "white",
           "radialaxis": {
            "gridcolor": "#EBF0F8",
            "linecolor": "#EBF0F8",
            "ticks": ""
           }
          },
          "scene": {
           "xaxis": {
            "backgroundcolor": "white",
            "gridcolor": "#DFE8F3",
            "gridwidth": 2,
            "linecolor": "#EBF0F8",
            "showbackground": true,
            "ticks": "",
            "zerolinecolor": "#EBF0F8"
           },
           "yaxis": {
            "backgroundcolor": "white",
            "gridcolor": "#DFE8F3",
            "gridwidth": 2,
            "linecolor": "#EBF0F8",
            "showbackground": true,
            "ticks": "",
            "zerolinecolor": "#EBF0F8"
           },
           "zaxis": {
            "backgroundcolor": "white",
            "gridcolor": "#DFE8F3",
            "gridwidth": 2,
            "linecolor": "#EBF0F8",
            "showbackground": true,
            "ticks": "",
            "zerolinecolor": "#EBF0F8"
           }
          },
          "shapedefaults": {
           "line": {
            "color": "#2a3f5f"
           }
          },
          "ternary": {
           "aaxis": {
            "gridcolor": "#DFE8F3",
            "linecolor": "#A2B1C6",
            "ticks": ""
           },
           "baxis": {
            "gridcolor": "#DFE8F3",
            "linecolor": "#A2B1C6",
            "ticks": ""
           },
           "bgcolor": "white",
           "caxis": {
            "gridcolor": "#DFE8F3",
            "linecolor": "#A2B1C6",
            "ticks": ""
           }
          },
          "title": {
           "x": 0.05
          },
          "xaxis": {
           "automargin": true,
           "gridcolor": "#EBF0F8",
           "linecolor": "#EBF0F8",
           "ticks": "",
           "title": {
            "standoff": 15
           },
           "zerolinecolor": "#EBF0F8",
           "zerolinewidth": 2
          },
          "yaxis": {
           "automargin": true,
           "gridcolor": "#EBF0F8",
           "linecolor": "#EBF0F8",
           "ticks": "",
           "title": {
            "standoff": 15
           },
           "zerolinecolor": "#EBF0F8",
           "zerolinewidth": 2
          }
         }
        },
        "title": {
         "text": "Frecuencia de Sonidos Registrados por Hora del Día",
         "x": 0.5
        },
        "xaxis": {
         "anchor": "y",
         "domain": [
          0,
          1
         ],
         "tickmode": "array",
         "ticktext": [
          "00:00",
          "01:00",
          "02:00",
          "03:00",
          "04:00",
          "05:00",
          "06:00",
          "07:00",
          "08:00",
          "09:00",
          "10:00",
          "11:00",
          "12:00",
          "13:00",
          "14:00",
          "15:00",
          "16:00",
          "17:00",
          "18:00",
          "19:00",
          "20:00",
          "21:00",
          "22:00",
          "23:00"
         ],
         "tickvals": [
          0,
          1,
          2,
          3,
          4,
          5,
          6,
          7,
          8,
          9,
          10,
          11,
          12,
          13,
          14,
          15,
          16,
          17,
          18,
          19,
          20,
          21,
          22,
          23
         ],
         "title": {
          "text": "Hora del Día"
         }
        },
        "yaxis": {
         "anchor": "x",
         "domain": [
          0,
          1
         ],
         "title": {
          "text": "Frecuencia"
         }
        }
       }
      }
     },
     "metadata": {},
     "output_type": "display_data"
    }
   ],
   "source": [
    "# Creamos un DataFrame para contar la frecuencia por hora\n",
    "hour_counts = df_sonidos['Hour'].value_counts().sort_index().reset_index()\n",
    "hour_counts.columns = ['Hour', 'Frequency']\n",
    "\n",
    "# Creamos el gráfico de barras con Plotly Express\n",
    "fig = px.bar(hour_counts, x='Hour', y='Frequency', \n",
    "             labels={'Frequency': 'Frecuencia', 'Hour': 'Hora del Día'},\n",
    "             title='Frecuencia de Sonidos Registrados por Hora del Día',\n",
    "             template='plotly_white')\n",
    "\n",
    "# Añadimos bordes a las barras\n",
    "fig.update_traces(marker_line_color='black', marker_line_width=1.5)\n",
    "\n",
    "# Añadimos etiquetas encima de las barras con flecha\n",
    "for i, row in hour_counts.iterrows():\n",
    "    fig.add_annotation(\n",
    "        x=row['Hour'],\n",
    "        y=row['Frequency'],\n",
    "        text=str(row['Frequency']),\n",
    "        showarrow=True,\n",
    "        arrowhead=5,\n",
    "        ax=0,\n",
    "        ay=-30\n",
    "    )\n",
    "\n",
    "# Configuramos el diseño del gráfico\n",
    "fig.update_layout(\n",
    "    xaxis=dict(tickmode='array', tickvals=list(range(24)), ticktext=[f\"{i:02}:00\" for i in range(24)]),\n",
    "    title_x=0.5  # Ajuste para centrar el título horizontalmente\n",
    ")\n",
    "\n",
    "# Mostramos el gráfico\n",
    "fig.show()"
   ]
  },
  {
   "cell_type": "markdown",
   "metadata": {},
   "source": [
    "Se puede observar que desde las 08:00 hasta las 20:00 Hs es el rango horario donde mayor ruido de motor se registra en la Ciudad de New York."
   ]
  }
 ],
 "metadata": {
  "kernelspec": {
   "display_name": "Python 3",
   "language": "python",
   "name": "python3"
  },
  "language_info": {
   "codemirror_mode": {
    "name": "ipython",
    "version": 3
   },
   "file_extension": ".py",
   "mimetype": "text/x-python",
   "name": "python",
   "nbconvert_exporter": "python",
   "pygments_lexer": "ipython3",
   "version": "3.10.11"
  },
  "vscode": {
   "interpreter": {
    "hash": "d7514066a4d7325c4286872ce37e90444efca390fae243deee8bc6d6d3ba2622"
   }
  }
 },
 "nbformat": 4,
 "nbformat_minor": 2
}
