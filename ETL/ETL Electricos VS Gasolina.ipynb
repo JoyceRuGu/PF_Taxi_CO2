{
 "cells": [
  {
   "cell_type": "markdown",
   "metadata": {},
   "source": [
    "# ETL \n",
    "Tomando en consideración la información provista por el gobierno de Canada, con respecto al consumo de combustible en los autos de gasolina y electricos, se procede a realizar la extracción y transformación de los datos para un posterior análisis.\n",
    "\n",
    "Fuente: https://open.canada.ca/data/en/dataset/98f1a129-f628-4ce4-b24d-6f16bf24dd64\n",
    "\n",
    "Los archivos utilizados son:\n",
    "\n",
    "1. MY2023 Fuel Consumption Ratings.csv: Contiene la información de las principales marcas de autos que consumen gasolina, especificamente en los modelos del año 2023, mostrando ciertas características inherentes al automóvil.\n",
    "2. MY2012-2024 Battery Electric Vehicles.csv: Contiene la información de las principales marcas de autos eléctricos, desde los años 2012 al 2024, mostrando ciertas características inherentes al automóvil.\n",
    "\n",
    "Adicional, se trabajará con el archivo Electric and Alternative Fuel Charging Stations.csv provisto por la empresa, en el cuál se muestra el listado de las estaciones de carga de combustible, ya sea de gasolina o electrico en los estados unidos."
   ]
  },
  {
   "cell_type": "code",
   "execution_count": null,
   "metadata": {},
   "outputs": [],
   "source": [
    "# Se cargan las librerías necesarias para el análisis\n",
    "import pandas as pd # Librería para trabajar con dataframes\n",
    "import numpy as np # Librería para usos estadísticos"
   ]
  },
  {
   "cell_type": "markdown",
   "metadata": {},
   "source": [
    "# Archivo de autos de gasolina"
   ]
  },
  {
   "cell_type": "code",
   "execution_count": 32,
   "metadata": {},
   "outputs": [],
   "source": [
    "# Se procede a leer el archivo de autos de gasolina\n",
    "df_Autos_Gasolina = pd.read_csv('..\\DataSets\\MY2023 Fuel Consumption Ratings.csv', encoding=\"latin1\")"
   ]
  },
  {
   "cell_type": "code",
   "execution_count": 33,
   "metadata": {},
   "outputs": [],
   "source": [
    "# Ya que tenemos cargado nuestro archivo en el dataframe,\n",
    "# nos enfocamos en eliminar las columnas que no utilizaremos en el análisis\n",
    "# Se eliminan las columnas de Engine size, cylinders, transmission, fuel type, combined l/100 y combinen mpg\n",
    "EliminarColumnas = [\"Engine size (L)\", \"Cylinders\",\t\"Transmission\", \"Fuel type\", \"Combined (L/100 km)\", \"Combined (mpg)\"]\n",
    "df_Autos_Gasolina.drop(EliminarColumnas, axis=1, inplace = True)"
   ]
  },
  {
   "cell_type": "code",
   "execution_count": 34,
   "metadata": {},
   "outputs": [],
   "source": [
    "# Se procede a eliminar los registros duplicados\n",
    "df_Autos_Gasolina.drop_duplicates(inplace=True)"
   ]
  },
  {
   "cell_type": "code",
   "execution_count": 35,
   "metadata": {},
   "outputs": [],
   "source": [
    "# Agregamos las columnas que existen en el archivo de autos electricos para después unificar\n",
    "# Además, se agrega una columna adicional para hacer mención que es un auto de gasolina\n",
    "df_Autos_Gasolina['City (kWh/100 mi)'] = np.nan\n",
    "df_Autos_Gasolina['Highway (kWh/100 mi)'] = np.nan\n",
    "df_Autos_Gasolina['Range (mi)'] = np.nan\n",
    "df_Autos_Gasolina['Recharge time (h)'] = np.nan\n",
    "df_Autos_Gasolina['Type_Car'] = \"Gasoline\""
   ]
  },
  {
   "cell_type": "code",
   "execution_count": 36,
   "metadata": {},
   "outputs": [],
   "source": [
    "# Debido a que el sistema de métrico en estados unidos es diferente, se requiere hacer una transformación\n",
    "# Por ende, vamos a pasar una función para convertir los litros por kilometro a galones por milla\n",
    "def ConversionLKMaGMi(LitrosPorKilometro): # Recibimos como argumento el valor a transformar\n",
    "    # Tomando en cuenta que que un litro es aproximadamente 0.264172 galones\n",
    "    # Tenemos que multiplicar los litros recibidos por esta equivalencia, posteriormente dividir entre 100, ya que es la cantidad de kilometros en lo que está medida\n",
    "    # De esta forma sacamos el valor unitario de cuantos galones por kilometro se gasta\n",
    "    GalonesPorKilometro = LitrosPorKilometro * 0.264172 / 100 # Se aplica la formula\n",
    "    MillasPorKilometro = 0.621371 # Esta es la equivalencia de cuantos kilometros hay en una mulla\n",
    "    GalonesPorMilla = (GalonesPorKilometro * MillasPorKilometro) # Se realiza la multiplicación para \n",
    "    return GalonesPorMilla # Se retorna el valor calculado\n",
    "\n",
    "# Creamos las nuevas columnas con los valores convertidos\n",
    "df_Autos_Gasolina['City (Gal/mi)'] = df_Autos_Gasolina['City (L/100 km)'].apply(ConversionLKMaGMi)\n",
    "df_Autos_Gasolina['Highway (Gal/mi)'] = df_Autos_Gasolina['Highway (L/100 km)'].apply(ConversionLKMaGMi)"
   ]
  },
  {
   "cell_type": "code",
   "execution_count": 37,
   "metadata": {},
   "outputs": [
    {
     "name": "stdout",
     "output_type": "stream",
     "text": [
      "<class 'pandas.core.frame.DataFrame'>\n",
      "Index: 831 entries, 0 to 832\n",
      "Data columns (total 14 columns):\n",
      " #   Column                Non-Null Count  Dtype  \n",
      "---  ------                --------------  -----  \n",
      " 0   Model year            831 non-null    int64  \n",
      " 1   Make                  831 non-null    object \n",
      " 2   Model                 831 non-null    object \n",
      " 3   Vehicle class         831 non-null    object \n",
      " 4   CO2 emissions (g/km)  831 non-null    int64  \n",
      " 5   CO2 rating            831 non-null    int64  \n",
      " 6   Smog rating           831 non-null    int64  \n",
      " 7   City (kWh/100 mi)     0 non-null      float64\n",
      " 8   Highway (kWh/100 mi)  0 non-null      float64\n",
      " 9   Range (mi)            0 non-null      float64\n",
      " 10  Recharge time (h)     0 non-null      float64\n",
      " 11  Type_Car              831 non-null    object \n",
      " 12  City (Gal/mi)         831 non-null    float64\n",
      " 13  Highway (Gal/mi)      831 non-null    float64\n",
      "dtypes: float64(6), int64(4), object(4)\n",
      "memory usage: 97.4+ KB\n"
     ]
    }
   ],
   "source": [
    "# Se eliminan las columnas del sistema métrico anterior\n",
    "EliminarColumnas = [\"City (L/100 km)\", \"Highway (L/100 km)\"]\n",
    "df_Autos_Gasolina.drop(EliminarColumnas, axis=1, inplace = True)\n",
    "df_Autos_Gasolina.info()"
   ]
  },
  {
   "cell_type": "markdown",
   "metadata": {},
   "source": [
    "# Archivo de autos eléctricos"
   ]
  },
  {
   "cell_type": "code",
   "execution_count": 38,
   "metadata": {},
   "outputs": [],
   "source": [
    "# Se procede a leer el archivo de autos electricos\n",
    "df_Autos_Electricos = pd.read_csv('..\\DataSets\\MY2012-2024 Battery Electric Vehicles.csv', encoding=\"utf-8\")"
   ]
  },
  {
   "cell_type": "code",
   "execution_count": 39,
   "metadata": {},
   "outputs": [],
   "source": [
    "# Ya que tenemos cargado nuestro archivo en el dataframe,\n",
    "# nos enfocamos en eliminar las columnas que no utilizaremos en el análisis\n",
    "# Se eliminan las columnas de Engine size, cylinders, transmission, fuel type, combined l/100 y combinen mpg\n",
    "EliminarColumnas = [\"Motor (kW)\", \"Transmission\", \"Fuel type\", \"Combined (kWh/100 km)\", \"Combined (Le/100 km)\"]\n",
    "df_Autos_Electricos.drop(EliminarColumnas, axis=1, inplace = True)"
   ]
  },
  {
   "cell_type": "code",
   "execution_count": 40,
   "metadata": {},
   "outputs": [],
   "source": [
    "# Se procede a eliminar los registros duplicados\n",
    "df_Autos_Electricos.drop_duplicates(inplace=True)"
   ]
  },
  {
   "cell_type": "code",
   "execution_count": 41,
   "metadata": {},
   "outputs": [],
   "source": [
    "# Renombramos las columnas para unificar títulos\n",
    "df_Autos_Electricos = df_Autos_Electricos.rename(columns={'City (Le/100 km)': 'City (L/100 km)', 'Highway (Le/100 km)': 'Highway (L/100 km)', 'CO2 rating ': 'CO2 rating'})"
   ]
  },
  {
   "cell_type": "code",
   "execution_count": 42,
   "metadata": {},
   "outputs": [],
   "source": [
    "# Agregamos una columna adicional para mencionar que es un auto electrico\n",
    "df_Autos_Electricos['Type_Car'] = \"Electric\""
   ]
  },
  {
   "cell_type": "code",
   "execution_count": 43,
   "metadata": {},
   "outputs": [],
   "source": [
    "# Filtramos nuestro archivo para mostrar únicamente los valores que pertenezcan a modelos del año 2023\n",
    "df_Autos_Electricos = df_Autos_Electricos[df_Autos_Electricos['Model year'] == 2023]"
   ]
  },
  {
   "cell_type": "code",
   "execution_count": 44,
   "metadata": {},
   "outputs": [],
   "source": [
    "# Igual que en el archivo de autos de combustible, se procede a convertir los Litros/Kilómetro a Galones/Milla\n",
    "df_Autos_Electricos['City (Gal/mi)'] = df_Autos_Electricos['City (L/100 km)'].apply(ConversionLKMaGMi)\n",
    "df_Autos_Electricos['Highway (Gal/mi)'] = df_Autos_Electricos['Highway (L/100 km)'].apply(ConversionLKMaGMi)\n",
    "# Transformamos los valores de Kilometros a millas haciendo la multiplicación por su equivalencia\n",
    "df_Autos_Electricos['Range (mi)'] = df_Autos_Electricos['Range (km)'] * 0.621371\n",
    "df_Autos_Electricos[\"City (kWh/100 mi)\"] = df_Autos_Electricos[\"City (kWh/100 km)\"] * 1.60934\n",
    "df_Autos_Electricos[\"Highway (kWh/100 mi)\"] = df_Autos_Electricos[\"Highway (kWh/100 km)\"] * 1.60934\n",
    "\n",
    "# Se eliminan las columnas del sistema métrico anterior\n",
    "EliminarColumnas = [\"City (L/100 km)\", \"Highway (L/100 km)\", \"Range (km)\", \"City (kWh/100 km)\", \"Highway (kWh/100 km)\"]\n",
    "df_Autos_Electricos.drop(EliminarColumnas, axis=1, inplace = True)"
   ]
  },
  {
   "cell_type": "code",
   "execution_count": 45,
   "metadata": {},
   "outputs": [
    {
     "name": "stdout",
     "output_type": "stream",
     "text": [
      "<class 'pandas.core.frame.DataFrame'>\n",
      "Index: 159 entries, 311 to 469\n",
      "Data columns (total 14 columns):\n",
      " #   Column                Non-Null Count  Dtype  \n",
      "---  ------                --------------  -----  \n",
      " 0   Model year            159 non-null    int64  \n",
      " 1   Make                  159 non-null    object \n",
      " 2   Model                 159 non-null    object \n",
      " 3   Vehicle class         159 non-null    object \n",
      " 4   CO2 emissions (g/km)  159 non-null    int64  \n",
      " 5   CO2 rating            159 non-null    float64\n",
      " 6   Smog rating           159 non-null    float64\n",
      " 7   Recharge time (h)     159 non-null    float64\n",
      " 8   Type_Car              159 non-null    object \n",
      " 9   City (Gal/mi)         159 non-null    float64\n",
      " 10  Highway (Gal/mi)      159 non-null    float64\n",
      " 11  Range (mi)            159 non-null    float64\n",
      " 12  City (kWh/100 mi)     159 non-null    float64\n",
      " 13  Highway (kWh/100 mi)  159 non-null    float64\n",
      "dtypes: float64(8), int64(2), object(4)\n",
      "memory usage: 18.6+ KB\n"
     ]
    }
   ],
   "source": [
    "# Verificamos que los campos no tengan valores nulos\n",
    "df_Autos_Electricos.info()"
   ]
  },
  {
   "cell_type": "code",
   "execution_count": 46,
   "metadata": {},
   "outputs": [],
   "source": [
    "# Se procede a unir ambos dataframe en uno solo para posteriormente exportarlo a un archivo csv limpio y unificado\n",
    "df_Autos = pd.merge(df_Autos_Gasolina, df_Autos_Electricos, on=['Model year', 'Make', 'Model', 'Vehicle class', 'City (Gal/mi)', 'Highway (Gal/mi)', 'CO2 emissions (g/km)', 'CO2 rating', 'Smog rating', 'City (kWh/100 mi)', 'Highway (kWh/100 mi)', 'Range (mi)', 'Recharge time (h)', 'Type_Car'], how=\"outer\")"
   ]
  },
  {
   "cell_type": "code",
   "execution_count": 47,
   "metadata": {},
   "outputs": [
    {
     "data": {
      "text/html": [
       "<div>\n",
       "<style scoped>\n",
       "    .dataframe tbody tr th:only-of-type {\n",
       "        vertical-align: middle;\n",
       "    }\n",
       "\n",
       "    .dataframe tbody tr th {\n",
       "        vertical-align: top;\n",
       "    }\n",
       "\n",
       "    .dataframe thead th {\n",
       "        text-align: right;\n",
       "    }\n",
       "</style>\n",
       "<table border=\"1\" class=\"dataframe\">\n",
       "  <thead>\n",
       "    <tr style=\"text-align: right;\">\n",
       "      <th></th>\n",
       "      <th>Model year</th>\n",
       "      <th>Make</th>\n",
       "      <th>Model</th>\n",
       "      <th>Vehicle class</th>\n",
       "      <th>CO2 emissions (g/km)</th>\n",
       "      <th>CO2 rating</th>\n",
       "      <th>Smog rating</th>\n",
       "      <th>City (kWh/100 mi)</th>\n",
       "      <th>Highway (kWh/100 mi)</th>\n",
       "      <th>Range (mi)</th>\n",
       "      <th>Recharge time (h)</th>\n",
       "      <th>Type_Car</th>\n",
       "      <th>City (Gal/mi)</th>\n",
       "      <th>Highway (Gal/mi)</th>\n",
       "    </tr>\n",
       "  </thead>\n",
       "  <tbody>\n",
       "    <tr>\n",
       "      <th>0</th>\n",
       "      <td>2023</td>\n",
       "      <td>Acura</td>\n",
       "      <td>Integra</td>\n",
       "      <td>Full-size</td>\n",
       "      <td>167</td>\n",
       "      <td>6.0</td>\n",
       "      <td>7.0</td>\n",
       "      <td>NaN</td>\n",
       "      <td>NaN</td>\n",
       "      <td>NaN</td>\n",
       "      <td>NaN</td>\n",
       "      <td>Gasoline</td>\n",
       "      <td>0.012968</td>\n",
       "      <td>0.010341</td>\n",
       "    </tr>\n",
       "    <tr>\n",
       "      <th>1</th>\n",
       "      <td>2023</td>\n",
       "      <td>Acura</td>\n",
       "      <td>Integra A-SPEC</td>\n",
       "      <td>Full-size</td>\n",
       "      <td>172</td>\n",
       "      <td>6.0</td>\n",
       "      <td>7.0</td>\n",
       "      <td>NaN</td>\n",
       "      <td>NaN</td>\n",
       "      <td>NaN</td>\n",
       "      <td>NaN</td>\n",
       "      <td>Gasoline</td>\n",
       "      <td>0.013296</td>\n",
       "      <td>0.010670</td>\n",
       "    </tr>\n",
       "    <tr>\n",
       "      <th>2</th>\n",
       "      <td>2023</td>\n",
       "      <td>Acura</td>\n",
       "      <td>Integra A-SPEC</td>\n",
       "      <td>Full-size</td>\n",
       "      <td>181</td>\n",
       "      <td>6.0</td>\n",
       "      <td>6.0</td>\n",
       "      <td>NaN</td>\n",
       "      <td>NaN</td>\n",
       "      <td>NaN</td>\n",
       "      <td>NaN</td>\n",
       "      <td>Gasoline</td>\n",
       "      <td>0.014609</td>\n",
       "      <td>0.010670</td>\n",
       "    </tr>\n",
       "    <tr>\n",
       "      <th>3</th>\n",
       "      <td>2023</td>\n",
       "      <td>Acura</td>\n",
       "      <td>MDX SH-AWD</td>\n",
       "      <td>Sport utility vehicle: Small</td>\n",
       "      <td>263</td>\n",
       "      <td>4.0</td>\n",
       "      <td>5.0</td>\n",
       "      <td>NaN</td>\n",
       "      <td>NaN</td>\n",
       "      <td>NaN</td>\n",
       "      <td>NaN</td>\n",
       "      <td>Gasoline</td>\n",
       "      <td>0.020683</td>\n",
       "      <td>0.015430</td>\n",
       "    </tr>\n",
       "    <tr>\n",
       "      <th>4</th>\n",
       "      <td>2023</td>\n",
       "      <td>Acura</td>\n",
       "      <td>MDX SH-AWD Type S</td>\n",
       "      <td>Sport utility vehicle: Standard</td>\n",
       "      <td>291</td>\n",
       "      <td>4.0</td>\n",
       "      <td>5.0</td>\n",
       "      <td>NaN</td>\n",
       "      <td>NaN</td>\n",
       "      <td>NaN</td>\n",
       "      <td>NaN</td>\n",
       "      <td>Gasoline</td>\n",
       "      <td>0.022653</td>\n",
       "      <td>0.018385</td>\n",
       "    </tr>\n",
       "  </tbody>\n",
       "</table>\n",
       "</div>"
      ],
      "text/plain": [
       "   Model year   Make              Model                    Vehicle class  \\\n",
       "0        2023  Acura            Integra                        Full-size   \n",
       "1        2023  Acura     Integra A-SPEC                        Full-size   \n",
       "2        2023  Acura     Integra A-SPEC                        Full-size   \n",
       "3        2023  Acura         MDX SH-AWD     Sport utility vehicle: Small   \n",
       "4        2023  Acura  MDX SH-AWD Type S  Sport utility vehicle: Standard   \n",
       "\n",
       "   CO2 emissions (g/km)  CO2 rating  Smog rating  City (kWh/100 mi)  \\\n",
       "0                   167         6.0          7.0                NaN   \n",
       "1                   172         6.0          7.0                NaN   \n",
       "2                   181         6.0          6.0                NaN   \n",
       "3                   263         4.0          5.0                NaN   \n",
       "4                   291         4.0          5.0                NaN   \n",
       "\n",
       "   Highway (kWh/100 mi)  Range (mi)  Recharge time (h)  Type_Car  \\\n",
       "0                   NaN         NaN                NaN  Gasoline   \n",
       "1                   NaN         NaN                NaN  Gasoline   \n",
       "2                   NaN         NaN                NaN  Gasoline   \n",
       "3                   NaN         NaN                NaN  Gasoline   \n",
       "4                   NaN         NaN                NaN  Gasoline   \n",
       "\n",
       "   City (Gal/mi)  Highway (Gal/mi)  \n",
       "0       0.012968          0.010341  \n",
       "1       0.013296          0.010670  \n",
       "2       0.014609          0.010670  \n",
       "3       0.020683          0.015430  \n",
       "4       0.022653          0.018385  "
      ]
     },
     "execution_count": 47,
     "metadata": {},
     "output_type": "execute_result"
    }
   ],
   "source": [
    "# Verificamos los valores de nuestro dataframe unido\n",
    "df_Autos.head()"
   ]
  },
  {
   "cell_type": "code",
   "execution_count": 48,
   "metadata": {},
   "outputs": [],
   "source": [
    "# Exportamos el resultado de nuestro dataframe en un archivo de tipo csv\n",
    "df_Autos.to_csv('..\\DataSets\\Autos2023.csv', index=False)"
   ]
  },
  {
   "cell_type": "markdown",
   "metadata": {},
   "source": [
    "Diccionario de datos Autos 2023:\n",
    "Este archivo, contiene la \n",
    "Especificamos el significado de cada una de las columnas.\n",
    "\n",
    "Model year: El año al que pertenece el modelo del auto\n",
    "Make: EL fabricante del auto\n",
    "Model: El modelo del auto\n",
    "Vehicle class: El tipo de vehículo\n",
    "City (Gal/mi): Cantidad de galones que consume por milla recorrida dentro de la ciudad\n",
    "Highway (Gal/mi): Cantidad de galones que consume por milla recorrida en carreteras\n",
    "CO2 emissions (g/km): Emisión de CO2 emitido a la atmosfera en una medida de gramos por kilometro recorrido\n",
    "CO2 rating: Las emisiones de dióxido de carbono del tubo de escape del vehículo se clasifican en una escala del 1 (peor) al 10 (mejor).\n",
    "Smog rating: Las emisiones del tubo de escape del vehículo de contaminantes que forman smog se clasifican en una escala del 1 (peor) al 10 (mejor).\n",
    "City (kWh/100 mi): Cantidad de kiloWhats Hora que se consumen por cada 100 millas recorridos dentro de la ciudad\n",
    "Highway (kWh/100 mi): Cantidad de kiloWhats Hora que se consumen por cada 100 millas recorridos dentro de carreteras\n",
    "Range (mi): Millas que puede recorrer el auto con una carga completa de su batería\n",
    "Recharge time (h): Cantidade de horas que se requieren para cargar por completo la batería del auto\n",
    "Type_Car: Define si el auto es de gasolina o es eléctrico"
   ]
  },
  {
   "cell_type": "markdown",
   "metadata": {},
   "source": [
    "# Archivo de estaciones de carga"
   ]
  },
  {
   "cell_type": "code",
   "execution_count": 49,
   "metadata": {},
   "outputs": [
    {
     "name": "stderr",
     "output_type": "stream",
     "text": [
      "C:\\Users\\Windows10\\AppData\\Local\\Temp\\ipykernel_8812\\3251425989.py:2: DtypeWarning: Columns (6,16,20,31,33,36,39,40,41,43,46,52,53,55,57,58,60,62) have mixed types. Specify dtype option on import or set low_memory=False.\n",
      "  df_Estaciones_Carga = pd.read_csv('..\\DataSets\\Electric and Alternative Fuel Charging Stations.csv', encoding=\"utf-8\")\n"
     ]
    }
   ],
   "source": [
    "# Se procede a leer el archivo de autos electricos\n",
    "df_Estaciones_Carga = pd.read_csv('..\\DataSets\\Electric and Alternative Fuel Charging Stations.csv', encoding=\"utf-8\")"
   ]
  },
  {
   "cell_type": "code",
   "execution_count": 50,
   "metadata": {},
   "outputs": [],
   "source": [
    "# Este archivo contiene todas las estaciones de carga de combustible de gasolina y electricos en USA, \n",
    "# Por lo que primero vamos a filtrar únicamente las estaciones de carga para autos electricos en el estado de Nueva York\n",
    "df_Estaciones_Carga = df_Estaciones_Carga[df_Estaciones_Carga[\"Fuel Type Code\"] == \"ELEC\"]\n",
    "df_Estaciones_Carga = df_Estaciones_Carga[df_Estaciones_Carga[\"State\"] == \"NY\"]"
   ]
  },
  {
   "cell_type": "code",
   "execution_count": 51,
   "metadata": {},
   "outputs": [],
   "source": [
    "# Este archivo contiene muchas columnas que no vamos a ocupar, \n",
    "# Por lo que se procede a eliminar las columnas que no serán parte de nuestro análisis\n",
    "\n",
    "# Primero, definimos el nombre de las columnas que sí vamos a utilizar\n",
    "ConservarColumnas = [\"Station Name\", \"Street Address\", \"City\", \"State\", \"ZIP\", \"Station Phone\", \"Latitude\", \"Longitude\", \"ID\", \"EV Pricing\"]\n",
    "df_Estaciones_Carga = df_Estaciones_Carga[ConservarColumnas]"
   ]
  },
  {
   "cell_type": "code",
   "execution_count": 52,
   "metadata": {},
   "outputs": [],
   "source": [
    "# Se procede a eliminar los registros duplicados\n",
    "df_Estaciones_Carga.drop_duplicates(inplace=True)"
   ]
  },
  {
   "cell_type": "code",
   "execution_count": 53,
   "metadata": {},
   "outputs": [],
   "source": [
    "# Renombramos la columna de precio para posteriormente agrupar sus valores en una nueva columna\n",
    "df_Estaciones_Carga = df_Estaciones_Carga.rename(columns={'EV Pricing': 'EV Pricing Detail'})"
   ]
  },
  {
   "cell_type": "code",
   "execution_count": 54,
   "metadata": {},
   "outputs": [],
   "source": [
    "# Vamos a crear una nueva nueva columna, en la que vamos a agrupar el precio de la carga de combustible en 3 valores\n",
    "# Carga gratis, con costo o sin datos\n",
    "# Para ello, vamos a crear una función, la cuál va a recibir como parámetro un valor, \n",
    "# mismo que se va a analizar utilizando condiciones y definir cuál será el valor que se asignará a la nueva columna\n",
    "\n",
    "def Asignar_Precio(Valor):\n",
    "    if pd.isna(Valor) or Valor == \"\":\n",
    "        return np.nan\n",
    "    elif \"Free\" in Valor:\n",
    "        return \"Free\"\n",
    "    elif \"Free; donations encouraged\" in Valor:\n",
    "        return \"Free\"\n",
    "    else:\n",
    "        return \"Cost\""
   ]
  },
  {
   "cell_type": "code",
   "execution_count": 55,
   "metadata": {},
   "outputs": [],
   "source": [
    "# Utilizando la función anterior, se procede a crear la nueva columna de precio agrupado\n",
    "df_Estaciones_Carga['EV Price'] = df_Estaciones_Carga['EV Pricing Detail'].apply(Asignar_Precio)"
   ]
  },
  {
   "cell_type": "code",
   "execution_count": 56,
   "metadata": {},
   "outputs": [],
   "source": [
    "# Exportamos el resultado de nuestro dataframe en un archivo de tipo csv\n",
    "df_Estaciones_Carga.to_csv('..\\DataSets\\Estaciones_Carga_NY.csv', index=False)"
   ]
  },
  {
   "cell_type": "markdown",
   "metadata": {},
   "source": [
    "# Diccionario de datos\n",
    "Se crea un diccionario de datos para definir el significado de cada una de las columnas del archivo\n",
    "\n",
    "Station Name: Nombre de la estación de carga\n",
    "Street Address: Calle en la que se ubica la estación\n",
    "City: Ciudad a la que pertenece la estación de carga\n",
    "State: Estado en donde se encuentra la estación de carga\n",
    "ZIP: Codigo postal de la estación de carga\n",
    "Station Phone: Teléfono de la estación de carga\n",
    "Latitude: Latitud geográfica de la estación de carga\n",
    "Longitude: Longitud geográfica de la estación de carga\n",
    "ID: Identificador de la estación de carga\n",
    "EV Pricing Detail: Detalle del precio que cobran en la estación de carga\n",
    "EV Price: Clasificación de cobro de la estación, para saber si la carga tiene un costo es gratuita\n"
   ]
  }
 ],
 "metadata": {
  "kernelspec": {
   "display_name": "Python 3",
   "language": "python",
   "name": "python3"
  },
  "language_info": {
   "codemirror_mode": {
    "name": "ipython",
    "version": 3
   },
   "file_extension": ".py",
   "mimetype": "text/x-python",
   "name": "python",
   "nbconvert_exporter": "python",
   "pygments_lexer": "ipython3",
   "version": "3.11.4"
  }
 },
 "nbformat": 4,
 "nbformat_minor": 2
}
