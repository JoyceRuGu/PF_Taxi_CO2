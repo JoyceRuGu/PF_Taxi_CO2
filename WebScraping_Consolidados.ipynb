{
 "cells": [
  {
   "cell_type": "code",
   "execution_count": 1,
   "metadata": {},
   "outputs": [],
   "source": [
    "# Importar librerias\n",
    "import pandas as pd\n",
    "import glob\n",
    "import requests\n",
    "from bs4 import BeautifulSoup\n",
    "import os"
   ]
  },
  {
   "cell_type": "code",
   "execution_count": 2,
   "metadata": {},
   "outputs": [],
   "source": [
    "def web_scraping_descarga_archivos(url_pagina, directorio_destino):\n",
    "    response = requests.get(url_pagina)\n",
    "    if response.status_code == 200:\n",
    "        soup = BeautifulSoup(response.text, 'html.parser')\n",
    "        # Se modifica el 'id' para obtener los url de los archivos 'Yellow Taxi Trip Records' del 2023,2022,2021\n",
    "        target_div = soup.find('div', {'class': 'faq-answers', 'id': [  'faq2021']})\n",
    "\n",
    "        if target_div:\n",
    "            # Buscar los enlaces <a> dentro de target_div que tienen title=\"Yellow Taxi Trip Records\"\n",
    "            yellow_taxi_links = target_div.find_all('a', title='Yellow Taxi Trip Records')\n",
    "\n",
    "        if yellow_taxi_links:\n",
    "            print(\"Enlaces con el título 'Yellow Taxi Trip Records':\")\n",
    "            links = []\n",
    "            for link in yellow_taxi_links:\n",
    "                links.append(link.get('href'))\n",
    "                print(link.get('href'))  # Imprime el enlace URL\n",
    "        else:\n",
    "            print(\"No se encontraron enlaces con el título 'Yellow Taxi Trip Records' dentro de 'faq-answers'.\")\n",
    "        enlaces = soup.find_all('a', href=True)\n",
    "    else:\n",
    "        print(f\"No se pudo acceder a la página {url_pagina}\")\n",
    "\n",
    "\n",
    "def descargar_archivo(urls, directorio_destino):\n",
    "    for url in urls:\n",
    "        response = requests.get(url, stream=True)\n",
    "        if response.status_code == 200:\n",
    "            nombre_archivo = os.path.join(directorio_destino, url.split(\"/\")[-1])\n",
    "            with open(nombre_archivo, 'wb') as archivo:\n",
    "                for chunk in response.iter_content(chunk_size=128):\n",
    "                    archivo.write(chunk)\n",
    "            print(f\"Archivo descargado: {nombre_archivo}\")\n",
    "        else:\n",
    "            print(f\"No se pudo descargar el archivo de {url}\")"
   ]
  },
  {
   "cell_type": "code",
   "execution_count": 3,
   "metadata": {},
   "outputs": [
    {
     "name": "stdout",
     "output_type": "stream",
     "text": [
      "Enlaces con el título 'Yellow Taxi Trip Records':\n",
      "https://d37ci6vzurychx.cloudfront.net/trip-data/yellow_tripdata_2021-01.parquet\n",
      "https://d37ci6vzurychx.cloudfront.net/trip-data/yellow_tripdata_2021-02.parquet\n",
      "https://d37ci6vzurychx.cloudfront.net/trip-data/yellow_tripdata_2021-03.parquet\n",
      "https://d37ci6vzurychx.cloudfront.net/trip-data/yellow_tripdata_2021-04.parquet\n",
      "https://d37ci6vzurychx.cloudfront.net/trip-data/yellow_tripdata_2021-05.parquet\n",
      "https://d37ci6vzurychx.cloudfront.net/trip-data/yellow_tripdata_2021-06.parquet\n",
      "https://d37ci6vzurychx.cloudfront.net/trip-data/yellow_tripdata_2021-07.parquet\n",
      "https://d37ci6vzurychx.cloudfront.net/trip-data/yellow_tripdata_2021-08.parquet\n",
      "https://d37ci6vzurychx.cloudfront.net/trip-data/yellow_tripdata_2021-09.parquet\n",
      "https://d37ci6vzurychx.cloudfront.net/trip-data/yellow_tripdata_2021-10.parquet\n",
      "https://d37ci6vzurychx.cloudfront.net/trip-data/yellow_tripdata_2021-11.parquet\n",
      "https://d37ci6vzurychx.cloudfront.net/trip-data/yellow_tripdata_2021-12.parquet\n"
     ]
    }
   ],
   "source": [
    "url='https://www.nyc.gov/site/tlc/about/tlc-trip-record-data.page'     \n",
    "directorio_destino='C:/Users/User/Streaming de Google Drive/.shortcut-targets-by-id/1-71l0u3DSqGGhYzt-ZbFlda5ytMDoEFd/Proyecto_individual_1/PF_TAXI_NYC'\n",
    "web_scraping_descarga_archivos(url,directorio_destino)"
   ]
  },
  {
   "cell_type": "code",
   "execution_count": null,
   "metadata": {},
   "outputs": [],
   "source": [
    "urls=['https://d37ci6vzurychx.cloudfront.net/trip-data/yellow_tripdata_2023-01.parquet',\n",
    "'https://d37ci6vzurychx.cloudfront.net/trip-data/yellow_tripdata_2023-02.parquet',\n",
    "'https://d37ci6vzurychx.cloudfront.net/trip-data/yellow_tripdata_2023-03.parquet',\n",
    "'https://d37ci6vzurychx.cloudfront.net/trip-data/yellow_tripdata_2023-04.parquet',\n",
    "'https://d37ci6vzurychx.cloudfront.net/trip-data/yellow_tripdata_2023-05.parquet',\n",
    "'https://d37ci6vzurychx.cloudfront.net/trip-data/yellow_tripdata_2023-06.parquet',\n",
    "'https://d37ci6vzurychx.cloudfront.net/trip-data/yellow_tripdata_2023-07.parquet', \n",
    "'https://d37ci6vzurychx.cloudfront.net/trip-data/yellow_tripdata_2023-08.parquet', \n",
    "'https://d37ci6vzurychx.cloudfront.net/trip-data/yellow_tripdata_2023-09.parquet', \n",
    "'https://d37ci6vzurychx.cloudfront.net/trip-data/yellow_tripdata_2023-10.parquet', \n",
    "'https://d37ci6vzurychx.cloudfront.net/trip-data/yellow_tripdata_2023-11.parquet']\n",
    "directorio_destino='C:/Users/User/Streaming de Google Drive/.shortcut-targets-by-id/1-71l0u3DSqGGhYzt-ZbFlda5ytMDoEFd/Proyecto_individual_1/PF_TAXI_NYC/WebScraping/Taxi_2023'\n",
    "descargar_archivo(urls,directorio_destino)"
   ]
  },
  {
   "cell_type": "markdown",
   "metadata": {},
   "source": [
    "### 3. Union de los archivos del año 2023."
   ]
  },
  {
   "cell_type": "code",
   "execution_count": 2,
   "metadata": {},
   "outputs": [],
   "source": [
    "# Se obtiene lista de los archivos parquet del año 2023\n",
    "archivos_parquet_2023 = glob.glob(\"C:/Users/User/Desktop/PF_NYC_CO2/WebScraping/Taxi_2023/*.parquet\")\n",
    "# Se lee cada archivo parquet en un DataFrame de pandas\n",
    "dfs2023 = [pd.read_parquet(f) for f in archivos_parquet_2023]\n",
    "# Se unen los dataframes en uno\n",
    "df_2023 = pd.concat(dfs2023)"
   ]
  },
  {
   "cell_type": "code",
   "execution_count": 4,
   "metadata": {},
   "outputs": [],
   "source": [
    "# Se guarda el DataFrame resultante en un archivo Parquet\n",
    "df_2023.to_parquet('Taxi_2023.parquet', index=False)"
   ]
  }
 ],
 "metadata": {
  "kernelspec": {
   "display_name": "Python 3",
   "language": "python",
   "name": "python3"
  },
  "language_info": {
   "codemirror_mode": {
    "name": "ipython",
    "version": 3
   },
   "file_extension": ".py",
   "mimetype": "text/x-python",
   "name": "python",
   "nbconvert_exporter": "python",
   "pygments_lexer": "ipython3",
   "version": "3.11.4"
  }
 },
 "nbformat": 4,
 "nbformat_minor": 2
}
