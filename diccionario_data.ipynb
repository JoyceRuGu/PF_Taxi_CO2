{
 "cells": [
  {
   "cell_type": "markdown",
   "metadata": {},
   "source": [
    "# DICCIONARIO DE DATOS\n"
   ]
  },
  {
   "cell_type": "markdown",
   "metadata": {},
   "source": [
    "### TAXI FUEL"
   ]
  },
  {
   "cell_type": "markdown",
   "metadata": {},
   "source": [
    "| Columna            | Descripción                                                             |\n",
|--------------------|-------------------------------------------------------------------------|\n",
| Year               | Año de fabricación del vehículo                                        |\n",
| Manufacturer       | Marca del vehículo                                                     |\n",
| Model              | Modelo del vehículo                                                     |\n",
| CO2 (p/mile)       | Emisiones de CO2 por milla                                             |\n",
| Miles per gallon (mpg) | Consumo de combustible en millas por galón                         |\n",
| ef_x_comb          | Puntuación de eficiencia del vehículo por combustible                  |\n",
| comb_x_year        | Gasto estimado de combustible por año                                  |\n",
| Fuel               | Tipo de combustible utilizado por el vehículo                          |\n",
| score_ghg          | Puntuación de emisiones de gases de efecto invernadero (GHG) por vehículo |\n",
| ef_x_comb_city     | Eficiencia de combustible en condiciones de conducción en la ciudad    |\n",
| youSaveSpend       | Indica cuánto se puede ahorrar o gastar en combustible en comparación con un vehículo promedio |\n",
| Alternative Fuel   | Tipo de combustible alternativo que puede utilizar                     |\n",
| createdOn          | Indica la fecha de creación de los registros en el conjunto de datos    |\n",
| modifiedOn         | Indica la fecha de modificación de los registros en el conjunto de datos|"

   ]
  },
  {
   "cell_type": "markdown",
   "metadata": {},
   "source": [
    "### TAXI 2023"
   ]
  },
  {
   "cell_type": "markdown",
   "metadata": {},
   "source": [
    "| Columna            | Descripción                                                             |\n",
    "|--------------------|-------------------------------------------------------------------------|\n",
    "| PULocationID       | Zona de taxis en la que se activó el taxímetro| \n",
    "| Borough      | Distrito| \n",
    "| Zone    |  Zona| \n",
    "| Service_Zone     | Zona de servicio| \n",
    "| Passenger_Count      |  El número de pasajeros en el vehículo| \n",
    "| Trip_Distance     |  La distancia de viaje transcurrida en millas informada por el taxímetro| \n",
    "| DOLocationID     | Zona de taxis de TLC en la que se desactivó el taxímetro| \n",
    "| RatecodeID      |  El código de tarifa final vigente al final del viaje| \n",
    "| Store_and_fwd_flag      |  Esta marca indica si el registro de viaje se mantuvo en la memoria del vehículo antes de enviarlo al proveedor, también conocido como \"almacenar y reenviar\", porque el vehículo no tenía conexión con el servidor| \n",
    "| Total_Amount     | El importe total cobrado a los pasajeros. No incluye propinas en efectivo| \n",
    "| Date_pickup     | Fecha de recogida| \n",
    "| Time_pickup      | Hora de recogida| \n",
    "| Date_dropoff     | Fecha de finalización| \n",
    "| Time_dropoff      | Hora de finalización| "
   ]
  },
  {
   "cell_type": "markdown",
   "metadata": {},
   "source": [
    "### ELECTRICOS VS GASOLINA"
   ]
  },
  {
   "cell_type": "markdown",
   "metadata": {},
   "source": [
    "| Columna            | Descripción                                                             |\n",
    "|--------------------|-------------------------------------------------------------------------|\n",
    "|Station Name| Nombre de la estación de carga|\n",
    "|Street Address| Calle en la que se ubica la estación|\n",
    "|City| Ciudad a la que pertenece la estación de carga|\n",
    "|State| Estado en donde se encuentra la estación de carga|\n",
    "|ZIP| Codigo postal de la estación de carga|\n",
    "|Station Phone| Teléfono de la estación de carga|\n",
    "|Latitude| Latitud geográfica de la estación de carga|\n",
    "|Longitude| Longitud geográfica de la estación de carga|\n",
    "|ID| Identificador de la estación de carga|\n",
    "|EV Pricing Detail| Detalle del precio que cobran en la estación de carga|\n",
    "|EV Price| Clasificación de cobro de la estación, para saber si la carga tiene un costo es gratuita|"
   ]
  },
  {
   "cell_type": "markdown",
   "metadata": {},
   "source": [
    "### Contaminacion"
   ]
  },
  {
   "cell_type": "markdown",
   "metadata": {},
   "source": [
    "| Columna            | Descripción                                                             |\n",
    "|--------------------|-------------------------------------------------------------------------|\n",
    "|Pollutant| El tipo de contaminante medido en la observación|\n",
    "|Measure Info| Información adicional sobre la medida del contaminante. En este caso, indica la unidad de medida utilizada para expresar la concentración del contaminante|\n",
    "|Geo Place Name| El nombre del lugar geográfico donde se realizó la medición. Estos podrían ser nombres de vecindarios, distritos o áreas geográficas específicas donde se recopilaron los datos de contaminación|\n",
    "|Year| El año en que se realizó la medición de la contaminación|\n",
    "|Data Value| El valor numérico de la concentración del contaminante medido, expresado en la unidad especificada en la columna \"Measure Info\"|"
   ]
  }
 ],
 "metadata": {
  "language_info": {
   "name": "python"
  }
 },
 "nbformat": 4,
 "nbformat_minor": 2
}
