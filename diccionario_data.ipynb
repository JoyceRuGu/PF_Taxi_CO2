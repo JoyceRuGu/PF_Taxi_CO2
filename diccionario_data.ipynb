{
 "cells": [
  {
   "cell_type": "markdown",
   "metadata": {},
   "source": [
    "# DICCIONARIO DE DATOS\n"
   ]
  },
  {
   "cell_type": "markdown",
   "metadata": {},
   "source": [
    "### TAXI FUEL"
   ]
  },
  {
   "cell_type": "markdown",
   "metadata": {},
   "source": [
    "| Columna            | Descripción                                                             |\n",
    "|--------------------|-------------------------------------------------------------------------|\n",
    "| Year               | Año de fabricación del vehículo                                        |\n",
    "| Manufacturer       | Fabricante del vehículo                                                |\n",
    "| Model              | Modelo del vehículo                                                     |\n",
    "| barrels08          | Consumo de barriles de combustible en ciudad                            |\n",
    "| barrelsA08         | Consumo de barriles de combustible en autopista                         |\n",
    "| charge240          | Carga de batería a 240V                                                |\n",
    "| city08             | Consumo de combustible en ciudad (mpg)                                  |\n",
    "| city08U            | Consumo de combustible en ciudad (equivalente a eléctrico)             |\n",
    "| cityA08            | Consumo de combustible en autopista (mpg)                              |\n",
    "| cityA08U           | Consumo de combustible en autopista (equivalente a eléctrico)         |\n",
    "| cityCD             | Consumo de combustible en ciudad (diesel)                               |\n",
    "| cityE              | Consumo de electricidad en ciudad (kWh/100 mi)                         |\n",
    "| cityUF             | Consumo de combustible en ciudad (diesel)                               |\n",
    "| co2                | Emisiones de dióxido de carbono (g/mi)                                  |\n",
    "| co2A               | Emisiones de dióxido de carbono alternativo (g/mi)                    |\n",
    "| co2TailpipeAGpm    | Emisiones de dióxido de carbono de la tubería de escape alternativa (g/mi) |\n",
    "| co2TailpipeGpm     | Emisiones de dióxido de carbono de la tubería de escape (g/mi)        |\n",
    "| comb08             | Consumo de combustible combinado (mpg)                                  |\n",
    "| comb08U            | Consumo de combustible combinado (equivalente a eléctrico)             |\n",
    "| combA08            | Consumo de combustible combinado en autopista (mpg)                    |\n",
    "| combA08U           | Consumo de combustible combinado en autopista (equivalente a eléctrico) |\n",
    "| combE              | Consumo de electricidad combinado (kWh/100 mi)                         |\n",
    "| combinedCD         | Consumo de combustible combinado (diesel)                               |\n",
    "| combinedUF         | Consumo de combustible combinado (diesel)                               |\n",
    "| cylinders          | Número de cilindros del motor                                          |\n",
    "| displ              | Desplazamiento del motor (litros)                                      |\n",
    "| drive              | Tipo de tracción del vehículo                                          |\n",
    "| engId              | Identificación del motor                                               |\n",
    "| eng_dscr           | Descripción del motor                                                  |\n",
    "| feScore            | Calificación de eficiencia de combustible                              |\n",
    "| fuelCost08         | Costo anual de combustible en ciudad                                    |\n",
    "| fuelCostA08        | Costo anual de combustible en autopista                                 |\n",
    "| fuelType           | Tipo de combustible principal del vehículo                             |\n",
    "| fuelType1          | Tipo de combustible principal del vehículo                             |\n",
    "| ghgScore           | Calificación de emisiones de gases de efecto invernadero               |\n",
    "| ghgScoreA          | Calificación de emisiones de gases de efecto invernadero alternativa  |\n",
    "| highway08          | Consumo de combustible en autopista (mpg)                              |\n",
    "| highway08U         | Consumo de combustible en autopista (equivalente a eléctrico)         |\n",
    "| highwayA08         | Consumo de combustible en autopista (mpg)                              |\n",
    "| highwayA08U        | Consumo de combustible en autopista (equivalente a eléctrico)         |\n",
    "| VClass             | Clase de vehículo                                                      |\n",
    "| highwayCD          | Consumo de combustible en autopista (diesel)                           |\n",
    "| highwayE           | Consumo de electricidad en autopista (kWh/100 mi)                      |\n",
    "| highwayUF          | Consumo de combustible en autopista (diesel)                           |\n",
    "| hlv                | Capacidad de carga del vehículo ligero                                  |\n",
    "| hpv                | Capacidad de pasajeros del vehículo ligero                              |\n",
    "| id                 | ID único del vehículo                                                  |\n",
    "| lv2                | Capacidad de carga del vehículo ligero                                  |\n",
    "| lv4                | Capacidad de carga del vehículo ligero                                  |\n",
    "| mpgData            | Tipo de datos de consumo de combustible                                 |\n",
    "| phevBlended        | Indicador de si el vehículo híbrido enchufable está mezclado           |\n",
    "| pv2                | Capacidad de pasajeros del vehículo ligero                              |\n",
    "| pv4                | Capacidad de pasajeros del vehículo ligero                              |\n",
    "| range              | Rango de conducción total                                              |\n",
    "| rangeCity          | Rango de conducción en ciudad                                          |\n",
    "| rangeCityA         | Rango de conducción en ciudad (eléctrico)                             |\n",
    "| rangeHwy           | Rango de conducción en autopista                                       |\n",
    "| rangeHwyA          | Rango de conducción en autopista (eléctrico)                          |\n",
    "| trany              | Tipo de transmisión                                                     |\n",
    "| UCity              | Consumo de combustible en ciudad ajustado (mpg)                       |\n",
    "| UCityA             | Consumo de combustible en ciudad ajustado (equivalente a eléctrico)   |\n",
    "| UHighway           | Consumo de combustible en autopista ajustado (mpg)                    |\n",
    "| UHighwayA          | Consumo de combustible en autopista ajustado (equivalente a eléctrico) |\n",
    "| youSaveSpend       | Ahorro o gasto estimado de combustible anual en comparación con un vehículo promedio |\n",
    "| guzzler            | Indicador de si el vehículo es un bebedor de combustible               |\n",
    "| trans_dscr         | Descripción de la transmisión                                           |\n",
    "| tCharger           | Tipo de cargador turbo                                                  |\n",
    "| sCharger           | Tipo de cargador sobrealimentado                                        |\n",
    "| atvType            | Tipo avanzado de tren motriz                                            |\n",
    "| fuelType2          | Tipo de combustible secundario del vehículo                             |\n",
    "| rangeA             | Rango de conducción total alternativo                                  |\n",
    "| evMotor            | Descripción del motor eléctrico                                         |\n",
    "| mfrCode            | Código del fabricante                                                   |\n",
    "| c240Dscr           | Descripción del motor c240                                              |\n",
    "| charge240b         | Carga de batería a 240V (alternativo)                                  |\n",
    "| c240bDscr          | Descripción del motor c240b                                             |\n",
    "| createdOn          | Fecha de creación del registro                                          |\n",
    "| modifiedOn         | Fecha de modificación del registro                                      |\n",
    "| startStop          | Indicador de si el vehículo tiene la función de arranque/parada automática |\n",
    "| phevCity           | Consumo de combustible|\n"
   ]
  },
  {
   "cell_type": "markdown",
   "metadata": {},
   "source": [
    "### TAXI 2023"
   ]
  },
  {
   "cell_type": "markdown",
   "metadata": {},
   "source": [
    "| Columna            | Descripción                                                             |\n",
    "|--------------------|-------------------------------------------------------------------------|\n",
    "| PULocationID       | Zona de taxis en la que se activó el taxímetro| \n",
    "| Borough      | Distrito| \n",
    "| Zone    |  Zona| \n",
    "| Service_Zone     | Zona de servicio| \n",
    "| Passenger_Count      |  El número de pasajeros en el vehículo| \n",
    "| Trip_Distance     |  La distancia de viaje transcurrida en millas informada por el taxímetro| \n",
    "| DOLocationID     | Zona de taxis de TLC en la que se desactivó el taxímetro| \n",
    "| RatecodeID      |  El código de tarifa final vigente al final del viaje| \n",
    "| Store_and_fwd_flag      |  Esta marca indica si el registro de viaje se mantuvo en la memoria del vehículo antes de enviarlo al proveedor, también conocido como \"almacenar y reenviar\", porque el vehículo no tenía conexión con el servidor| \n",
    "| Total_Amount     | El importe total cobrado a los pasajeros. No incluye propinas en efectivo| \n",
    "| Date_pickup     | Fecha de recogida| \n",
    "| Time_pickup      | Hora de recogida| \n",
    "| Date_dropoff     | Fecha de finalización| \n",
    "| Time_dropoff      | Hora de finalización| "
   ]
  },
  {
   "cell_type": "markdown",
   "metadata": {},
   "source": [
    "### ELECTRICOS VS GASOLINA"
   ]
  },
  {
   "cell_type": "markdown",
   "metadata": {},
   "source": [
    "| Columna            | Descripción                                                             |\n",
    "|--------------------|-------------------------------------------------------------------------|\n",
    "|Station Name| Nombre de la estación de carga|\n",
    "|Street Address| Calle en la que se ubica la estación|\n",
    "|City| Ciudad a la que pertenece la estación de carga|\n",
    "|State| Estado en donde se encuentra la estación de carga|\n",
    "|ZIP| Codigo postal de la estación de carga|\n",
    "|Station Phone| Teléfono de la estación de carga|\n",
    "|Latitude| Latitud geográfica de la estación de carga|\n",
    "|Longitude| Longitud geográfica de la estación de carga|\n",
    "|ID| Identificador de la estación de carga|\n",
    "|EV Pricing Detail| Detalle del precio que cobran en la estación de carga|\n",
    "|EV Price| Clasificación de cobro de la estación, para saber si la carga tiene un costo es gratuita|"
   ]
  },
  {
   "cell_type": "markdown",
   "metadata": {},
   "source": [
    "### Contaminacion"
   ]
  },
  {
   "cell_type": "markdown",
   "metadata": {},
   "source": [
    "| Columna            | Descripción                                                             |\n",
    "|--------------------|-------------------------------------------------------------------------|\n",
    "|Pollutant| El tipo de contaminante medido en la observación|\n",
    "|Measure Info| Información adicional sobre la medida del contaminante. En este caso, indica la unidad de medida utilizada para expresar la concentración del contaminante|\n",
    "|Geo Place Name| El nombre del lugar geográfico donde se realizó la medición. Estos podrían ser nombres de vecindarios, distritos o áreas geográficas específicas donde se recopilaron los datos de contaminación|\n",
    "|Year| El año en que se realizó la medición de la contaminación|\n",
    "|Data Value| El valor numérico de la concentración del contaminante medido, expresado en la unidad especificada en la columna \"Measure Info\"|"
   ]
  }
 ],
 "metadata": {
  "language_info": {
   "name": "python"
  }
 },
 "nbformat": 4,
 "nbformat_minor": 2
}
